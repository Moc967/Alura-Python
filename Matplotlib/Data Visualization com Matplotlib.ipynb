{
 "cells": [
  {
   "cell_type": "code",
   "execution_count": null,
   "metadata": {},
   "outputs": [],
   "source": [
    "import numpy as np\n",
    "import pandas as pd\n",
    "import matplotlib.pyplot as plt\n",
    "\n",
    "%matplotlib inline"
   ]
  },
  {
   "cell_type": "code",
   "execution_count": null,
   "metadata": {},
   "outputs": [],
   "source": [
    "df = pd.read_csv('iris.csv')"
   ]
  },
  {
   "cell_type": "code",
   "execution_count": null,
   "metadata": {},
   "outputs": [],
   "source": [
    "df.head()"
   ]
  },
  {
   "cell_type": "code",
   "execution_count": null,
   "metadata": {},
   "outputs": [],
   "source": [
    "fig = plt.figure(figsize=(15,8))\n",
    "eixo = fig.add_axes([0,0,1,1])\n",
    "\n",
    "eixo.scatter(df['comprimento_sépala'], df['largura_sépala'])\n",
    "eixo.set_title('Gráfico de dispersão', fontsize=25, pad=15)\n",
    "eixo.set_xlabel('Comprimento da sépala', fontsize=15)\n",
    "eixo.set_ylabel('Largura da sépala', fontsize=15)"
   ]
  },
  {
   "cell_type": "code",
   "execution_count": null,
   "metadata": {},
   "outputs": [],
   "source": [
    "fig = plt.figure(figsize=(15,8))\n",
    "eixo = fig.add_axes([0,0,1,1])\n",
    "\n",
    "eixo.scatter(df['comprimento_sépala'], df['largura_sépala'])\n",
    "eixo.set_title('Gráfico de dispersão', fontsize=25, pad=15)\n",
    "eixo.set_xlabel('Comprimento da sépala', fontsize=15)\n",
    "eixo.set_ylabel('Largura da sépala', fontsize=15)\n",
    "eixo.tick_params(labelsize=15)"
   ]
  },
  {
   "cell_type": "code",
   "execution_count": null,
   "metadata": {},
   "outputs": [],
   "source": [
    "fig = plt.figure(figsize=(15,8))\n",
    "eixo = fig.add_axes([0,0,1,1])\n",
    "\n",
    "cores = {'Iris-setosa': 'r', 'Iris-versicolor': 'b', 'Iris-virginica': 'g'}\n",
    "\n",
    "for especie in df['espécie'].unique():\n",
    "    tmp = df[df['espécie'] == especie]\n",
    "    eixo.scatter(tmp['comprimento_sépala'], tmp['largura_sépala'],\n",
    "                 color=cores[especie])\n",
    "\n",
    "eixo.set_title('Gráfico de dispersão', fontsize=25, pad=15)\n",
    "eixo.set_xlabel('Comprimento da sépala', fontsize=15)\n",
    "eixo.set_ylabel('Largura da sépala', fontsize=15)\n",
    "eixo.tick_params(labelsize=15)\n",
    "eixo.legend(cores, fontsize=20)"
   ]
  },
  {
   "cell_type": "code",
   "execution_count": null,
   "metadata": {},
   "outputs": [],
   "source": [
    "fig = plt.figure(figsize=(15,8))\n",
    "eixo = fig.add_axes([0,0,1,1])\n",
    "\n",
    "cores = {'Iris-setosa': 'r', 'Iris-versicolor': 'b', 'Iris-virginica': 'g'}\n",
    "marcadores = {'Iris-setosa': 'x', 'Iris-versicolor': 'o', 'Iris-virginica': 'v'}\n",
    "\n",
    "for especie in df['espécie'].unique():\n",
    "    tmp = df[df['espécie'] == especie]\n",
    "    eixo.scatter(tmp['comprimento_sépala'], tmp['largura_sépala'],\n",
    "                 color=cores[especie], marker=marcadores[especie])\n",
    "\n",
    "eixo.set_title('Gráfico de dispersão', fontsize=25, pad=15)\n",
    "eixo.set_xlabel('Comprimento da sépala', fontsize=15)\n",
    "eixo.set_ylabel('Largura da sépala', fontsize=15)\n",
    "eixo.tick_params(labelsize=15)\n",
    "eixo.legend(cores, fontsize=20)"
   ]
  },
  {
   "cell_type": "code",
   "execution_count": null,
   "metadata": {},
   "outputs": [],
   "source": [
    "fig = plt.figure(figsize=(15,8))\n",
    "eixo = fig.add_axes([0,0,1,1])\n",
    "\n",
    "cores = {'Iris-setosa': 'r', 'Iris-versicolor': 'b', 'Iris-virginica': 'g'}\n",
    "marcadores = {'Iris-setosa': 'x', 'Iris-versicolor': 'o', 'Iris-virginica': 'v'}\n",
    "\n",
    "for especie in df['espécie'].unique():\n",
    "    tmp = df[df['espécie'] == especie]\n",
    "    eixo.scatter(tmp['comprimento_sépala'], tmp['largura_sépala'],\n",
    "                 color=cores[especie], marker=marcadores[especie],\n",
    "                 s=100)\n",
    "\n",
    "eixo.set_title('Gráfico de dispersão', fontsize=25, pad=15)\n",
    "eixo.set_xlabel('Comprimento da sépala', fontsize=15)\n",
    "eixo.set_ylabel('Largura da sépala', fontsize=15)\n",
    "eixo.tick_params(labelsize=15)\n",
    "eixo.legend(cores, fontsize=20)"
   ]
  },
  {
   "cell_type": "code",
   "execution_count": null,
   "metadata": {},
   "outputs": [],
   "source": [
    "fig = plt.figure(figsize=(5,4))\n",
    "eixo = fig.add_axes([0,0,1,1])\n",
    "\n",
    "eixo.boxplot(df['largura_pétala'])\n",
    "eixo.set_title('Gráfico de caixa', fontsize=15, pad=10)\n",
    "eixo.set_xticklabels(['largura_pétala'])"
   ]
  },
  {
   "cell_type": "code",
   "execution_count": null,
   "metadata": {},
   "outputs": [],
   "source": [
    "fig = plt.figure(figsize=(8,5))\n",
    "eixo = fig.add_axes([0,0,1,1])\n",
    "\n",
    "eixo.boxplot(df.drop('espécie', axis=1).values)\n",
    "eixo.set_title('Gráfico de caixa', fontsize=15, pad=10)\n",
    "eixo.set_xticklabels(df.drop('espécie', axis=1).columns)"
   ]
  },
  {
   "cell_type": "code",
   "execution_count": null,
   "metadata": {},
   "outputs": [],
   "source": [
    "fig = plt.figure(figsize=(8,5))\n",
    "eixo = fig.add_axes([0,0,1,1])\n",
    "\n",
    "eixo.boxplot(df.drop('espécie', axis=1).values, patch_artist=True)\n",
    "eixo.set_title('Gráfico de caixa', fontsize=15, pad=10)\n",
    "eixo.set_xticklabels(df.drop('espécie', axis=1).columns)"
   ]
  },
  {
   "cell_type": "code",
   "execution_count": null,
   "metadata": {},
   "outputs": [],
   "source": [
    "fig = plt.figure(figsize=(8,5))\n",
    "eixo = fig.add_axes([0,0,1,1])\n",
    "\n",
    "cores = ['red', 'blue', 'orange', 'green']\n",
    "\n",
    "caixas = eixo.boxplot(df.drop('espécie', axis=1).values, patch_artist=True)\n",
    "eixo.set_title('Gráfico de caixa', fontsize=15, pad=10)\n",
    "eixo.set_xticklabels(df.drop('espécie', axis=1).columns)\n",
    "\n",
    "for caixa, cor in zip(caixas['boxes'], cores):\n",
    "    caixa.set(color=cor)"
   ]
  },
  {
   "cell_type": "code",
   "execution_count": null,
   "metadata": {},
   "outputs": [],
   "source": [
    "fig = plt.figure(figsize=(8,5))\n",
    "eixo = fig.add_axes([0,0,1,1])\n",
    "\n",
    "cores = ['red', 'blue', 'orange', 'green']\n",
    "\n",
    "caixas = eixo.boxplot(df.drop('espécie', axis=1).values, patch_artist=True)\n",
    "eixo.set_title('Gráfico de caixa', fontsize=15, pad=10)\n",
    "eixo.set_xticklabels(df.drop('espécie', axis=1).columns)\n",
    "\n",
    "for caixa, cor in zip(caixas['boxes'], cores):\n",
    "    caixa.set(color=cor)\n",
    "    \n",
    "for outlier in caixas['fliers']:\n",
    "    outlier.set(marker='x', markersize=8)"
   ]
  },
  {
   "cell_type": "code",
   "execution_count": null,
   "metadata": {},
   "outputs": [],
   "source": [
    "fig = plt.figure(figsize=(5,4))\n",
    "eixo = fig.add_axes([0,0,1,1])\n",
    "\n",
    "eixo.hist(df['comprimento_pétala'])\n",
    "eixo.set_title('Histograma', fontsize=15, pad=10)\n",
    "eixo.set_xlabel('Comprimento da pétala', fontsize=15)\n",
    "eixo.grid(True)"
   ]
  },
  {
   "cell_type": "code",
   "execution_count": null,
   "metadata": {},
   "outputs": [],
   "source": [
    "fig = plt.figure(figsize=(5,4))\n",
    "eixo = fig.add_axes([0,0,1,1])\n",
    "\n",
    "eixo.hist(df['comprimento_pétala'], bins=20)\n",
    "eixo.set_title('Histograma', fontsize=15, pad=10)\n",
    "eixo.set_xlabel('Comprimento da pétala', fontsize=15)\n",
    "eixo.grid(True)"
   ]
  },
  {
   "cell_type": "code",
   "execution_count": null,
   "metadata": {},
   "outputs": [],
   "source": [
    "fig = plt.figure(figsize=(5,4))\n",
    "eixo = fig.add_axes([0,0,1,1])\n",
    "\n",
    "eixo.hist(df['comprimento_pétala'], bins=20, density=True)\n",
    "eixo.set_title('Histograma', fontsize=15, pad=10)\n",
    "eixo.set_xlabel('Comprimento da pétala', fontsize=15)\n",
    "eixo.grid(True)"
   ]
  },
  {
   "cell_type": "code",
   "execution_count": null,
   "metadata": {},
   "outputs": [],
   "source": [
    "fig = plt.figure(figsize=(5,4))\n",
    "eixo = fig.add_axes([0,0,1,1])\n",
    "\n",
    "mu, sigma = df['comprimento_pétala'].mean(), df['comprimento_pétala'].std()\n",
    "\n",
    "eixo.hist(df['comprimento_pétala'], bins=20)\n",
    "eixo.set_title('Histograma', fontsize=15, pad=10)\n",
    "eixo.set_xlabel('Comprimento da pétala', fontsize=15)\n",
    "eixo.grid(True)\n",
    "\n",
    "eixo.annotate('$mu = {0:.2f}$\\n$sigma = {1:.2f}$'.format(mu, sigma),\n",
    "               xy=(4.5, 20), fontsize=20)"
   ]
  },
  {
   "cell_type": "code",
   "execution_count": null,
   "metadata": {},
   "outputs": [],
   "source": [
    "fig = plt.figure(figsize=(5,4))\n",
    "eixo = fig.add_axes([0,0,1,1])\n",
    "\n",
    "mu, sigma = df['comprimento_pétala'].mean(), df['comprimento_pétala'].std()\n",
    "\n",
    "eixo.hist(df['comprimento_pétala'], bins=20)\n",
    "eixo.set_title('Histograma', fontsize=15, pad=10)\n",
    "eixo.set_xlabel('Comprimento da pétala', fontsize=15)\n",
    "eixo.grid(True)\n",
    "\n",
    "eixo.annotate('$mu = {0:.2f}$\\n$sigma = {1:.2f}$'.format(mu, sigma),\n",
    "               xy=(4.5, 20), fontsize=20)\n",
    "\n",
    "eixo.axvline(mu, color = 'k', linestyle='--')\n",
    "eixo.annotate('média', xy=(mu-1.3, 28), fontsize=20)"
   ]
  },
  {
   "cell_type": "code",
   "execution_count": null,
   "metadata": {},
   "outputs": [],
   "source": [
    "fig = plt.figure(figsize=(5,4))\n",
    "eixo = fig.add_axes([0,0,1,1])\n",
    "\n",
    "mu, sigma = df['comprimento_pétala'].mean(), df['comprimento_pétala'].std()\n",
    "\n",
    "eixo.hist(df['comprimento_pétala'], bins=20)\n",
    "eixo.set_title('Histograma', fontsize=15, pad=10)\n",
    "eixo.set_xlabel('Comprimento da pétala', fontsize=15)\n",
    "eixo.grid(True)\n",
    "\n",
    "eixo.annotate('$\\mu = {0:.2f}$\\n$\\sigma = {1:.2f}$'.format(mu, sigma),\n",
    "               xy=(4.5, 20), fontsize=20)\n",
    "\n",
    "eixo.axvline(mu, color = 'k', linestyle='--')\n",
    "eixo.annotate('média', xy=(mu-1.3, 28), fontsize=20)\n",
    "\n",
    "eixo.axvline(df['comprimento_pétala'].median(), color='g', linestyle='--')\n",
    "eixo.annotate('mediana', xy=(df['comprimento_pétala'].median(), 31), fontsize=20)"
   ]
  },
  {
   "cell_type": "code",
   "execution_count": null,
   "metadata": {},
   "outputs": [],
   "source": [
    "fig = plt.figure(figsize=(5,4))\n",
    "eixo = fig.add_axes([0,0,1,1])\n",
    "\n",
    "df_iv = df[df['espécie'] == 'Iris-versicolor']\n",
    "\n",
    "mu, sigma = df_iv['comprimento_pétala'].mean(), df_iv['comprimento_pétala'].std()\n",
    "\n",
    "eixo.hist(df_iv['comprimento_pétala'], bins=20)\n",
    "eixo.set_title('Iris Versicolor', fontsize=15, pad=10)\n",
    "eixo.set_xlabel('Comprimento da pétala', fontsize=15)\n",
    "eixo.grid(True)\n",
    "\n",
    "eixo.annotate('$\\mu = {0:.2f}$\\n$\\sigma = {1:.2f}$'.format(mu, sigma),\n",
    "               xy=(4.6, 6), fontsize=20)\n",
    "\n",
    "eixo.axvline(mu, color = 'k', linestyle='--')\n",
    "eixo.annotate('média', xy=(mu-0.5, 5.5), fontsize=20)\n",
    "\n",
    "eixo.axvline(df_iv['comprimento_pétala'].median(), color='g', linestyle='--')\n",
    "eixo.annotate('mediana', xy=(df_iv['comprimento_pétala'].median()-0.7, 6.5), fontsize=20,\n",
    "               color='g')\n",
    "\n",
    "fig.savefig('histograma_iv.png', bbox_inches='tight')"
   ]
  },
  {
   "cell_type": "code",
   "execution_count": null,
   "metadata": {},
   "outputs": [],
   "source": [
    "fig = plt.figure(figsize=(5,4))\n",
    "eixo = fig.add_axes([0,0,1,1])\n",
    "\n",
    "df_is = df[df['espécie'] == 'Iris-setosa']\n",
    "\n",
    "mu, sigma = df_is['comprimento_pétala'].mean(), df_is['comprimento_pétala'].std()\n",
    "\n",
    "eixo.hist(df_is['comprimento_pétala'], bins=20)\n",
    "eixo.set_title('Iris Setosa', fontsize=15, pad=10)\n",
    "eixo.set_xlabel('Comprimento da pétala', fontsize=15)\n",
    "eixo.grid(True)\n",
    "\n",
    "eixo.annotate('$\\mu = {0:.2f}$\\n$\\sigma = {1:.2f}$'.format(mu, sigma),\n",
    "               xy=(1.7, 7), fontsize=20)\n",
    "\n",
    "eixo.axvline(mu, color = 'k', linestyle='--')\n",
    "eixo.annotate('média', xy=(mu-0.2, 13.5), fontsize=20)\n",
    "\n",
    "eixo.axvline(df_is['comprimento_pétala'].median(), color='g', linestyle='--')\n",
    "eixo.annotate('mediana', xy=(df_is['comprimento_pétala'].median()+0.05, 12), fontsize=20,\n",
    "               color='g')\n",
    "\n",
    "fig.savefig('histograma_is.png', bbox_inches='tight')"
   ]
  },
  {
   "cell_type": "code",
   "execution_count": null,
   "metadata": {},
   "outputs": [],
   "source": [
    "fig = plt.figure(figsize=(5,4))\n",
    "eixo = fig.add_axes([0,0,1,1])\n",
    "\n",
    "df_ivc = df[df['espécie'] == 'Iris-virginica']\n",
    "\n",
    "mu, sigma = df_ivc['comprimento_pétala'].mean(), df_ivc['comprimento_pétala'].std()\n",
    "\n",
    "eixo.hist(df_ivc['comprimento_pétala'], bins=20)\n",
    "eixo.set_title('Iris Virginca', fontsize=15, pad=10)\n",
    "eixo.set_xlabel('Comprimento da pétala', fontsize=15)\n",
    "eixo.grid(True)\n",
    "\n",
    "eixo.annotate('$\\mu = {0:.2f}$\\n$\\sigma = {1:.2f}$'.format(mu, sigma),\n",
    "               xy=(6.3, 7), fontsize=20)\n",
    "\n",
    "eixo.axvline(mu, color = 'k', linestyle='--')\n",
    "eixo.annotate('média', xy=(mu, 8), fontsize=20)\n",
    "\n",
    "eixo.axvline(df_ivc['comprimento_pétala'].median(), color='g', linestyle='--')\n",
    "eixo.annotate('mediana', xy=(df_ivc['comprimento_pétala'].median(), 7), fontsize=20,\n",
    "               color='g')\n",
    "\n",
    "fig.savefig('histograma_ivg.png', bbox_inches='tight')"
   ]
  },
  {
   "cell_type": "code",
   "execution_count": null,
   "metadata": {},
   "outputs": [],
   "source": [
    "from PIL import Image\n",
    "\n",
    "largura, altura = Image.open('histograma_ivg.png').size\n",
    "combinada = Image.new(\"RGB\", (3*largura, altura))\n",
    "intervalo = 0\n",
    "for imagem in map(Image.open, ['histograma_iv.png', 'histograma_is.png',\n",
    "                               'histograma_ivg.png']):\n",
    "    combinada.paste(imagem, (intervalo, 0))\n",
    "    intervalo += largura\n",
    "    \n",
    "combinada.save('combinada.png')"
   ]
  },
  {
   "cell_type": "code",
   "execution_count": null,
   "metadata": {},
   "outputs": [],
   "source": [
    "combinada"
   ]
  },
  {
   "cell_type": "code",
   "execution_count": null,
   "metadata": {},
   "outputs": [],
   "source": []
  }
 ],
 "metadata": {
  "kernelspec": {
   "display_name": "Python 3 (ipykernel)",
   "language": "python",
   "name": "python3"
  },
  "language_info": {
   "codemirror_mode": {
    "name": "ipython",
    "version": 3
   },
   "file_extension": ".py",
   "mimetype": "text/x-python",
   "name": "python",
   "nbconvert_exporter": "python",
   "pygments_lexer": "ipython3",
   "version": "3.9.7"
  }
 },
 "nbformat": 4,
 "nbformat_minor": 2
}
