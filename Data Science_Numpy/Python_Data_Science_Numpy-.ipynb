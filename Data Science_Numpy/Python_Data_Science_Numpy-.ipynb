{
 "cells": [
  {
   "cell_type": "markdown",
   "metadata": {
    "id": "do3kUOLbltjE"
   },
   "source": [
    "# <font color=green> PYTHON PARA DATA SCIENCE - NUMPY\n",
    "---"
   ]
  },
  {
   "cell_type": "markdown",
   "metadata": {
    "id": "umSz9TLxltjG"
   },
   "source": [
    "# <font color=green> 1. INTRODUÇÃO AO PYTHON\n",
    "---"
   ]
  },
  {
   "cell_type": "markdown",
   "metadata": {
    "id": "gSnX12-sltjH"
   },
   "source": [
    "# 1.1 Introdução"
   ]
  },
  {
   "cell_type": "markdown",
   "metadata": {
    "id": "SRG_k55kltjI"
   },
   "source": [
    "> Python é uma linguagem de programação de alto nível com suporte a múltiplos paradigmas de programação. É um projeto *open source* e desde seu surgimento, em 1991, vem se tornando uma das linguagens de programação interpretadas mais populares. \n",
    ">\n",
    "> Nos últimos anos Python desenvolveu uma comunidade ativa de processamento científico e análise de dados e vem se destacando como uma das linguagens mais relevantes quando o assunto é ciência de dados e machine learning, tanto no ambiente acadêmico como também no mercado."
   ]
  },
  {
   "cell_type": "markdown",
   "metadata": {
    "id": "2oZuKvWkltjJ"
   },
   "source": [
    "# 1.2 Instalação e ambiente de desenvolvimento"
   ]
  },
  {
   "cell_type": "markdown",
   "metadata": {
    "id": "v4P8bMEIltjK"
   },
   "source": [
    "### Instalação Local\n",
    "\n",
    "### https://www.python.org/downloads/\n",
    "### ou\n",
    "### https://www.anaconda.com/distribution/"
   ]
  },
  {
   "cell_type": "markdown",
   "metadata": {
    "id": "FZtu5tjrltjL"
   },
   "source": [
    "### Google Colaboratory\n",
    "\n",
    "### https://colab.research.google.com"
   ]
  },
  {
   "cell_type": "markdown",
   "metadata": {
    "id": "C6vbfq8DltjM"
   },
   "source": [
    "### Verificando versão"
   ]
  },
  {
   "cell_type": "code",
   "execution_count": 4,
   "metadata": {
    "colab": {
     "base_uri": "https://localhost:8080/"
    },
    "id": "jeuAt-4NltjM",
    "outputId": "230ed265-d82b-45e0-e9fb-038485b82ff6"
   },
   "outputs": [
    {
     "name": "stdout",
     "output_type": "stream",
     "text": [
      "Python 3.9.9\n"
     ]
    }
   ],
   "source": [
    "!python3 --version"
   ]
  },
  {
   "cell_type": "markdown",
   "metadata": {
    "id": "v86aEyR2ltjR"
   },
   "source": [
    "# 1.3 Trabalhando com arrays Numpy"
   ]
  },
  {
   "cell_type": "code",
   "execution_count": 1,
   "metadata": {
    "id": "6FEhElzNltjR"
   },
   "outputs": [],
   "source": [
    "import numpy as np"
   ]
  },
  {
   "cell_type": "code",
   "execution_count": 6,
   "metadata": {
    "id": "qjL5wPLKltjU"
   },
   "outputs": [],
   "source": [
    "km = np.loadtxt('carros-km.txt')"
   ]
  },
  {
   "cell_type": "code",
   "execution_count": null,
   "metadata": {
    "colab": {
     "base_uri": "https://localhost:8080/"
    },
    "id": "OFaxgUptltjW",
    "outputId": "16c9a2e1-13fd-41b3-8f71-323e333d9f74",
    "scrolled": true
   },
   "outputs": [
    {
     "data": {
      "text/plain": [
       "array([4.44100e+04, 5.71200e+03, 3.71230e+04, 0.00000e+00, 2.57570e+04,\n",
       "       1.07280e+04, 0.00000e+00, 7.75990e+04, 9.91970e+04, 3.79780e+04,\n",
       "       1.28590e+04, 8.05200e+03, 8.97730e+04, 0.00000e+00, 4.14570e+04,\n",
       "       1.15607e+05, 4.64490e+04, 0.00000e+00, 3.70860e+04, 1.51730e+04,\n",
       "       1.01193e+05, 0.00000e+00, 9.80790e+04, 1.02959e+05, 0.00000e+00,\n",
       "       0.00000e+00, 5.79500e+03, 0.00000e+00, 5.88480e+04, 9.43810e+04,\n",
       "       3.01630e+04, 5.33320e+04, 1.77200e+04, 3.38080e+04, 9.06840e+04,\n",
       "       4.39750e+04, 0.00000e+00, 0.00000e+00, 5.52600e+03, 0.00000e+00,\n",
       "       9.34150e+04, 4.07620e+04, 0.00000e+00, 8.63020e+04, 0.00000e+00,\n",
       "       9.75500e+03, 6.99450e+04, 2.39500e+03, 0.00000e+00, 8.03490e+04,\n",
       "       8.55540e+04, 5.04960e+04, 6.77160e+04, 9.39470e+04, 3.53450e+04,\n",
       "       8.10070e+04, 1.19513e+05, 0.00000e+00, 0.00000e+00, 0.00000e+00,\n",
       "       0.00000e+00, 0.00000e+00, 1.18895e+05, 4.85090e+04, 1.00912e+05,\n",
       "       9.56490e+04, 0.00000e+00, 9.04950e+04, 0.00000e+00, 2.91320e+04,\n",
       "       2.38020e+04, 8.49920e+04, 5.43950e+04, 2.67310e+04, 4.43290e+04,\n",
       "       1.18236e+05, 1.13808e+05, 6.10000e+02, 0.00000e+00, 0.00000e+00,\n",
       "       1.28870e+04, 7.96070e+04, 9.09240e+04, 4.27330e+04, 0.00000e+00,\n",
       "       0.00000e+00, 1.17714e+05, 1.13885e+05, 0.00000e+00, 3.05110e+04,\n",
       "       7.48670e+04, 1.19760e+05, 8.35600e+03, 6.42470e+04, 8.86610e+04,\n",
       "       4.53900e+03, 1.10116e+05, 3.32150e+04, 9.20010e+04, 0.00000e+00,\n",
       "       8.17080e+04, 7.06410e+04, 0.00000e+00, 9.12770e+04, 2.65440e+04,\n",
       "       5.25960e+04, 4.75030e+04, 8.90560e+04, 2.88340e+04, 1.10564e+05,\n",
       "       5.66380e+04, 1.73570e+04, 7.40150e+04, 1.51960e+04, 0.00000e+00,\n",
       "       1.08210e+04, 0.00000e+00, 0.00000e+00, 9.59500e+03, 9.90520e+04,\n",
       "       5.23890e+04, 1.19945e+05, 9.60050e+04, 3.16390e+04, 0.00000e+00,\n",
       "       8.01870e+04, 0.00000e+00, 5.82120e+04, 6.16720e+04, 3.20170e+04,\n",
       "       0.00000e+00, 5.69440e+04, 0.00000e+00, 8.65190e+04, 4.82100e+03,\n",
       "       1.01025e+05, 3.07050e+04, 0.00000e+00, 3.25550e+04, 1.03389e+05,\n",
       "       0.00000e+00, 5.52890e+04, 0.00000e+00, 0.00000e+00, 1.15930e+05,\n",
       "       6.64370e+04, 9.68000e+04, 1.42370e+04, 1.98960e+04, 1.13045e+05,\n",
       "       1.14942e+05, 3.17300e+03, 8.36110e+04, 2.53560e+04, 8.86340e+04,\n",
       "       2.31400e+03, 2.62700e+03, 5.20340e+04, 0.00000e+00, 0.00000e+00,\n",
       "       7.95770e+04, 1.08201e+05, 7.64530e+04, 5.76830e+04, 9.66100e+04,\n",
       "       1.09001e+05, 2.62120e+04, 4.59710e+04, 4.91820e+04, 4.99070e+04,\n",
       "       3.86200e+04, 6.09960e+04, 7.39140e+04, 1.07392e+05, 9.14600e+03,\n",
       "       0.00000e+00, 1.79240e+04, 0.00000e+00, 1.16949e+05, 2.04760e+04,\n",
       "       5.28040e+04, 8.84900e+03, 9.17240e+04, 3.20560e+04, 7.48860e+04,\n",
       "       0.00000e+00, 0.00000e+00, 5.21890e+04, 8.35590e+04, 0.00000e+00,\n",
       "       2.03280e+04, 0.00000e+00, 7.55770e+04, 3.36590e+04, 1.04341e+05,\n",
       "       2.55100e+04, 1.89650e+04, 8.71610e+04, 6.65200e+03, 5.57380e+04,\n",
       "       0.00000e+00, 0.00000e+00, 0.00000e+00, 6.43200e+04, 0.00000e+00,\n",
       "       6.86780e+04, 7.16970e+04, 0.00000e+00, 3.47830e+04, 3.37720e+04,\n",
       "       8.51270e+04, 1.36060e+04, 3.56470e+04, 9.51280e+04, 1.40460e+04,\n",
       "       4.11940e+04, 0.00000e+00, 9.61000e+04, 1.03900e+05, 4.38140e+04,\n",
       "       2.46380e+04, 0.00000e+00, 1.10966e+05, 1.59870e+04, 5.33690e+04,\n",
       "       1.00770e+04, 7.15440e+04, 1.07000e+02, 8.39400e+03, 4.14980e+04,\n",
       "       1.16002e+05, 1.00858e+05, 6.74750e+04, 8.49700e+03, 4.42000e+03,\n",
       "       0.00000e+00, 5.85370e+04, 0.00000e+00, 0.00000e+00, 1.12016e+05,\n",
       "       9.18400e+04, 1.12787e+05, 0.00000e+00, 0.00000e+00, 9.29300e+03,\n",
       "       0.00000e+00, 5.50830e+04, 4.87960e+04, 0.00000e+00, 8.96850e+04,\n",
       "       8.53840e+04, 9.81080e+04, 7.12800e+04, 2.75050e+04, 2.99810e+04,\n",
       "       5.26370e+04, 7.68500e+03, 5.01880e+04])"
      ]
     },
     "execution_count": 18,
     "metadata": {},
     "output_type": "execute_result"
    }
   ],
   "source": [
    "km"
   ]
  },
  {
   "cell_type": "code",
   "execution_count": 7,
   "metadata": {
    "id": "FXjYowRDltjZ"
   },
   "outputs": [],
   "source": [
    "anos = np.loadtxt('carros-anos.txt', dtype = int)"
   ]
  },
  {
   "cell_type": "code",
   "execution_count": 8,
   "metadata": {
    "colab": {
     "base_uri": "https://localhost:8080/"
    },
    "id": "f_d2Ya-vltjb",
    "outputId": "aeb97c56-58af-4caf-caff-e1fd345287c4"
   },
   "outputs": [
    {
     "data": {
      "text/plain": [
       "array([2003, 1991, 1990, 2019, 2006, 2012, 2019, 2009, 2010, 2011, 2002,\n",
       "       2007, 2001, 2019, 2009, 2016, 2012, 2019, 2016, 2017, 2002, 2019,\n",
       "       1994, 1991, 2019, 2019, 2016, 2019, 2002, 1991, 1997, 1995, 2018,\n",
       "       1991, 2014, 1995, 2019, 2019, 2009, 2019, 2013, 2003, 2019, 2002,\n",
       "       2019, 2002, 2004, 2001, 2019, 2003, 2009, 2006, 2000, 2006, 2010,\n",
       "       1994, 2007, 2019, 2019, 2019, 2019, 2019, 2017, 2011, 2001, 1996,\n",
       "       2019, 1994, 2019, 2007, 1994, 2007, 1997, 2006, 2013, 1994, 2008,\n",
       "       2008, 2019, 2019, 1999, 2007, 1993, 1995, 2019, 2019, 2016, 2011,\n",
       "       2019, 2002, 2013, 2017, 2016, 2008, 2018, 2003, 2003, 2004, 2010,\n",
       "       2019, 2006, 2001, 2019, 2015, 2018, 2017, 1992, 2001, 1993, 1995,\n",
       "       2003, 2014, 2008, 2013, 2019, 2017, 2019, 2019, 2006, 2015, 2007,\n",
       "       2005, 2017, 1998, 2019, 1999, 2019, 2009, 2003, 1994, 2019, 1994,\n",
       "       2019, 2015, 1996, 1997, 1993, 2019, 1992, 1995, 2019, 1990, 2019,\n",
       "       2019, 1991, 1990, 2012, 2007, 2013, 2000, 2002, 1996, 1996, 2015,\n",
       "       1993, 2013, 2013, 2009, 2019, 2019, 2002, 1997, 1998, 2004, 1996,\n",
       "       2015, 2016, 2005, 1999, 1995, 1993, 2004, 2013, 1998, 2018, 2019,\n",
       "       2018, 2019, 1990, 2009, 1990, 2006, 2002, 1991, 1992, 2019, 2019,\n",
       "       2005, 2010, 2019, 2016, 2019, 2010, 1994, 2001, 2014, 1996, 1993,\n",
       "       1993, 2001, 2019, 2019, 2019, 2007, 2019, 2016, 2014, 2019, 2015,\n",
       "       2015, 1996, 2002, 2005, 1995, 1999, 2005, 2019, 1997, 1990, 2001,\n",
       "       2013, 2019, 2017, 2011, 2005, 2007, 1993, 1991, 1991, 1997, 2000,\n",
       "       2007, 2006, 2015, 2008, 2019, 1996, 2019, 2019, 2014, 2004, 2008,\n",
       "       2019, 2019, 2012, 2019, 1996, 2011, 2019, 2010, 2007, 1994, 2007,\n",
       "       2014, 1991, 2002, 1996, 1992])"
      ]
     },
     "execution_count": 8,
     "metadata": {},
     "output_type": "execute_result"
    }
   ],
   "source": [
    "anos"
   ]
  },
  {
   "cell_type": "code",
   "execution_count": 10,
   "metadata": {
    "id": "hxLZatdeltje"
   },
   "outputs": [],
   "source": [
    "km_media = km/(2022 - anos)"
   ]
  },
  {
   "cell_type": "code",
   "execution_count": 11,
   "metadata": {
    "colab": {
     "base_uri": "https://localhost:8080/"
    },
    "id": "GLsHBNakltjg",
    "outputId": "92651af8-eb43-472a-c8f7-c8409ccd78cd"
   },
   "outputs": [
    {
     "data": {
      "text/plain": [
       "array([2.33736842e+03, 1.84258065e+02, 1.16009375e+03, 0.00000000e+00,\n",
       "       1.60981250e+03, 1.07280000e+03, 0.00000000e+00, 5.96915385e+03,\n",
       "       8.26641667e+03, 3.45254545e+03, 6.42950000e+02, 5.36800000e+02,\n",
       "       4.27490476e+03, 0.00000000e+00, 3.18900000e+03, 1.92678333e+04,\n",
       "       4.64490000e+03, 0.00000000e+00, 6.18100000e+03, 3.03460000e+03,\n",
       "       5.05965000e+03, 0.00000000e+00, 3.50282143e+03, 3.32125806e+03,\n",
       "       0.00000000e+00, 0.00000000e+00, 9.65833333e+02, 0.00000000e+00,\n",
       "       2.94240000e+03, 3.04454839e+03, 1.20652000e+03, 1.97525926e+03,\n",
       "       4.43000000e+03, 1.09058065e+03, 1.13355000e+04, 1.62870370e+03,\n",
       "       0.00000000e+00, 0.00000000e+00, 4.25076923e+02, 0.00000000e+00,\n",
       "       1.03794444e+04, 2.14536842e+03, 0.00000000e+00, 4.31510000e+03,\n",
       "       0.00000000e+00, 4.87750000e+02, 3.88583333e+03, 1.14047619e+02,\n",
       "       0.00000000e+00, 4.22889474e+03, 6.58107692e+03, 3.15600000e+03,\n",
       "       3.07800000e+03, 5.87168750e+03, 2.94541667e+03, 2.89310714e+03,\n",
       "       7.96753333e+03, 0.00000000e+00, 0.00000000e+00, 0.00000000e+00,\n",
       "       0.00000000e+00, 0.00000000e+00, 2.37790000e+04, 4.40990909e+03,\n",
       "       4.80533333e+03, 3.67880769e+03, 0.00000000e+00, 3.23196429e+03,\n",
       "       0.00000000e+00, 1.94213333e+03, 8.50071429e+02, 5.66613333e+03,\n",
       "       2.17580000e+03, 1.67068750e+03, 4.92544444e+03, 4.22271429e+03,\n",
       "       8.12914286e+03, 4.35714286e+01, 0.00000000e+00, 0.00000000e+00,\n",
       "       5.60304348e+02, 5.30713333e+03, 3.13531034e+03, 1.58270370e+03,\n",
       "       0.00000000e+00, 0.00000000e+00, 1.96190000e+04, 1.03531818e+04,\n",
       "       0.00000000e+00, 1.52555000e+03, 8.31855556e+03, 2.39520000e+04,\n",
       "       1.39266667e+03, 4.58907143e+03, 2.21652500e+04, 2.38894737e+02,\n",
       "       5.79557895e+03, 1.84527778e+03, 7.66675000e+03, 0.00000000e+00,\n",
       "       5.10675000e+03, 3.36385714e+03, 0.00000000e+00, 1.30395714e+04,\n",
       "       6.63600000e+03, 1.05192000e+04, 1.58343333e+03, 4.24076190e+03,\n",
       "       9.94275862e+02, 4.09496296e+03, 2.98094737e+03, 2.16962500e+03,\n",
       "       5.28678571e+03, 1.68844444e+03, 0.00000000e+00, 2.16420000e+03,\n",
       "       0.00000000e+00, 0.00000000e+00, 5.99687500e+02, 1.41502857e+04,\n",
       "       3.49260000e+03, 7.05558824e+03, 1.92010000e+04, 1.31829167e+03,\n",
       "       0.00000000e+00, 3.48639130e+03, 0.00000000e+00, 4.47784615e+03,\n",
       "       3.24589474e+03, 1.14346429e+03, 0.00000000e+00, 2.03371429e+03,\n",
       "       0.00000000e+00, 1.23598571e+04, 1.85423077e+02, 4.04100000e+03,\n",
       "       1.05879310e+03, 0.00000000e+00, 1.08516667e+03, 3.82922222e+03,\n",
       "       0.00000000e+00, 1.72778125e+03, 0.00000000e+00, 0.00000000e+00,\n",
       "       3.73967742e+03, 2.07615625e+03, 9.68000000e+03, 9.49133333e+02,\n",
       "       2.21066667e+03, 5.13840909e+03, 5.74710000e+03, 1.22038462e+02,\n",
       "       3.21580769e+03, 3.62228571e+03, 3.05634483e+03, 2.57111111e+02,\n",
       "       2.91888889e+02, 4.00261538e+03, 0.00000000e+00, 0.00000000e+00,\n",
       "       3.97885000e+03, 4.32804000e+03, 3.18554167e+03, 3.20461111e+03,\n",
       "       3.71576923e+03, 1.55715714e+04, 4.36866667e+03, 2.70417647e+03,\n",
       "       2.13834783e+03, 1.84840741e+03, 1.33172414e+03, 3.38866667e+03,\n",
       "       8.21266667e+03, 4.47466667e+03, 2.28650000e+03, 0.00000000e+00,\n",
       "       4.48100000e+03, 0.00000000e+00, 3.65465625e+03, 1.57507692e+03,\n",
       "       1.65012500e+03, 5.53062500e+02, 4.58620000e+03, 1.03406452e+03,\n",
       "       2.49620000e+03, 0.00000000e+00, 0.00000000e+00, 3.06994118e+03,\n",
       "       6.96325000e+03, 0.00000000e+00, 3.38800000e+03, 0.00000000e+00,\n",
       "       6.29808333e+03, 1.20210714e+03, 4.96861905e+03, 3.18875000e+03,\n",
       "       7.29423077e+02, 3.00555172e+03, 2.29379310e+02, 2.65419048e+03,\n",
       "       0.00000000e+00, 0.00000000e+00, 0.00000000e+00, 4.28800000e+03,\n",
       "       0.00000000e+00, 1.14463333e+04, 8.96212500e+03, 0.00000000e+00,\n",
       "       4.96900000e+03, 4.82457143e+03, 3.27411538e+03, 6.80300000e+02,\n",
       "       2.09688235e+03, 3.52325926e+03, 6.10695652e+02, 2.42317647e+03,\n",
       "       0.00000000e+00, 3.84400000e+03, 3.24687500e+03, 2.08638095e+03,\n",
       "       2.73755556e+03, 0.00000000e+00, 2.21932000e+04, 1.45336364e+03,\n",
       "       3.13935294e+03, 6.71800000e+02, 2.46703448e+03, 3.45161290e+00,\n",
       "       2.70774194e+02, 1.65992000e+03, 5.27281818e+03, 6.72386667e+03,\n",
       "       4.21718750e+03, 1.21385714e+03, 3.15714286e+02, 0.00000000e+00,\n",
       "       2.25142308e+03, 0.00000000e+00, 0.00000000e+00, 1.40020000e+04,\n",
       "       5.10222222e+03, 8.05621429e+03, 0.00000000e+00, 0.00000000e+00,\n",
       "       9.29300000e+02, 0.00000000e+00, 2.11857692e+03, 4.43600000e+03,\n",
       "       0.00000000e+00, 7.47375000e+03, 5.69226667e+03, 3.50385714e+03,\n",
       "       4.75200000e+03, 3.43812500e+03, 9.67129032e+02, 2.63185000e+03,\n",
       "       2.95576923e+02, 1.67293333e+03])"
      ]
     },
     "execution_count": 11,
     "metadata": {},
     "output_type": "execute_result"
    }
   ],
   "source": [
    "km_media"
   ]
  },
  {
   "cell_type": "code",
   "execution_count": 12,
   "metadata": {
    "colab": {
     "base_uri": "https://localhost:8080/"
    },
    "id": "oSSYu6nhltji",
    "outputId": "5ca69dae-a009-437c-f757-90ed9e4901f0"
   },
   "outputs": [
    {
     "data": {
      "text/plain": [
       "numpy.ndarray"
      ]
     },
     "execution_count": 12,
     "metadata": {},
     "output_type": "execute_result"
    }
   ],
   "source": [
    "type(km_media)"
   ]
  },
  {
   "cell_type": "code",
   "execution_count": null,
   "metadata": {
    "id": "D6qMoutGltjk"
   },
   "outputs": [],
   "source": []
  },
  {
   "cell_type": "code",
   "execution_count": null,
   "metadata": {
    "id": "XIBz0Vowltjn"
   },
   "outputs": [],
   "source": []
  },
  {
   "cell_type": "code",
   "execution_count": null,
   "metadata": {
    "id": "u8_CU3F4ltjq"
   },
   "outputs": [],
   "source": []
  },
  {
   "cell_type": "markdown",
   "metadata": {
    "id": "wMdUsAq4ltjs"
   },
   "source": [
    "### Obtendo a quilometragem média por ano"
   ]
  },
  {
   "cell_type": "code",
   "execution_count": null,
   "metadata": {
    "id": "cD2M3s3Fltjt"
   },
   "outputs": [],
   "source": []
  },
  {
   "cell_type": "code",
   "execution_count": null,
   "metadata": {
    "id": "65IyPzKKltjv"
   },
   "outputs": [],
   "source": []
  },
  {
   "cell_type": "code",
   "execution_count": null,
   "metadata": {
    "id": "Z0JCmAWvltjy"
   },
   "outputs": [],
   "source": []
  },
  {
   "cell_type": "markdown",
   "metadata": {
    "id": "KdG5NmmGltj0"
   },
   "source": [
    "# <font color=green> 2. CARACTERÍSTICAS BÁSICAS DA LINGUAGEM\n",
    "---"
   ]
  },
  {
   "cell_type": "markdown",
   "metadata": {
    "id": "X1K5kisFltj1"
   },
   "source": [
    "# 2.1 Operações matemáticas\n",
    "\n",
    "### Operadores aritméticos: $+$, $-$, $*$, $/$, $**$, $\\%$, $//$"
   ]
  },
  {
   "cell_type": "markdown",
   "metadata": {
    "id": "8YCDVpbYltj1"
   },
   "source": [
    "### Adição ($+$)"
   ]
  },
  {
   "cell_type": "code",
   "execution_count": null,
   "metadata": {
    "id": "h6DsMqhaltj2"
   },
   "outputs": [],
   "source": []
  },
  {
   "cell_type": "markdown",
   "metadata": {
    "id": "WeJG-WJBltj8"
   },
   "source": [
    "### Subtração ($-$)"
   ]
  },
  {
   "cell_type": "code",
   "execution_count": null,
   "metadata": {
    "id": "zoB7_OcRltj9"
   },
   "outputs": [],
   "source": []
  },
  {
   "cell_type": "markdown",
   "metadata": {
    "id": "zuv8N7fjltkC"
   },
   "source": [
    "### Multiplicação ($*$)"
   ]
  },
  {
   "cell_type": "code",
   "execution_count": null,
   "metadata": {
    "id": "TAWG7xSTltkD"
   },
   "outputs": [],
   "source": []
  },
  {
   "cell_type": "markdown",
   "metadata": {
    "id": "dMp7BsnwltkF"
   },
   "source": [
    "### Divisão ($/$) e ($//$)\n",
    "A operação divisão sempre retorna um número de ponto flutuante"
   ]
  },
  {
   "cell_type": "code",
   "execution_count": null,
   "metadata": {
    "id": "DD5kx3H3ltkF"
   },
   "outputs": [],
   "source": []
  },
  {
   "cell_type": "code",
   "execution_count": null,
   "metadata": {
    "id": "ji0CYH3UltkI"
   },
   "outputs": [],
   "source": []
  },
  {
   "cell_type": "markdown",
   "metadata": {
    "id": "3DSO7TcvltkL"
   },
   "source": [
    "### Exponenciação ($**$)"
   ]
  },
  {
   "cell_type": "code",
   "execution_count": null,
   "metadata": {
    "id": "tBKvl2TWltkM"
   },
   "outputs": [],
   "source": []
  },
  {
   "cell_type": "markdown",
   "metadata": {
    "id": "MhD56p-9ltkQ"
   },
   "source": [
    "### Resto da divisão ($\\%$)"
   ]
  },
  {
   "cell_type": "code",
   "execution_count": null,
   "metadata": {
    "id": "bfa7phO6ltkR"
   },
   "outputs": [],
   "source": []
  },
  {
   "cell_type": "code",
   "execution_count": null,
   "metadata": {
    "id": "khIEx6olltkT"
   },
   "outputs": [],
   "source": []
  },
  {
   "cell_type": "markdown",
   "metadata": {
    "id": "8pVVp5fsltkV"
   },
   "source": [
    "### Expressões matemáticas"
   ]
  },
  {
   "cell_type": "code",
   "execution_count": null,
   "metadata": {
    "id": "jlQTk4gNltkW"
   },
   "outputs": [],
   "source": []
  },
  {
   "cell_type": "code",
   "execution_count": null,
   "metadata": {
    "id": "kkCb6Crgltka"
   },
   "outputs": [],
   "source": []
  },
  {
   "cell_type": "code",
   "execution_count": null,
   "metadata": {
    "id": "UD12tlgAltkd"
   },
   "outputs": [],
   "source": []
  },
  {
   "cell_type": "markdown",
   "metadata": {
    "id": "a5tKQ5Beltkf"
   },
   "source": [
    "### A variável _\n",
    "\n",
    "No modo interativo, o último resultado impresso é atribuído à variável _"
   ]
  },
  {
   "cell_type": "code",
   "execution_count": null,
   "metadata": {
    "id": "VkHEx516ltkg"
   },
   "outputs": [],
   "source": []
  },
  {
   "cell_type": "code",
   "execution_count": null,
   "metadata": {
    "id": "dFShsobXltki"
   },
   "outputs": [],
   "source": []
  },
  {
   "cell_type": "code",
   "execution_count": null,
   "metadata": {
    "id": "hJIpR3KUltkk"
   },
   "outputs": [],
   "source": []
  },
  {
   "cell_type": "markdown",
   "metadata": {
    "id": "MUrQAf6Mltkm"
   },
   "source": [
    "# 2.2 Variáveis "
   ]
  },
  {
   "cell_type": "markdown",
   "metadata": {
    "id": "qaVLKIeultkn"
   },
   "source": [
    "### Nomes de variáveis\n",
    "\n",
    "- Nomes de variáveis pode começar com letras (a - z, A - Z) ou o caractere *underscore* (_):\n",
    "\n",
    "    > Altura\n",
    "    >\n",
    "    > _peso\n",
    "    \n",
    "- O restante do nome pode conter letras, números e o caractere \"_\":\n",
    "\n",
    "    > nome_da_variavel\n",
    "    >\n",
    "    > _valor\n",
    "    >\n",
    "    > dia_28_11_\n",
    "    \n",
    "\n",
    "- O nomes são *case sensitive*:\n",
    "\n",
    "    > Nome_Da_Variável $\\ne$ nome_da_variavel $\\ne$ NOME_DA_VARIAVEL\n",
    "    \n",
    "### <font color=red>Observações:\n",
    "- Existem algumas palavras reservadas da linguagem que não podem ser utilizadas como nomes de variável:\n",
    "\n",
    "| |Lista de palavras <br>reservadas em Python| |\n",
    "|:-------------:|:------------:|:-------------:|\n",
    "| and           | as           | not           | \n",
    "| assert        | finally      | or            | \n",
    "| break         | for          | pass          | \n",
    "| class         | from         | nonlocal      | \n",
    "| continue      | global       | raise         | \n",
    "| def           | if           | return        | \n",
    "| del           | import       | try           | \n",
    "| elif          | in           | while         | \n",
    "| else          | is           | with          | \n",
    "| except        | lambda       | yield         | \n",
    "| False         | True         | None          | "
   ]
  },
  {
   "cell_type": "markdown",
   "metadata": {
    "id": "3frWjfAtltkn"
   },
   "source": [
    "### Declaração de variáveis\n",
    "\n",
    "### Operadores de atribuição: $=$, $+=$, $-=$, $*=$, $/=$, $**=$, $\\%=$, $//=$"
   ]
  },
  {
   "cell_type": "code",
   "execution_count": null,
   "metadata": {
    "id": "7VIcrXNHltko"
   },
   "outputs": [],
   "source": [
    "ano_atual = 2022"
   ]
  },
  {
   "cell_type": "code",
   "execution_count": null,
   "metadata": {
    "id": "atVoqp6bltkq"
   },
   "outputs": [],
   "source": [
    "ano_fabricacao = 2005"
   ]
  },
  {
   "cell_type": "code",
   "execution_count": null,
   "metadata": {
    "id": "_t82qXrOltkt"
   },
   "outputs": [],
   "source": [
    "km_total = 124122"
   ]
  },
  {
   "cell_type": "code",
   "execution_count": null,
   "metadata": {
    "id": "1anwuDHiltkv"
   },
   "outputs": [],
   "source": [
    "km_media = km_total/(ano_atual-ano_fabricacao)"
   ]
  },
  {
   "cell_type": "markdown",
   "metadata": {
    "id": "gCBkfq_8ltky"
   },
   "source": [
    "# $$km_{média} = \\frac {km_{total}}{(Ano_{atual} - Ano_{fabricação})}$$"
   ]
  },
  {
   "cell_type": "markdown",
   "metadata": {
    "id": "zswWS4hNltky"
   },
   "source": [
    "### Operações com variáveis"
   ]
  },
  {
   "cell_type": "code",
   "execution_count": null,
   "metadata": {
    "id": "HxxU0rnfltkz"
   },
   "outputs": [],
   "source": [
    "ano_atual = 2022\n",
    "ano_fabricacao = 2005\n",
    "km_total = 124122"
   ]
  },
  {
   "cell_type": "markdown",
   "metadata": {
    "id": "Z9skJLrwQTyh"
   },
   "source": [
    "A linha a seguir é equivalente as instruções acima. Ou seja, podemos atribuir valores a diversas variaveis, desde que separadas por virgula."
   ]
  },
  {
   "cell_type": "code",
   "execution_count": null,
   "metadata": {
    "id": "_2Qhb32jltk1"
   },
   "outputs": [],
   "source": [
    "ano_atual, ano_fabricacao, km_total = 2022, 2005, 124122"
   ]
  },
  {
   "cell_type": "code",
   "execution_count": null,
   "metadata": {
    "id": "nCJzA7dyltk3"
   },
   "outputs": [],
   "source": []
  },
  {
   "cell_type": "code",
   "execution_count": null,
   "metadata": {
    "id": "ifRwQ0vEltk9"
   },
   "outputs": [],
   "source": []
  },
  {
   "cell_type": "markdown",
   "metadata": {
    "id": "fDBrHWSBltlB"
   },
   "source": [
    "### Conclusão:\n",
    "```\n",
    "\"valor = valor + 1\" é equivalente a \"valor += 1\"\n",
    "```"
   ]
  },
  {
   "cell_type": "markdown",
   "metadata": {
    "id": "uVAyJbmAltlC"
   },
   "source": [
    "### Declaração múltipla"
   ]
  },
  {
   "cell_type": "code",
   "execution_count": null,
   "metadata": {
    "id": "oMWEzjPOltlC"
   },
   "outputs": [],
   "source": []
  },
  {
   "cell_type": "code",
   "execution_count": null,
   "metadata": {
    "id": "9ZKlHkLultlE"
   },
   "outputs": [],
   "source": []
  },
  {
   "cell_type": "code",
   "execution_count": null,
   "metadata": {
    "id": "-mcMuW9nltlG"
   },
   "outputs": [],
   "source": []
  },
  {
   "cell_type": "code",
   "execution_count": null,
   "metadata": {
    "id": "WFFavLIvltlL"
   },
   "outputs": [],
   "source": []
  },
  {
   "cell_type": "code",
   "execution_count": null,
   "metadata": {
    "id": "iFawOJe6ltlO"
   },
   "outputs": [],
   "source": []
  },
  {
   "cell_type": "markdown",
   "metadata": {
    "id": "uoRXMeRDltlQ"
   },
   "source": [
    "# 2.3 Tipos de dados"
   ]
  },
  {
   "cell_type": "markdown",
   "metadata": {
    "id": "sW_G6EjWltlQ"
   },
   "source": [
    "Os tipos de dados especificam como números e caracteres serão armazenados e manipulados dentro de um programa. Os tipos de dados básicos do Python são:\n",
    "\n",
    "1. **Números**\n",
    "    1. ***int*** - Inteiros\n",
    "    - ***float*** - Ponto flutuante\n",
    "- **Booleanos** - Assume os valores True ou False. Essencial quando começarmos a trabalhar com declarações condicionais\n",
    "- ***Strings*** - Sequência de um ou mais caracteres que pode incluir letras, números e outros tipos de caracteres. Representa um texto.\n",
    "- **None** - Representa a ausência de valor"
   ]
  },
  {
   "cell_type": "markdown",
   "metadata": {
    "id": "-HRRxQOtltlQ"
   },
   "source": [
    "### Números"
   ]
  },
  {
   "cell_type": "code",
   "execution_count": null,
   "metadata": {
    "id": "5PKIcIuUltlR"
   },
   "outputs": [],
   "source": []
  },
  {
   "cell_type": "code",
   "execution_count": null,
   "metadata": {
    "id": "G32Yd1g0ltlT"
   },
   "outputs": [],
   "source": []
  },
  {
   "cell_type": "code",
   "execution_count": null,
   "metadata": {
    "id": "b9_v__dEltlV"
   },
   "outputs": [],
   "source": []
  },
  {
   "cell_type": "code",
   "execution_count": null,
   "metadata": {
    "id": "A0nySb3LltlZ"
   },
   "outputs": [],
   "source": []
  },
  {
   "cell_type": "markdown",
   "metadata": {
    "id": "7X9iheAnltld"
   },
   "source": [
    "### Booleanos"
   ]
  },
  {
   "cell_type": "code",
   "execution_count": null,
   "metadata": {
    "id": "liUYdchPltle"
   },
   "outputs": [],
   "source": []
  },
  {
   "cell_type": "code",
   "execution_count": null,
   "metadata": {
    "id": "oZIQAghaltlh"
   },
   "outputs": [],
   "source": []
  },
  {
   "cell_type": "code",
   "execution_count": null,
   "metadata": {
    "id": "XCAYApe3ltlj"
   },
   "outputs": [],
   "source": []
  },
  {
   "cell_type": "code",
   "execution_count": null,
   "metadata": {
    "id": "mJ0nGEV7ltll"
   },
   "outputs": [],
   "source": []
  },
  {
   "cell_type": "markdown",
   "metadata": {
    "id": "Ipjq4eiSltlp"
   },
   "source": [
    "### Strings"
   ]
  },
  {
   "cell_type": "code",
   "execution_count": null,
   "metadata": {
    "id": "OeW_GQzOltlr"
   },
   "outputs": [],
   "source": []
  },
  {
   "cell_type": "code",
   "execution_count": null,
   "metadata": {
    "id": "xF1Bi-Rkltlu"
   },
   "outputs": [],
   "source": []
  },
  {
   "cell_type": "code",
   "execution_count": null,
   "metadata": {
    "id": "QlobSFUtltlw"
   },
   "outputs": [],
   "source": []
  },
  {
   "cell_type": "code",
   "execution_count": null,
   "metadata": {
    "id": "8LBWzzfbltly"
   },
   "outputs": [],
   "source": []
  },
  {
   "cell_type": "code",
   "execution_count": null,
   "metadata": {
    "id": "ycEhoxtUltl0"
   },
   "outputs": [],
   "source": []
  },
  {
   "cell_type": "code",
   "execution_count": null,
   "metadata": {
    "id": "bjZQzpuUltl2"
   },
   "outputs": [],
   "source": []
  },
  {
   "cell_type": "markdown",
   "metadata": {
    "id": "w6bJU-R9ltl5"
   },
   "source": [
    "### None"
   ]
  },
  {
   "cell_type": "code",
   "execution_count": null,
   "metadata": {
    "id": "RgeVhXGxltl5"
   },
   "outputs": [],
   "source": [
    "quilometragem = None"
   ]
  },
  {
   "cell_type": "code",
   "execution_count": null,
   "metadata": {
    "colab": {
     "base_uri": "https://localhost:8080/"
    },
    "id": "MJI6PKS6ltl8",
    "outputId": "68bc4e56-e7e7-4e3c-b24c-86299eefa8a2"
   },
   "outputs": [
    {
     "data": {
      "text/plain": [
       "NoneType"
      ]
     },
     "execution_count": 28,
     "metadata": {},
     "output_type": "execute_result"
    }
   ],
   "source": [
    "type(quilometragem)"
   ]
  },
  {
   "cell_type": "markdown",
   "metadata": {
    "id": "_ilupwV-ltl-"
   },
   "source": [
    "# 2.4 Conversão de tipos"
   ]
  },
  {
   "cell_type": "code",
   "execution_count": null,
   "metadata": {
    "id": "D5hq5Qbvltl-"
   },
   "outputs": [],
   "source": []
  },
  {
   "cell_type": "code",
   "execution_count": null,
   "metadata": {
    "id": "aJ0vi8_Nltl_"
   },
   "outputs": [],
   "source": []
  },
  {
   "cell_type": "code",
   "execution_count": null,
   "metadata": {
    "id": "29FVH7p7ltmB"
   },
   "outputs": [],
   "source": []
  },
  {
   "cell_type": "code",
   "execution_count": null,
   "metadata": {
    "id": "NGseTO2SltmC"
   },
   "outputs": [],
   "source": []
  },
  {
   "cell_type": "code",
   "execution_count": null,
   "metadata": {
    "id": "yaSBhwNWltmE"
   },
   "outputs": [],
   "source": []
  },
  {
   "cell_type": "code",
   "execution_count": null,
   "metadata": {
    "id": "5zMXVwLHltmF"
   },
   "outputs": [],
   "source": []
  },
  {
   "cell_type": "code",
   "execution_count": null,
   "metadata": {
    "id": "JJrqKRZFltmJ"
   },
   "outputs": [],
   "source": []
  },
  {
   "cell_type": "code",
   "execution_count": null,
   "metadata": {
    "id": "hWEIttpgltmM"
   },
   "outputs": [],
   "source": []
  },
  {
   "cell_type": "markdown",
   "metadata": {
    "id": "dByigpENltmO"
   },
   "source": [
    "### Conversões de tipo\n",
    "\n",
    "Funções int(), float(), str()"
   ]
  },
  {
   "cell_type": "code",
   "execution_count": null,
   "metadata": {
    "id": "MtecvWlsltmP"
   },
   "outputs": [],
   "source": []
  },
  {
   "cell_type": "code",
   "execution_count": null,
   "metadata": {
    "id": "S1NuIhDVltmS"
   },
   "outputs": [],
   "source": []
  },
  {
   "cell_type": "code",
   "execution_count": null,
   "metadata": {
    "id": "3kCUD1X-ltmT"
   },
   "outputs": [],
   "source": []
  },
  {
   "cell_type": "code",
   "execution_count": null,
   "metadata": {
    "id": "TTjSEVRaltmU"
   },
   "outputs": [],
   "source": []
  },
  {
   "cell_type": "code",
   "execution_count": null,
   "metadata": {
    "id": "P1P1bXaYltmV"
   },
   "outputs": [],
   "source": []
  },
  {
   "cell_type": "code",
   "execution_count": null,
   "metadata": {
    "id": "F_8Cn0aAltmW"
   },
   "outputs": [],
   "source": []
  },
  {
   "cell_type": "code",
   "execution_count": null,
   "metadata": {
    "id": "_KA6MUgmltmY"
   },
   "outputs": [],
   "source": []
  },
  {
   "cell_type": "code",
   "execution_count": null,
   "metadata": {
    "id": "7uiCxqUcltma"
   },
   "outputs": [],
   "source": []
  },
  {
   "cell_type": "markdown",
   "metadata": {
    "id": "gGpflJMYltmd"
   },
   "source": [
    "# 2.5 Indentação, comentários e formatação de *strings*"
   ]
  },
  {
   "cell_type": "markdown",
   "metadata": {
    "id": "XbijUgqVltmw"
   },
   "source": [
    "### Indentação\n",
    "\n",
    "Na linguagem Python os programas são estruturados por meio de indentação. Em qualquer linguagem de programação a prática da indentação é bastante útil, facilitando a leitura e também a manutenção do código. Em Python a indentação não é somente uma questão de organização e estilo, mas sim um requisito da linguagem."
   ]
  },
  {
   "cell_type": "code",
   "execution_count": null,
   "metadata": {
    "colab": {
     "base_uri": "https://localhost:8080/"
    },
    "id": "DqXANnyultmw",
    "outputId": "d4c1c803-108e-46ac-f066-203ea5aa0e70"
   },
   "outputs": [
    {
     "name": "stdout",
     "output_type": "stream",
     "text": [
      "Falso\n"
     ]
    }
   ],
   "source": [
    "ano_atual = 2022\n",
    "ano_fabricacao = 2019\n",
    "\n",
    "if (ano_atual == ano_fabricacao):\n",
    "    print('Verdadeiro')\n",
    "else:\n",
    "    print('Falso')"
   ]
  },
  {
   "cell_type": "markdown",
   "metadata": {
    "id": "dNBfv7x7ltmy"
   },
   "source": [
    "### Comentários\n",
    "\n",
    "Comentários são extremamente importantes em um programa. Consiste em um texto que descreve o que o programa ou uma parte específica do programa está fazendo. Os comentários são ignorados pelo interpretador Python. \n",
    "\n",
    "Podemos ter comentários de uma única linha ou de múltiplas linhas."
   ]
  },
  {
   "cell_type": "code",
   "execution_count": null,
   "metadata": {
    "colab": {
     "base_uri": "https://localhost:8080/"
    },
    "id": "GN3DfwiRltmy",
    "outputId": "7a78f32e-7fc1-4a4e-b858-6a49a2e8cf05"
   },
   "outputs": [
    {
     "data": {
      "text/plain": [
       "2019"
      ]
     },
     "execution_count": 24,
     "metadata": {},
     "output_type": "execute_result"
    }
   ],
   "source": [
    "# Isto é um comentário\n",
    "ano_atual = 2019\n",
    "ano_atual"
   ]
  },
  {
   "cell_type": "code",
   "execution_count": null,
   "metadata": {
    "colab": {
     "base_uri": "https://localhost:8080/"
    },
    "id": "PICBiohFltm2",
    "outputId": "6011bf72-583d-495b-b117-bccc16df59f8"
   },
   "outputs": [
    {
     "data": {
      "text/plain": [
       "2019"
      ]
     },
     "execution_count": 32,
     "metadata": {},
     "output_type": "execute_result"
    }
   ],
   "source": [
    "# Isto\n",
    "# é um \n",
    "# comentário\n",
    "ano_atual = 2019\n",
    "ano_atual"
   ]
  },
  {
   "cell_type": "code",
   "execution_count": null,
   "metadata": {
    "colab": {
     "base_uri": "https://localhost:8080/"
    },
    "id": "PTkJ4Vjultm4",
    "outputId": "b567fabf-3c8b-44b5-a38a-04b92bed9668"
   },
   "outputs": [
    {
     "data": {
      "text/plain": [
       "2019"
      ]
     },
     "execution_count": 25,
     "metadata": {},
     "output_type": "execute_result"
    }
   ],
   "source": [
    "'''Isto é um\n",
    "comentário'''\n",
    "ano_atual = 2019\n",
    "ano_atual"
   ]
  },
  {
   "cell_type": "code",
   "execution_count": null,
   "metadata": {
    "colab": {
     "base_uri": "https://localhost:8080/"
    },
    "id": "SYEGdALxltm5",
    "outputId": "e7bc87fd-c678-4f54-f2d2-0a1598cc214d"
   },
   "outputs": [
    {
     "name": "stdout",
     "output_type": "stream",
     "text": [
      "Verdadeiro\n"
     ]
    }
   ],
   "source": [
    "# Definindo variáveis\n",
    "ano_atual = 2019\n",
    "ano_fabricacao = 2019\n",
    "\n",
    "'''\n",
    "Estrutura condicional que vamos \n",
    "aprender na próxima aula\n",
    "'''\n",
    "if (ano_atual == ano_fabricacao):   # Testando se condição é verdadeira\n",
    "    print('Verdadeiro')\n",
    "else:                               # Testando se condição é falsa\n",
    "    print('Falso')"
   ]
  },
  {
   "cell_type": "markdown",
   "metadata": {
    "id": "8--bcJ01ltm8"
   },
   "source": [
    "### Formatação de *strings*"
   ]
  },
  {
   "cell_type": "markdown",
   "metadata": {
    "id": "8lSC0XEDltm-"
   },
   "source": [
    "## *str % valor*\n",
    "https://docs.python.org/3.6/library/stdtypes.html#old-string-formatting"
   ]
  },
  {
   "cell_type": "code",
   "execution_count": null,
   "metadata": {
    "id": "aqqBQJ8kltm_"
   },
   "outputs": [],
   "source": []
  },
  {
   "cell_type": "code",
   "execution_count": null,
   "metadata": {
    "id": "EFK1y92vltnA"
   },
   "outputs": [],
   "source": []
  },
  {
   "cell_type": "code",
   "execution_count": null,
   "metadata": {
    "id": "3Y-V_AVDltnD"
   },
   "outputs": [],
   "source": []
  },
  {
   "cell_type": "code",
   "execution_count": null,
   "metadata": {
    "id": "pr4wrDaSltnE"
   },
   "outputs": [],
   "source": []
  },
  {
   "cell_type": "code",
   "execution_count": null,
   "metadata": {
    "id": "iQVGzKNvltnF"
   },
   "outputs": [],
   "source": []
  },
  {
   "cell_type": "markdown",
   "metadata": {
    "id": "CMovhJZ_ltnG"
   },
   "source": [
    "## *str.format()*\n",
    "\n",
    "https://docs.python.org/3.6/library/stdtypes.html#str.format"
   ]
  },
  {
   "cell_type": "code",
   "execution_count": null,
   "metadata": {
    "id": "N12xmMehltnG"
   },
   "outputs": [],
   "source": []
  },
  {
   "cell_type": "code",
   "execution_count": null,
   "metadata": {
    "id": "mRBmU9G1ltnJ"
   },
   "outputs": [],
   "source": []
  },
  {
   "cell_type": "code",
   "execution_count": null,
   "metadata": {
    "id": "wpqEsTwnltnL"
   },
   "outputs": [],
   "source": []
  },
  {
   "cell_type": "markdown",
   "metadata": {
    "id": "V-wPNUN9ltnN"
   },
   "source": [
    "## *f-Strings*\n",
    "\n",
    "https://docs.python.org/3.6/reference/lexical_analysis.html#f-strings"
   ]
  },
  {
   "cell_type": "code",
   "execution_count": null,
   "metadata": {
    "id": "7Fq_WPv0ltnO"
   },
   "outputs": [],
   "source": []
  },
  {
   "cell_type": "code",
   "execution_count": null,
   "metadata": {
    "id": "bE3qbd6WltnR"
   },
   "outputs": [],
   "source": []
  },
  {
   "cell_type": "markdown",
   "metadata": {
    "id": "_IZuNE48ltnS"
   },
   "source": [
    "# <font color=green> 3. TRABALHANDO COM LISTAS\n",
    "---"
   ]
  },
  {
   "cell_type": "markdown",
   "metadata": {
    "id": "zhS89xysltnS"
   },
   "source": [
    "# 3.1 Criando listas\n",
    "\n",
    "Listas são sequências **mutáveis** que são utilizadas para armazenar coleções de itens, geralmente homogêneos. Podem ser construídas de várias formas:\n",
    "```\n",
    "- Utilizando um par de colchetes: [ ], [ 1 ]\n",
    "- Utilizando um par de colchetes com itens separados por vírgulas: [ 1, 2, 3 ]\n",
    "```"
   ]
  },
  {
   "cell_type": "code",
   "execution_count": null,
   "metadata": {
    "colab": {
     "base_uri": "https://localhost:8080/"
    },
    "id": "aE4UWF10ltnS",
    "outputId": "51ecee40-92b6-4761-e8fd-09258389a952"
   },
   "outputs": [
    {
     "data": {
      "text/plain": [
       "['Rodas de liga',\n",
       " 'Travas elétricas',\n",
       " 'Piloto automático',\n",
       " 'Bancos de couro',\n",
       " 'Ar condicionado',\n",
       " 'Sensor de estacionamento',\n",
       " 'Sensor crepuscular',\n",
       " 'Sensor de chuva']"
      ]
     },
     "execution_count": 35,
     "metadata": {},
     "output_type": "execute_result"
    }
   ],
   "source": [
    "Acessorios = ['Rodas de liga', 'Travas elétricas', 'Piloto automático', 'Bancos de couro', 'Ar condicionado', 'Sensor de estacionamento', 'Sensor crepuscular', 'Sensor de chuva']\n",
    "Acessorios"
   ]
  },
  {
   "cell_type": "code",
   "execution_count": null,
   "metadata": {
    "id": "1-M6bUISe9Bb"
   },
   "outputs": [],
   "source": []
  },
  {
   "cell_type": "markdown",
   "metadata": {
    "id": "Mmlkh5TVltnT"
   },
   "source": [
    "### Lista com tipos de dados variados"
   ]
  },
  {
   "cell_type": "code",
   "execution_count": 13,
   "metadata": {
    "id": "Mfpu7NoJltnT"
   },
   "outputs": [],
   "source": [
    "Carro_1 = ['Jetta Variant', 'Motor 4.0 Turbo', 2003, 44410.0, False, ['Rodas de liga', 'Travas elétricas', 'Piloto automático'], 88078.64]\n",
    "Carro_2 = ['Passat', 'Motor Diesel', 1991, 5712.0, False, ['Central multimídia', 'Teto panorâmico', 'Freios ABS'], 106161.94]"
   ]
  },
  {
   "cell_type": "code",
   "execution_count": null,
   "metadata": {
    "colab": {
     "base_uri": "https://localhost:8080/"
    },
    "id": "EJSJFJjKltnV",
    "outputId": "77152b33-7e4f-42ba-877a-4ad00197be9b"
   },
   "outputs": [
    {
     "data": {
      "text/plain": [
       "['Jetta Variant',\n",
       " 'Motor 4.0 Turbo',\n",
       " 2003,\n",
       " 44410.0,\n",
       " False,\n",
       " ['Rodas de liga', 'Travas elétricas', 'Piloto automático'],\n",
       " 88078.64]"
      ]
     },
     "execution_count": 27,
     "metadata": {},
     "output_type": "execute_result"
    }
   ],
   "source": [
    "Carro_1"
   ]
  },
  {
   "cell_type": "code",
   "execution_count": 14,
   "metadata": {
    "id": "7MMG7L8VltnX"
   },
   "outputs": [],
   "source": [
    "Carros= [Carro_1, Carro_2]"
   ]
  },
  {
   "cell_type": "code",
   "execution_count": 15,
   "metadata": {
    "id": "7E8erLgZltnZ"
   },
   "outputs": [
    {
     "data": {
      "text/plain": [
       "[['Jetta Variant',\n",
       "  'Motor 4.0 Turbo',\n",
       "  2003,\n",
       "  44410.0,\n",
       "  False,\n",
       "  ['Rodas de liga', 'Travas elétricas', 'Piloto automático'],\n",
       "  88078.64],\n",
       " ['Passat',\n",
       "  'Motor Diesel',\n",
       "  1991,\n",
       "  5712.0,\n",
       "  False,\n",
       "  ['Central multimídia', 'Teto panorâmico', 'Freios ABS'],\n",
       "  106161.94]]"
      ]
     },
     "execution_count": 15,
     "metadata": {},
     "output_type": "execute_result"
    }
   ],
   "source": [
    "Carros"
   ]
  },
  {
   "cell_type": "markdown",
   "metadata": {
    "id": "5yMXJ0xdltna"
   },
   "source": [
    "# 3.2 Operações com listas\n",
    "\n",
    "https://docs.python.org/3.6/library/stdtypes.html#common-sequence-operations"
   ]
  },
  {
   "cell_type": "markdown",
   "metadata": {
    "id": "YSorJOGlltna"
   },
   "source": [
    "## *x in A*\n",
    "\n",
    "Retorna **True** se um elemento da lista *A* for igual a *x*."
   ]
  },
  {
   "cell_type": "code",
   "execution_count": null,
   "metadata": {
    "colab": {
     "base_uri": "https://localhost:8080/"
    },
    "id": "GgSP_nlHltnb",
    "outputId": "40901e94-8f3b-4306-af56-9dc011eb0d13"
   },
   "outputs": [
    {
     "data": {
      "text/plain": [
       "['Rodas de liga',\n",
       " 'Travas elétricas',\n",
       " 'Piloto automático',\n",
       " 'Bancos de couro',\n",
       " 'Ar condicionado',\n",
       " 'Sensor de estacionamento',\n",
       " 'Sensor crepuscular',\n",
       " 'Sensor de chuva']"
      ]
     },
     "execution_count": 42,
     "metadata": {},
     "output_type": "execute_result"
    }
   ],
   "source": [
    "Acessorios"
   ]
  },
  {
   "cell_type": "code",
   "execution_count": null,
   "metadata": {
    "colab": {
     "base_uri": "https://localhost:8080/"
    },
    "id": "_JyyHPmWltnd",
    "outputId": "31a00ec6-b34f-462e-c814-85d533e2515f"
   },
   "outputs": [
    {
     "data": {
      "text/plain": [
       "True"
      ]
     },
     "execution_count": 43,
     "metadata": {},
     "output_type": "execute_result"
    }
   ],
   "source": [
    "'Rodas de liga' in Acessorios"
   ]
  },
  {
   "cell_type": "code",
   "execution_count": null,
   "metadata": {
    "colab": {
     "base_uri": "https://localhost:8080/"
    },
    "id": "tebg9gAyltne",
    "outputId": "bfba809f-d183-49f6-a603-d4fef9ae9330"
   },
   "outputs": [
    {
     "data": {
      "text/plain": [
       "[['Jetta Variant',\n",
       "  'Motor 4.0 Turbo',\n",
       "  2003,\n",
       "  44410.0,\n",
       "  False,\n",
       "  ['Rodas de liga', 'Travas elétricas', 'Piloto automático'],\n",
       "  88078.64],\n",
       " ['Passat',\n",
       "  'Motor Diesel',\n",
       "  1991,\n",
       "  5712.0,\n",
       "  False,\n",
       "  ['Central multimídia', 'Teto panorâmico', 'Freios ABS'],\n",
       "  106161.94]]"
      ]
     },
     "execution_count": 52,
     "metadata": {},
     "output_type": "execute_result"
    }
   ],
   "source": [
    "Carros"
   ]
  },
  {
   "cell_type": "code",
   "execution_count": null,
   "metadata": {
    "colab": {
     "base_uri": "https://localhost:8080/",
     "height": 35
    },
    "id": "W_1PKJYsltnf",
    "outputId": "5e991e2b-4607-4bea-9381-de071f087b6a"
   },
   "outputs": [
    {
     "data": {
      "application/vnd.google.colaboratory.intrinsic+json": {
       "type": "string"
      },
      "text/plain": [
       "'Jetta Variant'"
      ]
     },
     "execution_count": 53,
     "metadata": {},
     "output_type": "execute_result"
    }
   ],
   "source": [
    "Carros[0][0]"
   ]
  },
  {
   "cell_type": "code",
   "execution_count": null,
   "metadata": {
    "colab": {
     "base_uri": "https://localhost:8080/"
    },
    "id": "1WNsBXFyltng",
    "outputId": "57051cb5-dadf-48f6-eb39-4b2c1cc0e509"
   },
   "outputs": [
    {
     "data": {
      "text/plain": [
       "['Motor 4.0 Turbo', 2003, 44410.0]"
      ]
     },
     "execution_count": 30,
     "metadata": {},
     "output_type": "execute_result"
    }
   ],
   "source": [
    "Carros[0][1:4]"
   ]
  },
  {
   "cell_type": "markdown",
   "metadata": {
    "id": "RF6_rf90ltnh"
   },
   "source": [
    "## *A + B*\n",
    "\n",
    "Concatena as listas *A* e *B*."
   ]
  },
  {
   "cell_type": "code",
   "execution_count": null,
   "metadata": {
    "id": "8lnzbYnRltnh"
   },
   "outputs": [],
   "source": [
    "A = ['Rodas de liga', 'Travas elétricas', 'Piloto automático', 'Bancos de couro']\n",
    "B = ['Ar condicionado', 'Sensor de estacionamento', 'Sensor crepuscular', 'Sensor de chuva']"
   ]
  },
  {
   "cell_type": "code",
   "execution_count": null,
   "metadata": {
    "colab": {
     "base_uri": "https://localhost:8080/"
    },
    "id": "SzbiHHF4ltni",
    "outputId": "a7ec4a68-dc11-41db-fc8a-521cb41adf34"
   },
   "outputs": [
    {
     "data": {
      "text/plain": [
       "['Rodas de liga', 'Travas elétricas', 'Piloto automático', 'Bancos de couro']"
      ]
     },
     "execution_count": 34,
     "metadata": {},
     "output_type": "execute_result"
    }
   ],
   "source": [
    "A"
   ]
  },
  {
   "cell_type": "code",
   "execution_count": null,
   "metadata": {
    "colab": {
     "base_uri": "https://localhost:8080/"
    },
    "id": "It5Cn5aXltni",
    "outputId": "acd280fd-3ea2-46a3-e3c7-28de9cf64af0"
   },
   "outputs": [
    {
     "data": {
      "text/plain": [
       "['Ar condicionado',\n",
       " 'Sensor de estacionamento',\n",
       " 'Sensor crepuscular',\n",
       " 'Sensor de chuva']"
      ]
     },
     "execution_count": 35,
     "metadata": {},
     "output_type": "execute_result"
    }
   ],
   "source": [
    "B"
   ]
  },
  {
   "cell_type": "code",
   "execution_count": null,
   "metadata": {
    "colab": {
     "base_uri": "https://localhost:8080/"
    },
    "id": "l7gF4Ph5ltnj",
    "outputId": "f3c61b4e-4ac2-4ffe-9d83-cc776b4d7f7b"
   },
   "outputs": [
    {
     "data": {
      "text/plain": [
       "['Rodas de liga',\n",
       " 'Travas elétricas',\n",
       " 'Piloto automático',\n",
       " 'Bancos de couro',\n",
       " 'Ar condicionado',\n",
       " 'Sensor de estacionamento',\n",
       " 'Sensor crepuscular',\n",
       " 'Sensor de chuva']"
      ]
     },
     "execution_count": 36,
     "metadata": {},
     "output_type": "execute_result"
    }
   ],
   "source": [
    "A + B"
   ]
  },
  {
   "cell_type": "markdown",
   "metadata": {
    "id": "iTv5t7zAltnk"
   },
   "source": [
    "## *len(A)*\n",
    "\n",
    "Tamanho da lista A."
   ]
  },
  {
   "cell_type": "code",
   "execution_count": null,
   "metadata": {
    "colab": {
     "base_uri": "https://localhost:8080/"
    },
    "id": "dtbuCDSOltnk",
    "outputId": "f42608ed-454b-4a87-d94b-e95511645a4c"
   },
   "outputs": [
    {
     "data": {
      "text/plain": [
       "4"
      ]
     },
     "execution_count": 48,
     "metadata": {},
     "output_type": "execute_result"
    }
   ],
   "source": [
    "len(A)"
   ]
  },
  {
   "cell_type": "markdown",
   "metadata": {
    "id": "k7wWCbAmltnl"
   },
   "source": [
    "# 3.3 Seleções em listas"
   ]
  },
  {
   "cell_type": "markdown",
   "metadata": {
    "id": "uF3NmgUaltnl"
   },
   "source": [
    "## *A[ i ]*\n",
    "\n",
    "Retorna o i-ésimo item da lista *A*.\n",
    "\n",
    "<font color=red>**Observação:**</font> Listas têm indexação com origem no zero."
   ]
  },
  {
   "cell_type": "code",
   "execution_count": null,
   "metadata": {
    "colab": {
     "base_uri": "https://localhost:8080/"
    },
    "id": "f5ct7w1Wltnm",
    "outputId": "9608e399-314c-4c1e-e853-01a74aa1083a"
   },
   "outputs": [
    {
     "data": {
      "text/plain": [
       "['Rodas de liga', 'Travas elétricas', 'Piloto automático', 'Bancos de couro']"
      ]
     },
     "execution_count": 37,
     "metadata": {},
     "output_type": "execute_result"
    }
   ],
   "source": [
    "A"
   ]
  },
  {
   "cell_type": "code",
   "execution_count": null,
   "metadata": {
    "colab": {
     "base_uri": "https://localhost:8080/",
     "height": 35
    },
    "id": "-BLG7yifltnn",
    "outputId": "22c77071-2952-49ed-e2b7-00a982016019"
   },
   "outputs": [
    {
     "data": {
      "application/vnd.google.colaboratory.intrinsic+json": {
       "type": "string"
      },
      "text/plain": [
       "'Bancos de couro'"
      ]
     },
     "execution_count": 38,
     "metadata": {},
     "output_type": "execute_result"
    }
   ],
   "source": [
    "A[-1]"
   ]
  },
  {
   "cell_type": "code",
   "execution_count": null,
   "metadata": {
    "id": "SoL6PIjJltno"
   },
   "outputs": [],
   "source": []
  },
  {
   "cell_type": "code",
   "execution_count": null,
   "metadata": {
    "id": "pGMDc5FLltnq"
   },
   "outputs": [],
   "source": []
  },
  {
   "cell_type": "code",
   "execution_count": null,
   "metadata": {
    "id": "m3AaFe73ltnr"
   },
   "outputs": [],
   "source": []
  },
  {
   "cell_type": "code",
   "execution_count": null,
   "metadata": {
    "id": "AeDJviqoltns"
   },
   "outputs": [],
   "source": []
  },
  {
   "cell_type": "code",
   "execution_count": null,
   "metadata": {
    "id": "KdenG1BZltnt"
   },
   "outputs": [],
   "source": []
  },
  {
   "cell_type": "code",
   "execution_count": null,
   "metadata": {
    "id": "iOjsfrlFltnu"
   },
   "outputs": [],
   "source": []
  },
  {
   "cell_type": "code",
   "execution_count": null,
   "metadata": {
    "id": "6BrON70Zltnu"
   },
   "outputs": [],
   "source": []
  },
  {
   "cell_type": "markdown",
   "metadata": {
    "id": "9WgwxPIMltnv"
   },
   "source": [
    "## *A[ i : j ]*\n",
    "\n",
    "Recorta a lista *A* do índice i até o j. Neste fatiamento o elemento com índice i é **incluído** e o elemento com índice j **não é incluído** no resultado."
   ]
  },
  {
   "cell_type": "code",
   "execution_count": null,
   "metadata": {
    "id": "bJzL2PMiltnv"
   },
   "outputs": [],
   "source": []
  },
  {
   "cell_type": "code",
   "execution_count": null,
   "metadata": {
    "id": "sFAlJ4u_ltnw"
   },
   "outputs": [],
   "source": []
  },
  {
   "cell_type": "code",
   "execution_count": null,
   "metadata": {
    "id": "dFdTBWa9ltnz"
   },
   "outputs": [],
   "source": []
  },
  {
   "cell_type": "code",
   "execution_count": null,
   "metadata": {
    "id": "yxxB2-_Dltn0"
   },
   "outputs": [],
   "source": []
  },
  {
   "cell_type": "markdown",
   "metadata": {
    "id": "R-S-LCPGltn0"
   },
   "source": [
    "# 3.4 Métodos de listas\n",
    "\n",
    "https://docs.python.org/3.6/library/stdtypes.html#mutable-sequence-types"
   ]
  },
  {
   "cell_type": "markdown",
   "metadata": {
    "id": "j9s2OyyPltn1"
   },
   "source": [
    "## *A.sort()*\n",
    "\n",
    "Ordena a lista *A*."
   ]
  },
  {
   "cell_type": "code",
   "execution_count": null,
   "metadata": {
    "id": "A2dJGhFsltn1"
   },
   "outputs": [],
   "source": []
  },
  {
   "cell_type": "code",
   "execution_count": null,
   "metadata": {
    "id": "VDWCHlTcltn2"
   },
   "outputs": [],
   "source": []
  },
  {
   "cell_type": "markdown",
   "metadata": {
    "id": "N9Spp7-xltn3"
   },
   "source": [
    "## *A.append(x)*\n",
    "\n",
    "Adiciona o elemnto *x* no final da lista *A*."
   ]
  },
  {
   "cell_type": "code",
   "execution_count": null,
   "metadata": {
    "id": "l7I_U-sRltn4"
   },
   "outputs": [],
   "source": []
  },
  {
   "cell_type": "markdown",
   "metadata": {
    "id": "eiP3oACPltn6"
   },
   "source": [
    "## *A.pop(i)*\n",
    "\n",
    "Remove e retorna o elemento de índice i da lista *A*.\n",
    "\n",
    "<font color=red>**Observação:**</font> Por *default* o método *pop()* remove e retorna o último elemento de uma lista."
   ]
  },
  {
   "cell_type": "code",
   "execution_count": null,
   "metadata": {
    "id": "BoCKa5Hqltn6"
   },
   "outputs": [],
   "source": []
  },
  {
   "cell_type": "code",
   "execution_count": null,
   "metadata": {
    "id": "GfGX1jw-ltn9"
   },
   "outputs": [],
   "source": []
  },
  {
   "cell_type": "code",
   "execution_count": null,
   "metadata": {
    "id": "tppe9tqbltn-"
   },
   "outputs": [],
   "source": []
  },
  {
   "cell_type": "code",
   "execution_count": null,
   "metadata": {
    "id": "Ku6ZHTdJltn_"
   },
   "outputs": [],
   "source": []
  },
  {
   "cell_type": "markdown",
   "metadata": {
    "id": "NySIp62hltoC"
   },
   "source": [
    "## *A.copy()*\n",
    "\n",
    "Cria uma cópia da lista *A*.\n",
    "\n",
    "<font color=red>**Observação:**</font> O mesmo resultado pode ser obtido com o seguinte código: \n",
    "```\n",
    "A[:]\n",
    "```"
   ]
  },
  {
   "cell_type": "code",
   "execution_count": null,
   "metadata": {
    "colab": {
     "base_uri": "https://localhost:8080/"
    },
    "id": "yP9ODygcltoC",
    "outputId": "1b648438-7daf-42b8-dd8d-06321d29b890"
   },
   "outputs": [
    {
     "data": {
      "text/plain": [
       "['Rodas de liga', 'Travas elétricas', 'Piloto automático', 'Bancos de couro']"
      ]
     },
     "execution_count": 55,
     "metadata": {},
     "output_type": "execute_result"
    }
   ],
   "source": [
    "A"
   ]
  },
  {
   "cell_type": "code",
   "execution_count": null,
   "metadata": {
    "id": "W3eQdVWkltoF"
   },
   "outputs": [],
   "source": [
    "C = A"
   ]
  },
  {
   "cell_type": "code",
   "execution_count": null,
   "metadata": {
    "id": "OVbvjjmdltoG"
   },
   "outputs": [],
   "source": [
    "C.append('4 x 4')"
   ]
  },
  {
   "cell_type": "code",
   "execution_count": null,
   "metadata": {
    "colab": {
     "base_uri": "https://localhost:8080/"
    },
    "id": "P-MN1JfAltoH",
    "outputId": "fbb9ed63-f2eb-42e2-dad7-d38aa127cbb8"
   },
   "outputs": [
    {
     "data": {
      "text/plain": [
       "['Rodas de liga',\n",
       " 'Travas elétricas',\n",
       " 'Piloto automático',\n",
       " 'Bancos de couro',\n",
       " '4 x 4']"
      ]
     },
     "execution_count": 58,
     "metadata": {},
     "output_type": "execute_result"
    }
   ],
   "source": [
    "C"
   ]
  },
  {
   "cell_type": "code",
   "execution_count": null,
   "metadata": {
    "colab": {
     "base_uri": "https://localhost:8080/"
    },
    "id": "ZVQ38eqVltoJ",
    "outputId": "6b4cc768-bbe7-4a3e-873c-eabff740ad27"
   },
   "outputs": [
    {
     "data": {
      "text/plain": [
       "['Rodas de liga',\n",
       " 'Travas elétricas',\n",
       " 'Piloto automático',\n",
       " 'Bancos de couro',\n",
       " '4 x 4']"
      ]
     },
     "execution_count": 59,
     "metadata": {},
     "output_type": "execute_result"
    }
   ],
   "source": [
    "A"
   ]
  },
  {
   "cell_type": "code",
   "execution_count": null,
   "metadata": {
    "colab": {
     "base_uri": "https://localhost:8080/"
    },
    "id": "bqPiw5wSltoM",
    "outputId": "1b5482dc-3b84-4b40-8b5b-d653e3fd7895"
   },
   "outputs": [
    {
     "data": {
      "text/plain": [
       "['Rodas de liga',\n",
       " 'Travas elétricas',\n",
       " 'Piloto automático',\n",
       " 'Bancos de couro',\n",
       " '4 x 4']"
      ]
     },
     "execution_count": 61,
     "metadata": {},
     "output_type": "execute_result"
    }
   ],
   "source": [
    "D = A.copy()\n",
    "D"
   ]
  },
  {
   "cell_type": "code",
   "execution_count": null,
   "metadata": {
    "colab": {
     "base_uri": "https://localhost:8080/",
     "height": 35
    },
    "id": "Lo9WgzF6ltoP",
    "outputId": "c4992b1a-d928-4e98-dbfc-41a7ce132273"
   },
   "outputs": [
    {
     "data": {
      "application/vnd.google.colaboratory.intrinsic+json": {
       "type": "string"
      },
      "text/plain": [
       "'4 x 4'"
      ]
     },
     "execution_count": 62,
     "metadata": {},
     "output_type": "execute_result"
    }
   ],
   "source": [
    "D.pop()"
   ]
  },
  {
   "cell_type": "code",
   "execution_count": null,
   "metadata": {
    "colab": {
     "base_uri": "https://localhost:8080/"
    },
    "id": "mQS-O2jirqep",
    "outputId": "3f226264-10f8-4b41-e1a7-050d8c3da06c"
   },
   "outputs": [
    {
     "data": {
      "text/plain": [
       "['Rodas de liga',\n",
       " 'Travas elétricas',\n",
       " 'Piloto automático',\n",
       " 'Bancos de couro',\n",
       " '4 x 4']"
      ]
     },
     "execution_count": 67,
     "metadata": {},
     "output_type": "execute_result"
    }
   ],
   "source": [
    "A"
   ]
  },
  {
   "cell_type": "code",
   "execution_count": null,
   "metadata": {
    "colab": {
     "base_uri": "https://localhost:8080/"
    },
    "id": "r2LPHB34ltoQ",
    "outputId": "dddaa47e-cce8-40d5-ad91-f370de7dbca2"
   },
   "outputs": [
    {
     "data": {
      "text/plain": [
       "['Rodas de liga', 'Travas elétricas', 'Piloto automático', 'Bancos de couro']"
      ]
     },
     "execution_count": 68,
     "metadata": {},
     "output_type": "execute_result"
    }
   ],
   "source": [
    "D\n"
   ]
  },
  {
   "cell_type": "code",
   "execution_count": null,
   "metadata": {
    "id": "UQqUkO8YltoR"
   },
   "outputs": [],
   "source": [
    "E = A[:]"
   ]
  },
  {
   "cell_type": "code",
   "execution_count": null,
   "metadata": {
    "id": "5hC4R-jNltoS"
   },
   "outputs": [],
   "source": []
  },
  {
   "cell_type": "markdown",
   "metadata": {
    "id": "8zMZNsg2ltoU"
   },
   "source": [
    "# <font color=green> 4. ESTRUTURAS DE REPETIÇÃO E CONDICIONAIS\n",
    "---"
   ]
  },
  {
   "cell_type": "markdown",
   "metadata": {
    "id": "gxUmCLyJltoU"
   },
   "source": [
    "# 4.1 Instrução *for*\n",
    "\n",
    "#### Formato padrão\n",
    "\n",
    "```\n",
    "for <variável> in <coleção>:\n",
    "    <instruções>\n",
    "```"
   ]
  },
  {
   "cell_type": "markdown",
   "metadata": {
    "id": "Irl5oa0altoU"
   },
   "source": [
    "### Loops com listas"
   ]
  },
  {
   "cell_type": "code",
   "execution_count": null,
   "metadata": {
    "colab": {
     "base_uri": "https://localhost:8080/"
    },
    "id": "E1LZ5n25ltoV",
    "outputId": "52c2b1f1-6535-49c5-9297-325ac165fd21"
   },
   "outputs": [
    {
     "data": {
      "text/plain": [
       "['Rodas de liga',\n",
       " 'Travas elétricas',\n",
       " 'Piloto automático',\n",
       " 'Bancos de couro',\n",
       " 'Ar condicionado',\n",
       " 'Sensor de estacionamento',\n",
       " 'Sensor crepuscular',\n",
       " 'Sensor de chuva']"
      ]
     },
     "execution_count": 70,
     "metadata": {},
     "output_type": "execute_result"
    }
   ],
   "source": [
    "Acessorios"
   ]
  },
  {
   "cell_type": "code",
   "execution_count": null,
   "metadata": {
    "colab": {
     "base_uri": "https://localhost:8080/"
    },
    "id": "Z459QqsFltoY",
    "outputId": "fca96bd2-435a-4dd8-d04f-f07cc1a63258"
   },
   "outputs": [
    {
     "name": "stdout",
     "output_type": "stream",
     "text": [
      "Rodas de liga\n",
      "Travas elétricas\n",
      "Piloto automático\n",
      "Bancos de couro\n",
      "Ar condicionado\n",
      "Sensor de estacionamento\n",
      "Sensor crepuscular\n",
      "Sensor de chuva\n"
     ]
    }
   ],
   "source": [
    "for item in Acessorios:\n",
    "  print(item)"
   ]
  },
  {
   "cell_type": "markdown",
   "metadata": {
    "id": "Gbztj9T4ltoZ"
   },
   "source": [
    "###  List comprehensions\n",
    "\n",
    "https://docs.python.org/3.6/tutorial/datastructures.html#list-comprehensions"
   ]
  },
  {
   "cell_type": "markdown",
   "metadata": {
    "id": "4Y8g0cSHjbof"
   },
   "source": [
    "*range()* -> https://docs.python.org/3.6/library/functions.html#func-range"
   ]
  },
  {
   "cell_type": "code",
   "execution_count": null,
   "metadata": {
    "colab": {
     "base_uri": "https://localhost:8080/"
    },
    "id": "xDo9TLdYltoZ",
    "outputId": "d87abed7-d400-4006-ed2a-c4a4b19695a7"
   },
   "outputs": [
    {
     "data": {
      "text/plain": [
       "[1, 2, 3, 4, 5, 6, 7, 8, 9]"
      ]
     },
     "execution_count": 16,
     "metadata": {},
     "output_type": "execute_result"
    }
   ],
   "source": [
    "a = range(1, 10)\n",
    "list(a)"
   ]
  },
  {
   "cell_type": "code",
   "execution_count": null,
   "metadata": {
    "colab": {
     "base_uri": "https://localhost:8080/"
    },
    "id": "V12p_CQBltoc",
    "outputId": "adcd98e6-a656-4127-d8ee-aabafb4b055e"
   },
   "outputs": [
    {
     "data": {
      "text/plain": [
       "[0,\n",
       " 1,\n",
       " 8,\n",
       " 27,\n",
       " 64,\n",
       " 125,\n",
       " 216,\n",
       " 343,\n",
       " 512,\n",
       " 729,\n",
       " 1000,\n",
       " 1331,\n",
       " 1728,\n",
       " 2197,\n",
       " 2744,\n",
       " 3375,\n",
       " 4096,\n",
       " 4913,\n",
       " 5832,\n",
       " 6859]"
      ]
     },
     "execution_count": 17,
     "metadata": {},
     "output_type": "execute_result"
    }
   ],
   "source": [
    "[i **3 for i in range(20)]"
   ]
  },
  {
   "cell_type": "code",
   "execution_count": null,
   "metadata": {
    "id": "OOzHHRWHltof"
   },
   "outputs": [],
   "source": []
  },
  {
   "cell_type": "code",
   "execution_count": null,
   "metadata": {
    "id": "TKynwnxgltog"
   },
   "outputs": [],
   "source": []
  },
  {
   "cell_type": "code",
   "execution_count": null,
   "metadata": {
    "id": "d77YH_dVltoh"
   },
   "outputs": [],
   "source": []
  },
  {
   "cell_type": "code",
   "execution_count": null,
   "metadata": {
    "id": "3OmElLO2ltoi"
   },
   "outputs": [],
   "source": []
  },
  {
   "cell_type": "code",
   "execution_count": null,
   "metadata": {
    "id": "HKUkvcDkltok"
   },
   "outputs": [],
   "source": []
  },
  {
   "cell_type": "markdown",
   "metadata": {
    "id": "AcAcaKFXltom"
   },
   "source": [
    "# 4.2 Loops aninhados"
   ]
  },
  {
   "cell_type": "code",
   "execution_count": null,
   "metadata": {
    "colab": {
     "base_uri": "https://localhost:8080/"
    },
    "id": "mjgJCo3dlton",
    "outputId": "af0b519b-ba37-4ea9-a1b2-efae27772535"
   },
   "outputs": [
    {
     "data": {
      "text/plain": [
       "[['Rodas de liga',\n",
       "  'Travas elétricas',\n",
       "  'Piloto automático',\n",
       "  'Bancos de couro',\n",
       "  'Ar condicionado',\n",
       "  'Sensor de estacionamento',\n",
       "  'Sensor crepuscular',\n",
       "  'Sensor de chuva'],\n",
       " ['Central multimídia',\n",
       "  'Teto panorâmico',\n",
       "  'Freios ABS',\n",
       "  '4 X 4',\n",
       "  'Painel digital',\n",
       "  'Piloto automático',\n",
       "  'Bancos de couro',\n",
       "  'Câmera de estacionamento'],\n",
       " ['Piloto automático',\n",
       "  'Controle de estabilidade',\n",
       "  'Sensor crepuscular',\n",
       "  'Freios ABS',\n",
       "  'Câmbio automático',\n",
       "  'Bancos de couro',\n",
       "  'Central multimídia',\n",
       "  'Vidros elétricos']]"
      ]
     },
     "execution_count": 18,
     "metadata": {},
     "output_type": "execute_result"
    }
   ],
   "source": [
    "dados = [ \n",
    "    ['Rodas de liga', 'Travas elétricas', 'Piloto automático', 'Bancos de couro', 'Ar condicionado', 'Sensor de estacionamento', 'Sensor crepuscular', 'Sensor de chuva'],\n",
    "    ['Central multimídia', 'Teto panorâmico', 'Freios ABS', '4 X 4', 'Painel digital', 'Piloto automático', 'Bancos de couro', 'Câmera de estacionamento'],\n",
    "    ['Piloto automático', 'Controle de estabilidade', 'Sensor crepuscular', 'Freios ABS', 'Câmbio automático', 'Bancos de couro', 'Central multimídia', 'Vidros elétricos']\n",
    "]\n",
    "dados"
   ]
  },
  {
   "cell_type": "code",
   "execution_count": null,
   "metadata": {
    "colab": {
     "base_uri": "https://localhost:8080/"
    },
    "id": "pLgxwApVltop",
    "outputId": "a83ccf9a-1d6c-40dc-f758-aa959280a357"
   },
   "outputs": [
    {
     "name": "stdout",
     "output_type": "stream",
     "text": [
      "Rodas de liga\n",
      "Travas elétricas\n",
      "Piloto automático\n",
      "Bancos de couro\n",
      "Ar condicionado\n",
      "Sensor de estacionamento\n",
      "Sensor crepuscular\n",
      "Sensor de chuva\n",
      "Central multimídia\n",
      "Teto panorâmico\n",
      "Freios ABS\n",
      "4 X 4\n",
      "Painel digital\n",
      "Piloto automático\n",
      "Bancos de couro\n",
      "Câmera de estacionamento\n",
      "Piloto automático\n",
      "Controle de estabilidade\n",
      "Sensor crepuscular\n",
      "Freios ABS\n",
      "Câmbio automático\n",
      "Bancos de couro\n",
      "Central multimídia\n",
      "Vidros elétricos\n"
     ]
    }
   ],
   "source": [
    "for lista in dados:\n",
    "  for item in lista:\n",
    "    print(item)"
   ]
  },
  {
   "cell_type": "code",
   "execution_count": null,
   "metadata": {
    "colab": {
     "base_uri": "https://localhost:8080/"
    },
    "id": "OYnDRvcYltor",
    "outputId": "5d8b8346-b088-49ac-b948-29520aed77b4"
   },
   "outputs": [
    {
     "data": {
      "text/plain": [
       "['Rodas de liga',\n",
       " 'Travas elétricas',\n",
       " 'Piloto automático',\n",
       " 'Bancos de couro',\n",
       " 'Ar condicionado',\n",
       " 'Sensor de estacionamento',\n",
       " 'Sensor crepuscular',\n",
       " 'Sensor de chuva',\n",
       " 'Central multimídia',\n",
       " 'Teto panorâmico',\n",
       " 'Freios ABS',\n",
       " '4 X 4',\n",
       " 'Painel digital',\n",
       " 'Piloto automático',\n",
       " 'Bancos de couro',\n",
       " 'Câmera de estacionamento',\n",
       " 'Piloto automático',\n",
       " 'Controle de estabilidade',\n",
       " 'Sensor crepuscular',\n",
       " 'Freios ABS',\n",
       " 'Câmbio automático',\n",
       " 'Bancos de couro',\n",
       " 'Central multimídia',\n",
       " 'Vidros elétricos']"
      ]
     },
     "execution_count": 20,
     "metadata": {},
     "output_type": "execute_result"
    }
   ],
   "source": [
    "Acessorios = []\n",
    "\n",
    "for lista in dados:\n",
    "  for item in lista:\n",
    "    Acessorios.append(item)\n",
    "Acessorios"
   ]
  },
  {
   "cell_type": "code",
   "execution_count": null,
   "metadata": {
    "id": "DbJa5_cJltos"
   },
   "outputs": [],
   "source": []
  },
  {
   "cell_type": "markdown",
   "metadata": {
    "id": "RrGAOy1rn1Dj"
   },
   "source": [
    "## *set()*\n",
    "\n",
    "https://docs.python.org/3.6/library/stdtypes.html#types-set\n",
    "\n",
    "https://docs.python.org/3.6/library/functions.html#func-set"
   ]
  },
  {
   "cell_type": "code",
   "execution_count": null,
   "metadata": {
    "colab": {
     "base_uri": "https://localhost:8080/"
    },
    "id": "CuB-9ClSltos",
    "outputId": "1e51a593-7456-4dc7-9d04-a0396ef55d8a"
   },
   "outputs": [
    {
     "data": {
      "text/plain": [
       "['Freios ABS',\n",
       " 'Ar condicionado',\n",
       " 'Bancos de couro',\n",
       " 'Vidros elétricos',\n",
       " 'Câmbio automático',\n",
       " 'Central multimídia',\n",
       " 'Rodas de liga',\n",
       " 'Controle de estabilidade',\n",
       " 'Travas elétricas',\n",
       " 'Painel digital',\n",
       " 'Piloto automático',\n",
       " 'Sensor de estacionamento',\n",
       " 'Câmera de estacionamento',\n",
       " 'Teto panorâmico',\n",
       " '4 X 4',\n",
       " 'Sensor crepuscular',\n",
       " 'Sensor de chuva']"
      ]
     },
     "execution_count": 21,
     "metadata": {},
     "output_type": "execute_result"
    }
   ],
   "source": [
    "list(set(Acessorios))"
   ]
  },
  {
   "cell_type": "markdown",
   "metadata": {
    "id": "9hHKKABhltot"
   },
   "source": [
    "### List comprehensions"
   ]
  },
  {
   "cell_type": "code",
   "execution_count": null,
   "metadata": {
    "colab": {
     "base_uri": "https://localhost:8080/"
    },
    "id": "T6t79LTlltot",
    "outputId": "014ed114-f82f-4c2b-fc62-5ec99aa9807f"
   },
   "outputs": [
    {
     "data": {
      "text/plain": [
       "['Freios ABS',\n",
       " 'Ar condicionado',\n",
       " 'Bancos de couro',\n",
       " 'Vidros elétricos',\n",
       " 'Câmbio automático',\n",
       " 'Central multimídia',\n",
       " 'Rodas de liga',\n",
       " 'Controle de estabilidade',\n",
       " 'Travas elétricas',\n",
       " 'Painel digital',\n",
       " 'Piloto automático',\n",
       " 'Sensor de estacionamento',\n",
       " 'Câmera de estacionamento',\n",
       " 'Teto panorâmico',\n",
       " '4 X 4',\n",
       " 'Sensor crepuscular',\n",
       " 'Sensor de chuva']"
      ]
     },
     "execution_count": 22,
     "metadata": {},
     "output_type": "execute_result"
    }
   ],
   "source": [
    "list(set([item for lista in dados for item in lista]))"
   ]
  },
  {
   "cell_type": "markdown",
   "metadata": {
    "id": "cJ4fPdj5ltou"
   },
   "source": [
    "# 4.3 Instrução *if*\n",
    "\n",
    "#### Formato padrão\n",
    "\n",
    "```\n",
    "if <condição>:\n",
    "     <instruções caso a condição seja verdadeira>\n",
    "```"
   ]
  },
  {
   "cell_type": "markdown",
   "metadata": {
    "id": "bqOYDJiWltou"
   },
   "source": [
    "### Operadores de comparação: $==$, $!=$, $>$, $<$, $>=$, $<=$\n",
    "### e\n",
    "### Operadores lógicos: $and$, $or$, $not$"
   ]
  },
  {
   "cell_type": "code",
   "execution_count": null,
   "metadata": {
    "colab": {
     "base_uri": "https://localhost:8080/"
    },
    "id": "5eY_XPmrltov",
    "outputId": "2af5d51c-5e3b-4e77-d437-9fb9575e361b"
   },
   "outputs": [
    {
     "data": {
      "text/plain": [
       "[['Jetta Variant', 2003, False],\n",
       " ['Passat', 1991, False],\n",
       " ['Crossfox', 1990, False],\n",
       " ['DS5', 2019, True],\n",
       " ['Aston Martin DB4', 2006, False],\n",
       " ['Palio Weekend', 2012, False],\n",
       " ['A5', 2019, True],\n",
       " ['Série 3 Cabrio', 2009, False],\n",
       " ['Dodge Jorney', 2019, False],\n",
       " ['Carens', 2011, False]]"
      ]
     },
     "execution_count": 23,
     "metadata": {},
     "output_type": "execute_result"
    }
   ],
   "source": [
    "# 1º item da lista - Nome do veículo\n",
    "# 2º item da lista - Ano de fabricação\n",
    "# 3º item da lista - Veículo é zero km?\n",
    "\n",
    "dados = [\n",
    "    ['Jetta Variant', 2003, False],\n",
    "    ['Passat', 1991, False],\n",
    "    ['Crossfox', 1990, False],\n",
    "    ['DS5', 2019, True],\n",
    "    ['Aston Martin DB4', 2006, False],\n",
    "    ['Palio Weekend', 2012, False],\n",
    "    ['A5', 2019, True],\n",
    "    ['Série 3 Cabrio', 2009, False],\n",
    "    ['Dodge Jorney', 2019, False],\n",
    "    ['Carens', 2011, False]\n",
    "]\n",
    "dados"
   ]
  },
  {
   "cell_type": "code",
   "execution_count": null,
   "metadata": {
    "id": "nyb0iDH1ltoy"
   },
   "outputs": [],
   "source": []
  },
  {
   "cell_type": "code",
   "execution_count": null,
   "metadata": {
    "id": "5MlITJppltoy"
   },
   "outputs": [],
   "source": [
    "zero_km_Y = [lista for lista in dados if(lista[2] == True)]"
   ]
  },
  {
   "cell_type": "markdown",
   "metadata": {
    "id": "51Js0kXD0aRH"
   },
   "source": [
    "### List comprehensions"
   ]
  },
  {
   "cell_type": "code",
   "execution_count": null,
   "metadata": {
    "id": "Ly4QUX5J0aRI"
   },
   "outputs": [],
   "source": []
  },
  {
   "cell_type": "markdown",
   "metadata": {
    "id": "CKjrvO5Tltoz"
   },
   "source": [
    "# 4.4 Instruções *if-else* e *if-elif-else*\n",
    "\n",
    "#### Formato padrão\n",
    "\n",
    "```\n",
    "if <condição>:\n",
    "    <instruções caso a condição seja verdadeira>\n",
    "else:\n",
    "    <instruções caso a condição não seja verdadeira>\n",
    "```"
   ]
  },
  {
   "cell_type": "code",
   "execution_count": null,
   "metadata": {
    "id": "K_VORb47ltoz"
   },
   "outputs": [],
   "source": []
  },
  {
   "cell_type": "code",
   "execution_count": null,
   "metadata": {
    "id": "vhz5T7jDlto1"
   },
   "outputs": [],
   "source": []
  },
  {
   "cell_type": "code",
   "execution_count": null,
   "metadata": {
    "id": "XlvlpPjhlto1"
   },
   "outputs": [],
   "source": []
  },
  {
   "cell_type": "markdown",
   "metadata": {
    "id": "Z2-8WeN1lto2"
   },
   "source": [
    "#### Formato padrão\n",
    "\n",
    "```\n",
    "if <condição 1>:\n",
    "    <instruções caso a condição 1 seja verdadeira>\n",
    "elif <condição 2>:\n",
    "    <instruções caso a condição 2 seja verdadeira>\n",
    "elif <condição 3>:\n",
    "    <instruções caso a condição 3 seja verdadeira>\n",
    "                        .\n",
    "                        .\n",
    "                        .\n",
    "else:\n",
    "    <instruções caso as condições anteriores não sejam verdadeiras>\n",
    "```"
   ]
  },
  {
   "cell_type": "code",
   "execution_count": null,
   "metadata": {
    "id": "ggrbaB4Tlto2"
   },
   "outputs": [],
   "source": []
  },
  {
   "cell_type": "code",
   "execution_count": null,
   "metadata": {
    "colab": {
     "base_uri": "https://localhost:8080/"
    },
    "id": "KJgRc1F9lto3",
    "outputId": "3efa63e0-57a0-4942-adf1-a821155c0192"
   },
   "outputs": [
    {
     "name": "stdout",
     "output_type": "stream",
     "text": [
      "AND\n",
      "(True and True) o resultado é: True\n",
      "(True and False) o resultado é: False\n",
      "(False and True) o resultado é: False\n",
      "(False and False) o resultado é: False\n"
     ]
    }
   ],
   "source": [
    "print('AND')\n",
    "print(f'(True and True) o resultado é: {True and True}')\n",
    "print(f'(True and False) o resultado é: {True and False}')\n",
    "print(f'(False and True) o resultado é: {False and True}')\n",
    "print(f'(False and False) o resultado é: {False and False}')"
   ]
  },
  {
   "cell_type": "code",
   "execution_count": null,
   "metadata": {
    "colab": {
     "base_uri": "https://localhost:8080/"
    },
    "id": "sb0mSh-o0aRM",
    "outputId": "a4fb5fd6-b85a-4527-f061-84e72b448623"
   },
   "outputs": [
    {
     "name": "stdout",
     "output_type": "stream",
     "text": [
      "OR\n",
      "(True or True) o resultado é: True\n",
      "(True or False) o resultado é: True\n",
      "(False or True) o resultado é: True\n",
      "(False or False) o resultado é: False\n"
     ]
    }
   ],
   "source": [
    "print('OR')\n",
    "print(f'(True or True) o resultado é: {True or True}')\n",
    "print(f'(True or False) o resultado é: {True or False}')\n",
    "print(f'(False or True) o resultado é: {False or True}')\n",
    "print(f'(False or False) o resultado é: {False or False}')"
   ]
  },
  {
   "cell_type": "code",
   "execution_count": null,
   "metadata": {
    "id": "AfNdTPzElto3"
   },
   "outputs": [],
   "source": []
  },
  {
   "cell_type": "code",
   "execution_count": null,
   "metadata": {
    "id": "5bN7SuvTlto4"
   },
   "outputs": [],
   "source": []
  },
  {
   "cell_type": "code",
   "execution_count": null,
   "metadata": {
    "id": "dDEl3Vfglto4"
   },
   "outputs": [],
   "source": []
  },
  {
   "cell_type": "code",
   "execution_count": null,
   "metadata": {
    "id": "Ot4HLQlelto5"
   },
   "outputs": [],
   "source": []
  },
  {
   "cell_type": "code",
   "execution_count": null,
   "metadata": {
    "id": "FN26ZBKJlto5"
   },
   "outputs": [],
   "source": []
  },
  {
   "cell_type": "markdown",
   "metadata": {
    "id": "aRfQfubxlto6"
   },
   "source": [
    "# <font color=green> 5. NUMPY BÁSICO\n",
    "---\n",
    "\n",
    "Numpy é a abreviação de Numerical Python e é um dos pacotes mais importantes para processamento numérico em Python. Numpy oferece a base para a maioria dos pacotes de aplicações científicas que utilizem dados numéricos em Python (estruturas de dados e algoritmos). Pode-se destacar os seguintes recursos que o pacote Numpy contém:\n",
    "\n",
    "- Um poderoso objeto array multidimensional;\n",
    "- Funções matemáticas sofisticadas para operações com arrays sem a necessidade de utilização de laços *for*;\n",
    "- Recursos de algebra linear e geração de números aleatórios\n",
    "\n",
    "Além de seus óbvios usos científicos, o pacote NumPy também é muito utilizado em análise de dados como um eficiente contêiner multidimensional de dados genéricos para transporte entre diversos algoritmos e bibliotecas em Python.\n",
    "\n",
    "**Versão:** 1.16.5\n",
    "\n",
    "**Instalação:** https://scipy.org/install.html\n",
    "\n",
    "**Documentação:** https://numpy.org/doc/1.16/"
   ]
  },
  {
   "cell_type": "markdown",
   "metadata": {
    "id": "RtG2-g1ultme"
   },
   "source": [
    "### Pacotes\n",
    "\n",
    "Existem diversos pacotes Python disponíveis para download na internet. Cada pacote tem como objetivo a solução de determinado tipo de problema e para isso são desenvolvidos novos tipos, funções e métodos.\n",
    "\n",
    "Alguns pacotes são bastante utilizados em um contexto de ciência de dados como por exemplo:\n",
    "\n",
    "- Numpy\n",
    "- Pandas\n",
    "- Scikit-learn\n",
    "- Matplotlib\n",
    "\n",
    "Alguns pacotes não são distribuídos com a instalação default do Python. Neste caso devemos instalar os pacotes que necessitamos em nosso sistema para podermos utilizar suas funcionalidades."
   ]
  },
  {
   "cell_type": "markdown",
   "metadata": {
    "id": "b8prsQjmltme"
   },
   "source": [
    "### Importando todo o pacote"
   ]
  },
  {
   "cell_type": "code",
   "execution_count": null,
   "metadata": {
    "id": "lP0tqXHLltmf"
   },
   "outputs": [],
   "source": []
  },
  {
   "cell_type": "markdown",
   "metadata": {
    "id": "RPxhjW_21_VJ"
   },
   "source": [
    "https://numpy.org/doc/1.16/reference/generated/numpy.arange.html"
   ]
  },
  {
   "cell_type": "code",
   "execution_count": null,
   "metadata": {
    "id": "Y40UP3K7ltmg"
   },
   "outputs": [],
   "source": []
  },
  {
   "cell_type": "markdown",
   "metadata": {
    "id": "84-53f4Lltmh"
   },
   "source": [
    "### Importando todo o pacote e atribuindo um novo nome "
   ]
  },
  {
   "cell_type": "code",
   "execution_count": null,
   "metadata": {
    "id": "CzESWck7ltmi"
   },
   "outputs": [],
   "source": []
  },
  {
   "cell_type": "code",
   "execution_count": null,
   "metadata": {
    "id": "RC7Dr5Viltmj"
   },
   "outputs": [],
   "source": []
  },
  {
   "cell_type": "markdown",
   "metadata": {
    "id": "WWawttSpltml"
   },
   "source": [
    "### Importando parte do pacote"
   ]
  },
  {
   "cell_type": "code",
   "execution_count": null,
   "metadata": {
    "id": "8kTeo3Ltltmo"
   },
   "outputs": [],
   "source": []
  },
  {
   "cell_type": "code",
   "execution_count": null,
   "metadata": {
    "id": "4LPnpiEwltmt"
   },
   "outputs": [],
   "source": []
  },
  {
   "cell_type": "markdown",
   "metadata": {
    "id": "VSmffnCklto6"
   },
   "source": [
    "# 5.1 Criando arrays Numpy"
   ]
  },
  {
   "cell_type": "code",
   "execution_count": null,
   "metadata": {
    "id": "Wqpin_-Plto8"
   },
   "outputs": [],
   "source": []
  },
  {
   "cell_type": "markdown",
   "metadata": {
    "id": "ock4Ku-Ulto8"
   },
   "source": [
    "### A partir de listas\n",
    "\n",
    "https://numpy.org/doc/1.16/user/basics.creation.html"
   ]
  },
  {
   "cell_type": "code",
   "execution_count": null,
   "metadata": {
    "id": "82H-09CQlto9"
   },
   "outputs": [],
   "source": []
  },
  {
   "cell_type": "code",
   "execution_count": null,
   "metadata": {
    "id": "8VYE3JSYlto9"
   },
   "outputs": [],
   "source": []
  },
  {
   "cell_type": "code",
   "execution_count": null,
   "metadata": {
    "id": "OBsa5Cfplto-"
   },
   "outputs": [],
   "source": []
  },
  {
   "cell_type": "markdown",
   "metadata": {
    "id": "RfQ3jJSAlto-"
   },
   "source": [
    "https://numpy.org/doc/1.16/user/basics.types.html"
   ]
  },
  {
   "cell_type": "code",
   "execution_count": null,
   "metadata": {
    "id": "6yLpkJcAlto-"
   },
   "outputs": [],
   "source": []
  },
  {
   "cell_type": "markdown",
   "metadata": {
    "id": "1pFx86QPlto_"
   },
   "source": [
    "### A partir de dados externos\n",
    "\n",
    "https://numpy.org/doc/1.16/reference/generated/numpy.loadtxt.html"
   ]
  },
  {
   "cell_type": "code",
   "execution_count": null,
   "metadata": {
    "id": "26pQLNgrlto_"
   },
   "outputs": [],
   "source": []
  },
  {
   "cell_type": "code",
   "execution_count": null,
   "metadata": {
    "id": "FoP42bdpltpA",
    "scrolled": true
   },
   "outputs": [],
   "source": []
  },
  {
   "cell_type": "code",
   "execution_count": null,
   "metadata": {
    "id": "MNPjZJbYltpA"
   },
   "outputs": [],
   "source": []
  },
  {
   "cell_type": "markdown",
   "metadata": {
    "id": "_wnTg0wJltpB"
   },
   "source": [
    "### Arrays com duas dimensões"
   ]
  },
  {
   "cell_type": "code",
   "execution_count": 23,
   "metadata": {
    "colab": {
     "base_uri": "https://localhost:8080/"
    },
    "id": "Gt1dL27GltpB",
    "outputId": "e7476286-9a34-4c9b-ebc8-86a6b313e226",
    "scrolled": true
   },
   "outputs": [
    {
     "data": {
      "text/plain": [
       "[['Rodas de liga',\n",
       "  'Travas elétricas',\n",
       "  'Piloto automático',\n",
       "  'Bancos de couro',\n",
       "  'Ar condicionado',\n",
       "  'Sensor de estacionamento',\n",
       "  'Sensor crepuscular',\n",
       "  'Sensor de chuva'],\n",
       " ['Central multimídia',\n",
       "  'Teto panorâmico',\n",
       "  'Freios ABS',\n",
       "  '4 X 4',\n",
       "  'Painel digital',\n",
       "  'Piloto automático',\n",
       "  'Bancos de couro',\n",
       "  'Câmera de estacionamento'],\n",
       " ['Piloto automático',\n",
       "  'Controle de estabilidade',\n",
       "  'Sensor crepuscular',\n",
       "  'Freios ABS',\n",
       "  'Câmbio automático',\n",
       "  'Bancos de couro',\n",
       "  'Central multimídia',\n",
       "  'Vidros elétricos']]"
      ]
     },
     "execution_count": 23,
     "metadata": {},
     "output_type": "execute_result"
    }
   ],
   "source": [
    "dados = [ \n",
    "    ['Rodas de liga', 'Travas elétricas', 'Piloto automático', 'Bancos de couro', 'Ar condicionado', 'Sensor de estacionamento', 'Sensor crepuscular', 'Sensor de chuva'],\n",
    "    ['Central multimídia', 'Teto panorâmico', 'Freios ABS', '4 X 4', 'Painel digital', 'Piloto automático', 'Bancos de couro', 'Câmera de estacionamento'],\n",
    "    ['Piloto automático', 'Controle de estabilidade', 'Sensor crepuscular', 'Freios ABS', 'Câmbio automático', 'Bancos de couro', 'Central multimídia', 'Vidros elétricos']\n",
    "]\n",
    "dados"
   ]
  },
  {
   "cell_type": "code",
   "execution_count": null,
   "metadata": {
    "id": "IlbYeZPkltpC"
   },
   "outputs": [],
   "source": []
  },
  {
   "cell_type": "code",
   "execution_count": null,
   "metadata": {
    "id": "FgjmWozgltpD",
    "scrolled": true
   },
   "outputs": [],
   "source": []
  },
  {
   "cell_type": "code",
   "execution_count": null,
   "metadata": {
    "id": "TDM9HskUltpD"
   },
   "outputs": [],
   "source": []
  },
  {
   "cell_type": "code",
   "execution_count": null,
   "metadata": {
    "id": "bBmnzpF5ltpE"
   },
   "outputs": [],
   "source": []
  },
  {
   "cell_type": "markdown",
   "metadata": {
    "id": "cPbkST9pltpE"
   },
   "source": [
    "### Comparando desempenho com listas"
   ]
  },
  {
   "cell_type": "code",
   "execution_count": null,
   "metadata": {
    "id": "tTPC-G4vltpE"
   },
   "outputs": [],
   "source": []
  },
  {
   "cell_type": "code",
   "execution_count": null,
   "metadata": {
    "id": "PIC-ndg9ltpF"
   },
   "outputs": [],
   "source": []
  },
  {
   "cell_type": "code",
   "execution_count": null,
   "metadata": {
    "id": "vXy57nk2ltpF"
   },
   "outputs": [],
   "source": []
  },
  {
   "cell_type": "code",
   "execution_count": null,
   "metadata": {
    "id": "I94lVgCRltpG"
   },
   "outputs": [],
   "source": []
  },
  {
   "cell_type": "markdown",
   "metadata": {
    "id": "ul4MuKyTltpG"
   },
   "source": [
    "# 5.2 Operações aritméticas com arrays Numpy"
   ]
  },
  {
   "cell_type": "markdown",
   "metadata": {
    "id": "QwnxO_rYltpH"
   },
   "source": [
    "### Operações entre arrays e constantes"
   ]
  },
  {
   "cell_type": "code",
   "execution_count": null,
   "metadata": {
    "id": "63KVHPK0ltpH"
   },
   "outputs": [],
   "source": [
    "import numpy as np\n",
    "km = [44410., 5712., 37123., 0., 25757.]\n",
    "anos = [2003, 1991, 1990, 2019, 2006]"
   ]
  },
  {
   "cell_type": "code",
   "execution_count": null,
   "metadata": {
    "colab": {
     "base_uri": "https://localhost:8080/"
    },
    "id": "AryIZaBIltpH",
    "outputId": "6af18afa-e8c1-4f85-f294-ea28e044bf83"
   },
   "outputs": [
    {
     "data": {
      "text/plain": [
       "3"
      ]
     },
     "execution_count": 32,
     "metadata": {},
     "output_type": "execute_result"
    }
   ],
   "source": [
    "anos = 2016\n",
    "idade = 2019 - anos\n",
    "idade"
   ]
  },
  {
   "cell_type": "code",
   "execution_count": null,
   "metadata": {
    "colab": {
     "base_uri": "https://localhost:8080/"
    },
    "id": "YIEPus6i-pYN",
    "outputId": "a152e44a-72c9-4ac3-c378-95f4ddc90b87"
   },
   "outputs": [
    {
     "name": "stdout",
     "output_type": "stream",
     "text": [
      "Mounted at /content/drive\n"
     ]
    }
   ],
   "source": [
    "from google.colab import drive\n",
    "drive.mount('/content/drive')"
   ]
  },
  {
   "cell_type": "code",
   "execution_count": null,
   "metadata": {
    "colab": {
     "base_uri": "https://localhost:8080/",
     "height": 467
    },
    "id": "8mexx_Rx9zAf",
    "outputId": "a51892c1-d5b6-4568-bd21-a71d5e58da90"
   },
   "outputs": [
    {
     "ename": "ApiRequestError",
     "evalue": "ignored",
     "output_type": "error",
     "traceback": [
      "\u001b[0;31m---------------------------------------------------------------------------\u001b[0m",
      "\u001b[0;31mHttpError\u001b[0m                                 Traceback (most recent call last)",
      "\u001b[0;32m/usr/local/lib/python3.7/dist-packages/pydrive/files.py\u001b[0m in \u001b[0;36mFetchMetadata\u001b[0;34m(self, fields, fetch_all)\u001b[0m\n\u001b[1;32m    236\u001b[0m                                                  fields=fields)\\\n\u001b[0;32m--> 237\u001b[0;31m           \u001b[0;34m.\u001b[0m\u001b[0mexecute\u001b[0m\u001b[0;34m(\u001b[0m\u001b[0mhttp\u001b[0m\u001b[0;34m=\u001b[0m\u001b[0mself\u001b[0m\u001b[0;34m.\u001b[0m\u001b[0mhttp\u001b[0m\u001b[0;34m)\u001b[0m\u001b[0;34m\u001b[0m\u001b[0;34m\u001b[0m\u001b[0m\n\u001b[0m\u001b[1;32m    238\u001b[0m       \u001b[0;32mexcept\u001b[0m \u001b[0merrors\u001b[0m\u001b[0;34m.\u001b[0m\u001b[0mHttpError\u001b[0m \u001b[0;32mas\u001b[0m \u001b[0merror\u001b[0m\u001b[0;34m:\u001b[0m\u001b[0;34m\u001b[0m\u001b[0;34m\u001b[0m\u001b[0m\n",
      "\u001b[0;32m/usr/local/lib/python3.7/dist-packages/googleapiclient/_helpers.py\u001b[0m in \u001b[0;36mpositional_wrapper\u001b[0;34m(*args, **kwargs)\u001b[0m\n\u001b[1;32m    133\u001b[0m                     \u001b[0mlogger\u001b[0m\u001b[0;34m.\u001b[0m\u001b[0mwarning\u001b[0m\u001b[0;34m(\u001b[0m\u001b[0mmessage\u001b[0m\u001b[0;34m)\u001b[0m\u001b[0;34m\u001b[0m\u001b[0;34m\u001b[0m\u001b[0m\n\u001b[0;32m--> 134\u001b[0;31m             \u001b[0;32mreturn\u001b[0m \u001b[0mwrapped\u001b[0m\u001b[0;34m(\u001b[0m\u001b[0;34m*\u001b[0m\u001b[0margs\u001b[0m\u001b[0;34m,\u001b[0m \u001b[0;34m**\u001b[0m\u001b[0mkwargs\u001b[0m\u001b[0;34m)\u001b[0m\u001b[0;34m\u001b[0m\u001b[0;34m\u001b[0m\u001b[0m\n\u001b[0m\u001b[1;32m    135\u001b[0m \u001b[0;34m\u001b[0m\u001b[0m\n",
      "\u001b[0;32m/usr/local/lib/python3.7/dist-packages/googleapiclient/http.py\u001b[0m in \u001b[0;36mexecute\u001b[0;34m(self, http, num_retries)\u001b[0m\n\u001b[1;32m    914\u001b[0m         \u001b[0;32mif\u001b[0m \u001b[0mresp\u001b[0m\u001b[0;34m.\u001b[0m\u001b[0mstatus\u001b[0m \u001b[0;34m>=\u001b[0m \u001b[0;36m300\u001b[0m\u001b[0;34m:\u001b[0m\u001b[0;34m\u001b[0m\u001b[0;34m\u001b[0m\u001b[0m\n\u001b[0;32m--> 915\u001b[0;31m             \u001b[0;32mraise\u001b[0m \u001b[0mHttpError\u001b[0m\u001b[0;34m(\u001b[0m\u001b[0mresp\u001b[0m\u001b[0;34m,\u001b[0m \u001b[0mcontent\u001b[0m\u001b[0;34m,\u001b[0m \u001b[0muri\u001b[0m\u001b[0;34m=\u001b[0m\u001b[0mself\u001b[0m\u001b[0;34m.\u001b[0m\u001b[0muri\u001b[0m\u001b[0;34m)\u001b[0m\u001b[0;34m\u001b[0m\u001b[0;34m\u001b[0m\u001b[0m\n\u001b[0m\u001b[1;32m    916\u001b[0m         \u001b[0;32mreturn\u001b[0m \u001b[0mself\u001b[0m\u001b[0;34m.\u001b[0m\u001b[0mpostproc\u001b[0m\u001b[0;34m(\u001b[0m\u001b[0mresp\u001b[0m\u001b[0;34m,\u001b[0m \u001b[0mcontent\u001b[0m\u001b[0;34m)\u001b[0m\u001b[0;34m\u001b[0m\u001b[0;34m\u001b[0m\u001b[0m\n",
      "\u001b[0;31mHttpError\u001b[0m: <HttpError 404 when requesting https://www.googleapis.com/drive/v2/files/REPLACE_WITH_YOUR_FILE_ID?alt=json returned \"File not found: REPLACE_WITH_YOUR_FILE_ID\". Details: \"File not found: REPLACE_WITH_YOUR_FILE_ID\">",
      "\nDuring handling of the above exception, another exception occurred:\n",
      "\u001b[0;31mApiRequestError\u001b[0m                           Traceback (most recent call last)",
      "\u001b[0;32m<ipython-input-10-ad402f93a98a>\u001b[0m in \u001b[0;36m<module>\u001b[0;34m()\u001b[0m\n\u001b[1;32m     18\u001b[0m \u001b[0mfile_id\u001b[0m \u001b[0;34m=\u001b[0m \u001b[0;34m'REPLACE_WITH_YOUR_FILE_ID'\u001b[0m\u001b[0;34m\u001b[0m\u001b[0;34m\u001b[0m\u001b[0m\n\u001b[1;32m     19\u001b[0m \u001b[0mdownloaded\u001b[0m \u001b[0;34m=\u001b[0m \u001b[0mdrive\u001b[0m\u001b[0;34m.\u001b[0m\u001b[0mCreateFile\u001b[0m\u001b[0;34m(\u001b[0m\u001b[0;34m{\u001b[0m\u001b[0;34m'id'\u001b[0m\u001b[0;34m:\u001b[0m \u001b[0mfile_id\u001b[0m\u001b[0;34m}\u001b[0m\u001b[0;34m)\u001b[0m\u001b[0;34m\u001b[0m\u001b[0;34m\u001b[0m\u001b[0m\n\u001b[0;32m---> 20\u001b[0;31m \u001b[0mprint\u001b[0m\u001b[0;34m(\u001b[0m\u001b[0;34m'Downloaded content \"{}\"'\u001b[0m\u001b[0;34m.\u001b[0m\u001b[0mformat\u001b[0m\u001b[0;34m(\u001b[0m\u001b[0mdownloaded\u001b[0m\u001b[0;34m.\u001b[0m\u001b[0mGetContentString\u001b[0m\u001b[0;34m(\u001b[0m\u001b[0;34m)\u001b[0m\u001b[0;34m)\u001b[0m\u001b[0;34m)\u001b[0m\u001b[0;34m\u001b[0m\u001b[0;34m\u001b[0m\u001b[0m\n\u001b[0m",
      "\u001b[0;32m/usr/local/lib/python3.7/dist-packages/pydrive/files.py\u001b[0m in \u001b[0;36mGetContentString\u001b[0;34m(self, mimetype, encoding, remove_bom)\u001b[0m\n\u001b[1;32m    191\u001b[0m                     \u001b[0mtype\u001b[0m\u001b[0;34m(\u001b[0m\u001b[0mself\u001b[0m\u001b[0;34m.\u001b[0m\u001b[0mcontent\u001b[0m\u001b[0;34m)\u001b[0m \u001b[0;32mis\u001b[0m \u001b[0;32mnot\u001b[0m \u001b[0mio\u001b[0m\u001b[0;34m.\u001b[0m\u001b[0mBytesIO\u001b[0m \u001b[0;32mor\u001b[0m\u001b[0;31m \u001b[0m\u001b[0;31m\\\u001b[0m\u001b[0;34m\u001b[0m\u001b[0;34m\u001b[0m\u001b[0m\n\u001b[1;32m    192\u001b[0m                     \u001b[0mself\u001b[0m\u001b[0;34m.\u001b[0m\u001b[0mhas_bom\u001b[0m \u001b[0;34m==\u001b[0m \u001b[0mremove_bom\u001b[0m\u001b[0;34m:\u001b[0m\u001b[0;34m\u001b[0m\u001b[0;34m\u001b[0m\u001b[0m\n\u001b[0;32m--> 193\u001b[0;31m       \u001b[0mself\u001b[0m\u001b[0;34m.\u001b[0m\u001b[0mFetchContent\u001b[0m\u001b[0;34m(\u001b[0m\u001b[0mmimetype\u001b[0m\u001b[0;34m,\u001b[0m \u001b[0mremove_bom\u001b[0m\u001b[0;34m)\u001b[0m\u001b[0;34m\u001b[0m\u001b[0;34m\u001b[0m\u001b[0m\n\u001b[0m\u001b[1;32m    194\u001b[0m     \u001b[0;32mreturn\u001b[0m \u001b[0mself\u001b[0m\u001b[0;34m.\u001b[0m\u001b[0mcontent\u001b[0m\u001b[0;34m.\u001b[0m\u001b[0mgetvalue\u001b[0m\u001b[0;34m(\u001b[0m\u001b[0;34m)\u001b[0m\u001b[0;34m.\u001b[0m\u001b[0mdecode\u001b[0m\u001b[0;34m(\u001b[0m\u001b[0mencoding\u001b[0m\u001b[0;34m)\u001b[0m\u001b[0;34m\u001b[0m\u001b[0;34m\u001b[0m\u001b[0m\n\u001b[1;32m    195\u001b[0m \u001b[0;34m\u001b[0m\u001b[0m\n",
      "\u001b[0;32m/usr/local/lib/python3.7/dist-packages/pydrive/files.py\u001b[0m in \u001b[0;36m_decorated\u001b[0;34m(self, *args, **kwargs)\u001b[0m\n\u001b[1;32m     40\u001b[0m   \u001b[0;32mdef\u001b[0m \u001b[0m_decorated\u001b[0m\u001b[0;34m(\u001b[0m\u001b[0mself\u001b[0m\u001b[0;34m,\u001b[0m \u001b[0;34m*\u001b[0m\u001b[0margs\u001b[0m\u001b[0;34m,\u001b[0m \u001b[0;34m**\u001b[0m\u001b[0mkwargs\u001b[0m\u001b[0;34m)\u001b[0m\u001b[0;34m:\u001b[0m\u001b[0;34m\u001b[0m\u001b[0;34m\u001b[0m\u001b[0m\n\u001b[1;32m     41\u001b[0m     \u001b[0;32mif\u001b[0m \u001b[0;32mnot\u001b[0m \u001b[0mself\u001b[0m\u001b[0;34m.\u001b[0m\u001b[0muploaded\u001b[0m\u001b[0;34m:\u001b[0m\u001b[0;34m\u001b[0m\u001b[0;34m\u001b[0m\u001b[0m\n\u001b[0;32m---> 42\u001b[0;31m       \u001b[0mself\u001b[0m\u001b[0;34m.\u001b[0m\u001b[0mFetchMetadata\u001b[0m\u001b[0;34m(\u001b[0m\u001b[0;34m)\u001b[0m\u001b[0;34m\u001b[0m\u001b[0;34m\u001b[0m\u001b[0m\n\u001b[0m\u001b[1;32m     43\u001b[0m     \u001b[0;32mreturn\u001b[0m \u001b[0mdecoratee\u001b[0m\u001b[0;34m(\u001b[0m\u001b[0mself\u001b[0m\u001b[0;34m,\u001b[0m \u001b[0;34m*\u001b[0m\u001b[0margs\u001b[0m\u001b[0;34m,\u001b[0m \u001b[0;34m**\u001b[0m\u001b[0mkwargs\u001b[0m\u001b[0;34m)\u001b[0m\u001b[0;34m\u001b[0m\u001b[0;34m\u001b[0m\u001b[0m\n\u001b[1;32m     44\u001b[0m   \u001b[0;32mreturn\u001b[0m \u001b[0m_decorated\u001b[0m\u001b[0;34m\u001b[0m\u001b[0;34m\u001b[0m\u001b[0m\n",
      "\u001b[0;32m/usr/local/lib/python3.7/dist-packages/pydrive/auth.py\u001b[0m in \u001b[0;36m_decorated\u001b[0;34m(self, *args, **kwargs)\u001b[0m\n\u001b[1;32m     73\u001b[0m       \u001b[0mself\u001b[0m\u001b[0;34m.\u001b[0m\u001b[0mhttp\u001b[0m \u001b[0;34m=\u001b[0m \u001b[0mself\u001b[0m\u001b[0;34m.\u001b[0m\u001b[0mauth\u001b[0m\u001b[0;34m.\u001b[0m\u001b[0mGet_Http_Object\u001b[0m\u001b[0;34m(\u001b[0m\u001b[0;34m)\u001b[0m\u001b[0;34m\u001b[0m\u001b[0;34m\u001b[0m\u001b[0m\n\u001b[1;32m     74\u001b[0m \u001b[0;34m\u001b[0m\u001b[0m\n\u001b[0;32m---> 75\u001b[0;31m     \u001b[0;32mreturn\u001b[0m \u001b[0mdecoratee\u001b[0m\u001b[0;34m(\u001b[0m\u001b[0mself\u001b[0m\u001b[0;34m,\u001b[0m \u001b[0;34m*\u001b[0m\u001b[0margs\u001b[0m\u001b[0;34m,\u001b[0m \u001b[0;34m**\u001b[0m\u001b[0mkwargs\u001b[0m\u001b[0;34m)\u001b[0m\u001b[0;34m\u001b[0m\u001b[0;34m\u001b[0m\u001b[0m\n\u001b[0m\u001b[1;32m     76\u001b[0m   \u001b[0;32mreturn\u001b[0m \u001b[0m_decorated\u001b[0m\u001b[0;34m\u001b[0m\u001b[0;34m\u001b[0m\u001b[0m\n\u001b[1;32m     77\u001b[0m \u001b[0;34m\u001b[0m\u001b[0m\n",
      "\u001b[0;32m/usr/local/lib/python3.7/dist-packages/pydrive/files.py\u001b[0m in \u001b[0;36mFetchMetadata\u001b[0;34m(self, fields, fetch_all)\u001b[0m\n\u001b[1;32m    237\u001b[0m           \u001b[0;34m.\u001b[0m\u001b[0mexecute\u001b[0m\u001b[0;34m(\u001b[0m\u001b[0mhttp\u001b[0m\u001b[0;34m=\u001b[0m\u001b[0mself\u001b[0m\u001b[0;34m.\u001b[0m\u001b[0mhttp\u001b[0m\u001b[0;34m)\u001b[0m\u001b[0;34m\u001b[0m\u001b[0;34m\u001b[0m\u001b[0m\n\u001b[1;32m    238\u001b[0m       \u001b[0;32mexcept\u001b[0m \u001b[0merrors\u001b[0m\u001b[0;34m.\u001b[0m\u001b[0mHttpError\u001b[0m \u001b[0;32mas\u001b[0m \u001b[0merror\u001b[0m\u001b[0;34m:\u001b[0m\u001b[0;34m\u001b[0m\u001b[0;34m\u001b[0m\u001b[0m\n\u001b[0;32m--> 239\u001b[0;31m         \u001b[0;32mraise\u001b[0m \u001b[0mApiRequestError\u001b[0m\u001b[0;34m(\u001b[0m\u001b[0merror\u001b[0m\u001b[0;34m)\u001b[0m\u001b[0;34m\u001b[0m\u001b[0;34m\u001b[0m\u001b[0m\n\u001b[0m\u001b[1;32m    240\u001b[0m       \u001b[0;32melse\u001b[0m\u001b[0;34m:\u001b[0m\u001b[0;34m\u001b[0m\u001b[0;34m\u001b[0m\u001b[0m\n\u001b[1;32m    241\u001b[0m         \u001b[0mself\u001b[0m\u001b[0;34m.\u001b[0m\u001b[0muploaded\u001b[0m \u001b[0;34m=\u001b[0m \u001b[0;32mTrue\u001b[0m\u001b[0;34m\u001b[0m\u001b[0;34m\u001b[0m\u001b[0m\n",
      "\u001b[0;31mApiRequestError\u001b[0m: <HttpError 404 when requesting https://www.googleapis.com/drive/v2/files/REPLACE_WITH_YOUR_FILE_ID?alt=json returned \"File not found: REPLACE_WITH_YOUR_FILE_ID\". Details: \"File not found: REPLACE_WITH_YOUR_FILE_ID\">"
     ]
    }
   ],
   "source": [
    "# Import PyDrive and associated libraries.\n",
    "# This only needs to be done once per notebook.\n",
    "from pydrive.auth import GoogleAuth\n",
    "from pydrive.drive import GoogleDrive\n",
    "from google.colab import auth\n",
    "from oauth2client.client import GoogleCredentials\n",
    "\n",
    "# Authenticate and create the PyDrive client.\n",
    "# This only needs to be done once per notebook.\n",
    "auth.authenticate_user()\n",
    "gauth = GoogleAuth()\n",
    "gauth.credentials = GoogleCredentials.get_application_default()\n",
    "drive = GoogleDrive(gauth)\n",
    "\n",
    "# Download a file based on its file ID.\n",
    "#\n",
    "# A file ID looks like: laggVyWshwcyP6kEI-y_W3P8D26sz\n",
    "file_id = 'REPLACE_WITH_YOUR_FILE_ID'\n",
    "downloaded = drive.CreateFile({'id': file_id})\n",
    "print('Downloaded content \"{}\"'.format(downloaded.GetContentString()))"
   ]
  },
  {
   "cell_type": "code",
   "execution_count": null,
   "metadata": {
    "id": "kxjvXNGn9zhJ"
   },
   "outputs": [],
   "source": [
    "# Import PyDrive and associated libraries.\n",
    "# This only needs to be done once per notebook.\n",
    "from pydrive.auth import GoogleAuth\n",
    "from pydrive.drive import GoogleDrive\n",
    "from google.colab import auth\n",
    "from oauth2client.client import GoogleCredentials\n",
    "\n",
    "# Authenticate and create the PyDrive client.\n",
    "# This only needs to be done once per notebook.\n",
    "auth.authenticate_user()\n",
    "gauth = GoogleAuth()\n",
    "gauth.credentials = GoogleCredentials.get_application_default()\n",
    "drive = GoogleDrive(gauth)\n",
    "\n",
    "# Download a file based on its file ID.\n",
    "#\n",
    "# A file ID looks like: laggVyWshwcyP6kEI-y_W3P8D26sz\n",
    "file_id = 'REPLACE_WITH_YOUR_FILE_ID'\n",
    "downloaded = drive.CreateFile({'id': file_id})\n",
    "print('Downloaded content \"{}\"'.format(downloaded.GetContentString()))"
   ]
  },
  {
   "cell_type": "code",
   "execution_count": null,
   "metadata": {
    "id": "s8GvEk4HltpI"
   },
   "outputs": [],
   "source": [
    "km = np.array([44410., 5712., 37123., 0., 25757.])\n",
    "anos = np.array([2003, 1991, 1990, 2019, 2006])"
   ]
  },
  {
   "cell_type": "code",
   "execution_count": null,
   "metadata": {
    "id": "aUnYV7OultpI"
   },
   "outputs": [],
   "source": []
  },
  {
   "cell_type": "code",
   "execution_count": null,
   "metadata": {
    "id": "vg5yZ9IpltpJ"
   },
   "outputs": [],
   "source": []
  },
  {
   "cell_type": "markdown",
   "metadata": {
    "id": "qn1PUsM9ltpJ"
   },
   "source": [
    "### Operações entre arrays"
   ]
  },
  {
   "cell_type": "code",
   "execution_count": null,
   "metadata": {
    "id": "gU_d5aZkltpJ"
   },
   "outputs": [],
   "source": []
  },
  {
   "cell_type": "code",
   "execution_count": null,
   "metadata": {
    "id": "U9DXntUEltpK"
   },
   "outputs": [],
   "source": []
  },
  {
   "cell_type": "code",
   "execution_count": null,
   "metadata": {
    "id": "n0rPxgY1ltpL"
   },
   "outputs": [],
   "source": []
  },
  {
   "cell_type": "markdown",
   "metadata": {
    "id": "o4-gsGICltpN"
   },
   "source": [
    "### Operações com arrays de duas dimensões"
   ]
  },
  {
   "cell_type": "code",
   "execution_count": null,
   "metadata": {
    "id": "VT71Pbb3ltpN"
   },
   "outputs": [],
   "source": []
  },
  {
   "cell_type": "code",
   "execution_count": null,
   "metadata": {
    "id": "bgDe00q8ltpO"
   },
   "outputs": [],
   "source": []
  },
  {
   "cell_type": "code",
   "execution_count": null,
   "metadata": {
    "id": "jIQU2ugKltpP"
   },
   "outputs": [],
   "source": []
  },
  {
   "cell_type": "markdown",
   "metadata": {
    "id": "dsgz-E5ZltpP"
   },
   "source": [
    "![1410-img01.png](https://caelum-online-public.s3.amazonaws.com/1410-pythondatascience/01/1410-img01.png)"
   ]
  },
  {
   "cell_type": "code",
   "execution_count": null,
   "metadata": {
    "id": "imANn6HultpQ"
   },
   "outputs": [],
   "source": []
  },
  {
   "cell_type": "code",
   "execution_count": null,
   "metadata": {
    "id": "Nkp9ljkvltpQ"
   },
   "outputs": [],
   "source": []
  },
  {
   "cell_type": "code",
   "execution_count": null,
   "metadata": {
    "id": "njJ2z3HJltpR"
   },
   "outputs": [],
   "source": []
  },
  {
   "cell_type": "markdown",
   "metadata": {
    "id": "4CAwtS0-ltpR"
   },
   "source": [
    "# 5.3 Seleções com arrays Numpy"
   ]
  },
  {
   "cell_type": "markdown",
   "metadata": {
    "id": "QDAT1vODltpS"
   },
   "source": [
    "![1410-img01.png](https://caelum-online-public.s3.amazonaws.com/1410-pythondatascience/01/1410-img01.png)"
   ]
  },
  {
   "cell_type": "code",
   "execution_count": null,
   "metadata": {
    "id": "nZpPGS2TltpS"
   },
   "outputs": [],
   "source": []
  },
  {
   "cell_type": "markdown",
   "metadata": {
    "id": "b--BIPcOltpT"
   },
   "source": [
    "![1410-img02.png](https://caelum-online-public.s3.amazonaws.com/1410-pythondatascience/01/1410-img02.png)"
   ]
  },
  {
   "cell_type": "markdown",
   "metadata": {
    "id": "86-hOHa7ltpT"
   },
   "source": [
    "### Indexação \n",
    "\n",
    "<font color=red>**Observação:**</font> A indexação tem origem no zero."
   ]
  },
  {
   "cell_type": "code",
   "execution_count": null,
   "metadata": {
    "id": "3ee-jiePBjRL"
   },
   "outputs": [],
   "source": [
    "import numpy as np"
   ]
  },
  {
   "cell_type": "code",
   "execution_count": null,
   "metadata": {
    "colab": {
     "base_uri": "https://localhost:8080/"
    },
    "id": "mr0Q_X0JltpT",
    "outputId": "086e5350-2831-4a17-c99f-6116bdbc7013"
   },
   "outputs": [
    {
     "data": {
      "text/plain": [
       "array([0, 1, 2, 3, 4, 5, 6, 7, 8, 9])"
      ]
     },
     "execution_count": 34,
     "metadata": {},
     "output_type": "execute_result"
    }
   ],
   "source": [
    "\n",
    "contador = np.arange(10)\n",
    "contador"
   ]
  },
  {
   "cell_type": "code",
   "execution_count": null,
   "metadata": {
    "id": "VxiR_IgdltpU"
   },
   "outputs": [],
   "source": [
    "item = 10\n",
    "index = item -1"
   ]
  },
  {
   "cell_type": "code",
   "execution_count": null,
   "metadata": {
    "colab": {
     "base_uri": "https://localhost:8080/"
    },
    "id": "xGDomIyAltpU",
    "outputId": "c50970c1-d03b-486f-c29a-28edc0367ac4"
   },
   "outputs": [
    {
     "data": {
      "text/plain": [
       "9"
      ]
     },
     "execution_count": 36,
     "metadata": {},
     "output_type": "execute_result"
    }
   ],
   "source": [
    "contador[index]"
   ]
  },
  {
   "cell_type": "code",
   "execution_count": null,
   "metadata": {
    "colab": {
     "base_uri": "https://localhost:8080/"
    },
    "id": "QEO5Za5PltpV",
    "outputId": "ce8a44f5-e85c-41bf-f1d3-f17e344a1688"
   },
   "outputs": [
    {
     "data": {
      "text/plain": [
       "[['Rodas de liga',\n",
       "  'Travas elétricas',\n",
       "  'Piloto automático',\n",
       "  'Bancos de couro',\n",
       "  'Ar condicionado',\n",
       "  'Sensor de estacionamento',\n",
       "  'Sensor crepuscular',\n",
       "  'Sensor de chuva'],\n",
       " ['Central multimídia',\n",
       "  'Teto panorâmico',\n",
       "  'Freios ABS',\n",
       "  '4 X 4',\n",
       "  'Painel digital',\n",
       "  'Piloto automático',\n",
       "  'Bancos de couro',\n",
       "  'Câmera de estacionamento'],\n",
       " ['Piloto automático',\n",
       "  'Controle de estabilidade',\n",
       "  'Sensor crepuscular',\n",
       "  'Freios ABS',\n",
       "  'Câmbio automático',\n",
       "  'Bancos de couro',\n",
       "  'Central multimídia',\n",
       "  'Vidros elétricos']]"
      ]
     },
     "execution_count": 37,
     "metadata": {},
     "output_type": "execute_result"
    }
   ],
   "source": [
    "dados\n"
   ]
  },
  {
   "cell_type": "code",
   "execution_count": null,
   "metadata": {
    "id": "rvkeMK8KltpV"
   },
   "outputs": [],
   "source": []
  },
  {
   "cell_type": "code",
   "execution_count": null,
   "metadata": {
    "id": "X8c-lJRJltpW"
   },
   "outputs": [],
   "source": []
  },
  {
   "cell_type": "markdown",
   "metadata": {
    "id": "fCWUSI1zltpZ"
   },
   "source": [
    "## <font color=green>**Dica:**</font>\n",
    "### *ndarray[ linha ][ coluna ]* ou *ndarray[ linha, coluna ]*"
   ]
  },
  {
   "cell_type": "code",
   "execution_count": null,
   "metadata": {
    "id": "Nxc3uY-ZltpZ"
   },
   "outputs": [],
   "source": []
  },
  {
   "cell_type": "code",
   "execution_count": null,
   "metadata": {
    "id": "xp8ByjualtpZ"
   },
   "outputs": [],
   "source": []
  },
  {
   "cell_type": "markdown",
   "metadata": {
    "id": "7osmTUC4ltpa"
   },
   "source": [
    " ### Fatiamentos\n",
    " \n",
    "A sintaxe para realizar fatiamento em um array Numpy é $i : j : k$ onde $i$ é o índice inicial, $j$ é o índice de parada, e $k$ é o indicador de passo ($k\\neq0$)\n",
    " \n",
    "<font color=red>**Observação:**</font> Nos fatiamentos (*slices*) o item com índice i é **incluído** e o item com índice j **não é incluído** no resultado."
   ]
  },
  {
   "cell_type": "markdown",
   "metadata": {
    "id": "HEx4TbNlltpa"
   },
   "source": [
    "![1410-img01.png](https://caelum-online-public.s3.amazonaws.com/1410-pythondatascience/01/1410-img01.png)"
   ]
  },
  {
   "cell_type": "code",
   "execution_count": null,
   "metadata": {
    "colab": {
     "base_uri": "https://localhost:8080/"
    },
    "id": "tlaD1SENltpb",
    "outputId": "c5e8b3cc-e107-40ca-cb1b-a93eb84e96bd"
   },
   "outputs": [
    {
     "data": {
      "text/plain": [
       "array([0, 2, 4, 6, 8])"
      ]
     },
     "execution_count": 38,
     "metadata": {},
     "output_type": "execute_result"
    }
   ],
   "source": [
    "contador[::2]"
   ]
  },
  {
   "cell_type": "code",
   "execution_count": null,
   "metadata": {
    "colab": {
     "base_uri": "https://localhost:8080/"
    },
    "id": "vXLIO1cVltpc",
    "outputId": "d961fd9f-7a54-484a-b421-ad6b5de1338e"
   },
   "outputs": [
    {
     "data": {
      "text/plain": [
       "array([1, 3, 5, 7, 9])"
      ]
     },
     "execution_count": 39,
     "metadata": {},
     "output_type": "execute_result"
    }
   ],
   "source": [
    "contador[1::2]"
   ]
  },
  {
   "cell_type": "code",
   "execution_count": null,
   "metadata": {
    "id": "kYLgsQcHltpc"
   },
   "outputs": [],
   "source": []
  },
  {
   "cell_type": "code",
   "execution_count": null,
   "metadata": {
    "id": "H2MJpIasltpd"
   },
   "outputs": [],
   "source": []
  },
  {
   "cell_type": "code",
   "execution_count": null,
   "metadata": {
    "id": "YVzf4fNCltpe"
   },
   "outputs": [],
   "source": []
  },
  {
   "cell_type": "code",
   "execution_count": null,
   "metadata": {
    "id": "bPyQsUFPltpf"
   },
   "outputs": [],
   "source": []
  },
  {
   "cell_type": "code",
   "execution_count": null,
   "metadata": {
    "id": "IRxfixG-ltpg"
   },
   "outputs": [],
   "source": []
  },
  {
   "cell_type": "code",
   "execution_count": null,
   "metadata": {
    "id": "wfoJ84haltph"
   },
   "outputs": [],
   "source": []
  },
  {
   "cell_type": "code",
   "execution_count": null,
   "metadata": {
    "id": "UeejSXUAltph"
   },
   "outputs": [],
   "source": []
  },
  {
   "cell_type": "markdown",
   "metadata": {
    "id": "-fW4EXIqltpi"
   },
   "source": [
    "### Indexação com array booleano\n",
    "\n",
    "<font color=red>**Observação:**</font> Seleciona um grupo de linhas e colunas segundo os rótulos ou um array booleano."
   ]
  },
  {
   "cell_type": "code",
   "execution_count": null,
   "metadata": {
    "id": "MgmH-rCSltpi"
   },
   "outputs": [],
   "source": []
  },
  {
   "cell_type": "code",
   "execution_count": null,
   "metadata": {
    "id": "HN1i-BlLltpj"
   },
   "outputs": [],
   "source": []
  },
  {
   "cell_type": "code",
   "execution_count": null,
   "metadata": {
    "id": "iXJa9tL4ltpj"
   },
   "outputs": [],
   "source": []
  },
  {
   "cell_type": "code",
   "execution_count": null,
   "metadata": {
    "id": "54gH6X5eltpk"
   },
   "outputs": [],
   "source": []
  },
  {
   "cell_type": "code",
   "execution_count": null,
   "metadata": {
    "id": "F3z6zMELltpk"
   },
   "outputs": [],
   "source": []
  },
  {
   "cell_type": "code",
   "execution_count": null,
   "metadata": {
    "id": "pk8A68z1ltpl"
   },
   "outputs": [],
   "source": []
  },
  {
   "cell_type": "code",
   "execution_count": null,
   "metadata": {
    "id": "WUVMN29_ltpm"
   },
   "outputs": [],
   "source": []
  },
  {
   "cell_type": "markdown",
   "metadata": {
    "id": "Acw1DffHltpn"
   },
   "source": [
    "# 5.4 Atributos e métodos de arrays Numpy"
   ]
  },
  {
   "cell_type": "markdown",
   "metadata": {
    "id": "RBnSne6Eltpo"
   },
   "source": [
    "### Atributos\n",
    "\n",
    "https://numpy.org/doc/1.16/reference/arrays.ndarray.html#array-attributes"
   ]
  },
  {
   "cell_type": "code",
   "execution_count": null,
   "metadata": {
    "id": "stjvD6m8ltpo"
   },
   "outputs": [],
   "source": []
  },
  {
   "cell_type": "markdown",
   "metadata": {
    "id": "uKqPxg2Zltpo"
   },
   "source": [
    "## *ndarray.shape*\n",
    "\n",
    "Retorna uma tupla com as dimensões do array."
   ]
  },
  {
   "cell_type": "code",
   "execution_count": null,
   "metadata": {
    "id": "gmaZhF04ltpp"
   },
   "outputs": [],
   "source": []
  },
  {
   "cell_type": "markdown",
   "metadata": {
    "id": "XaY6oXkmltpp"
   },
   "source": [
    "## *ndarray.ndim*\n",
    "\n",
    "Retorna o número de dimensões do array."
   ]
  },
  {
   "cell_type": "code",
   "execution_count": null,
   "metadata": {
    "id": "inJ4HDjaltpq"
   },
   "outputs": [],
   "source": []
  },
  {
   "cell_type": "markdown",
   "metadata": {
    "id": "ESgVt5xOltpq"
   },
   "source": [
    "## *ndarray.size*\n",
    "\n",
    "Retorna o número de elementos do array."
   ]
  },
  {
   "cell_type": "code",
   "execution_count": null,
   "metadata": {
    "id": "BWr4efoiltpq"
   },
   "outputs": [],
   "source": []
  },
  {
   "cell_type": "markdown",
   "metadata": {
    "id": "Ox8JlBM3ltpr"
   },
   "source": [
    "## *ndarray.dtype*\n",
    "\n",
    "Retorna o tipo de dados dos elementos do array."
   ]
  },
  {
   "cell_type": "code",
   "execution_count": null,
   "metadata": {
    "id": "npiL84Vfltpu"
   },
   "outputs": [],
   "source": []
  },
  {
   "cell_type": "markdown",
   "metadata": {
    "id": "j7uPN16oltpv"
   },
   "source": [
    "## *ndarray.T*\n",
    "\n",
    "Retorna o array transposto, isto é, converte linhas em colunas e vice versa."
   ]
  },
  {
   "cell_type": "code",
   "execution_count": null,
   "metadata": {
    "id": "bLjrrx56ltpv"
   },
   "outputs": [],
   "source": []
  },
  {
   "cell_type": "code",
   "execution_count": null,
   "metadata": {
    "id": "5A9SlJQvltpw"
   },
   "outputs": [],
   "source": []
  },
  {
   "cell_type": "markdown",
   "metadata": {
    "id": "e9r6ryTrltpw"
   },
   "source": [
    "### Métodos\n",
    "\n",
    "https://numpy.org/doc/1.16/reference/arrays.ndarray.html#array-methods"
   ]
  },
  {
   "cell_type": "markdown",
   "metadata": {
    "id": "SR9KYy-0ltpw"
   },
   "source": [
    "## *ndarray.tolist()*\n",
    "\n",
    "Retorna o array como uma lista Python."
   ]
  },
  {
   "cell_type": "code",
   "execution_count": null,
   "metadata": {
    "id": "C2aTAwOXltpw"
   },
   "outputs": [],
   "source": []
  },
  {
   "cell_type": "markdown",
   "metadata": {
    "id": "bHxcxugPltpx"
   },
   "source": [
    "## *ndarray.reshape(shape[, order])*\n",
    "\n",
    "Retorna um array que contém os mesmos dados com uma nova forma."
   ]
  },
  {
   "cell_type": "code",
   "execution_count": 16,
   "metadata": {
    "id": "lwESxO71ltpx"
   },
   "outputs": [
    {
     "data": {
      "text/plain": [
       "array([0, 1, 2, 3, 4, 5, 6, 7, 8, 9])"
      ]
     },
     "execution_count": 16,
     "metadata": {},
     "output_type": "execute_result"
    }
   ],
   "source": [
    "contador = np.arange(10)\n",
    "contador"
   ]
  },
  {
   "cell_type": "code",
   "execution_count": 17,
   "metadata": {
    "id": "sh9poyfzltpy"
   },
   "outputs": [
    {
     "data": {
      "text/plain": [
       "array([[0, 1],\n",
       "       [2, 3],\n",
       "       [4, 5],\n",
       "       [6, 7],\n",
       "       [8, 9]])"
      ]
     },
     "execution_count": 17,
     "metadata": {},
     "output_type": "execute_result"
    }
   ],
   "source": [
    "contador.reshape(5,2)"
   ]
  },
  {
   "cell_type": "code",
   "execution_count": 18,
   "metadata": {
    "id": "5332Xu8-ltpy"
   },
   "outputs": [
    {
     "data": {
      "text/plain": [
       "array([[0, 1],\n",
       "       [2, 3],\n",
       "       [4, 5],\n",
       "       [6, 7],\n",
       "       [8, 9]])"
      ]
     },
     "execution_count": 18,
     "metadata": {},
     "output_type": "execute_result"
    }
   ],
   "source": [
    "contador.reshape((5,2), order='C')"
   ]
  },
  {
   "cell_type": "code",
   "execution_count": 19,
   "metadata": {
    "id": "2RoZvbgHltpz"
   },
   "outputs": [
    {
     "data": {
      "text/plain": [
       "array([[0, 5],\n",
       "       [1, 6],\n",
       "       [2, 7],\n",
       "       [3, 8],\n",
       "       [4, 9]])"
      ]
     },
     "execution_count": 19,
     "metadata": {},
     "output_type": "execute_result"
    }
   ],
   "source": [
    "contador.reshape((5,2), order='F')"
   ]
  },
  {
   "cell_type": "code",
   "execution_count": 20,
   "metadata": {
    "id": "6q0dJZ-dltp0"
   },
   "outputs": [],
   "source": [
    "km = [44410, 5712, 37123, 0, 25757]\n",
    "anos = [2003, 1991, 1990, 2019, 2006]"
   ]
  },
  {
   "cell_type": "code",
   "execution_count": 21,
   "metadata": {
    "id": "bs56aGrkltp0"
   },
   "outputs": [
    {
     "data": {
      "text/plain": [
       "[44410, 5712, 37123, 0, 25757, 2003, 1991, 1990, 2019, 2006]"
      ]
     },
     "execution_count": 21,
     "metadata": {},
     "output_type": "execute_result"
    }
   ],
   "source": [
    "info_carros = km + anos\n",
    "info_carros"
   ]
  },
  {
   "cell_type": "code",
   "execution_count": null,
   "metadata": {
    "id": "s_GkTk2fltp1"
   },
   "outputs": [],
   "source": []
  },
  {
   "cell_type": "code",
   "execution_count": null,
   "metadata": {
    "id": "xodm8DVZltp1"
   },
   "outputs": [],
   "source": []
  },
  {
   "cell_type": "markdown",
   "metadata": {
    "id": "Tdj5iArbltp2"
   },
   "source": [
    "## *ndarray.resize(new_shape[, refcheck])*\n",
    "\n",
    "Altera a forma e o tamanho do array."
   ]
  },
  {
   "cell_type": "code",
   "execution_count": 24,
   "metadata": {
    "id": "vB2zxCDtltp2"
   },
   "outputs": [
    {
     "data": {
      "text/plain": [
       "[['Rodas de liga',\n",
       "  'Travas elétricas',\n",
       "  'Piloto automático',\n",
       "  'Bancos de couro',\n",
       "  'Ar condicionado',\n",
       "  'Sensor de estacionamento',\n",
       "  'Sensor crepuscular',\n",
       "  'Sensor de chuva'],\n",
       " ['Central multimídia',\n",
       "  'Teto panorâmico',\n",
       "  'Freios ABS',\n",
       "  '4 X 4',\n",
       "  'Painel digital',\n",
       "  'Piloto automático',\n",
       "  'Bancos de couro',\n",
       "  'Câmera de estacionamento'],\n",
       " ['Piloto automático',\n",
       "  'Controle de estabilidade',\n",
       "  'Sensor crepuscular',\n",
       "  'Freios ABS',\n",
       "  'Câmbio automático',\n",
       "  'Bancos de couro',\n",
       "  'Central multimídia',\n",
       "  'Vidros elétricos']]"
      ]
     },
     "execution_count": 24,
     "metadata": {},
     "output_type": "execute_result"
    }
   ],
   "source": [
    "dados_new = dados.copy()\n",
    "dados_new"
   ]
  },
  {
   "cell_type": "code",
   "execution_count": 26,
   "metadata": {
    "id": "IMv0m4Multp2"
   },
   "outputs": [
    {
     "ename": "AttributeError",
     "evalue": "'list' object has no attribute 'resize'",
     "output_type": "error",
     "traceback": [
      "\u001b[1;31m---------------------------------------------------------------------------\u001b[0m",
      "\u001b[1;31mAttributeError\u001b[0m                            Traceback (most recent call last)",
      "\u001b[1;32m~\\AppData\\Local\\Temp/ipykernel_31188/1612141117.py\u001b[0m in \u001b[0;36m<module>\u001b[1;34m\u001b[0m\n\u001b[1;32m----> 1\u001b[1;33m \u001b[0mdados_new\u001b[0m\u001b[1;33m.\u001b[0m\u001b[0mresize\u001b[0m\u001b[1;33m(\u001b[0m\u001b[1;33m(\u001b[0m\u001b[1;36m3\u001b[0m\u001b[1;33m,\u001b[0m \u001b[1;36m5\u001b[0m\u001b[1;33m)\u001b[0m\u001b[1;33m,\u001b[0m \u001b[0mrefcheck\u001b[0m \u001b[1;33m=\u001b[0m \u001b[1;32mFalse\u001b[0m\u001b[1;33m)\u001b[0m\u001b[1;33m\u001b[0m\u001b[1;33m\u001b[0m\u001b[0m\n\u001b[0m",
      "\u001b[1;31mAttributeError\u001b[0m: 'list' object has no attribute 'resize'"
     ]
    }
   ],
   "source": [
    "dados_new.resize((3, 5), refcheck = False)"
   ]
  },
  {
   "cell_type": "code",
   "execution_count": 27,
   "metadata": {
    "id": "wpAi9928ltp3"
   },
   "outputs": [
    {
     "ename": "SyntaxError",
     "evalue": "cannot assign to function call (Temp/ipykernel_31188/3535030469.py, line 1)",
     "output_type": "error",
     "traceback": [
      "\u001b[1;36m  File \u001b[1;32m\"C:\\Users\\magno\\AppData\\Local\\Temp/ipykernel_31188/3535030469.py\"\u001b[1;36m, line \u001b[1;32m1\u001b[0m\n\u001b[1;33m    dados_new(2) = dados_new[0]/(2022 - dados_new[1])\u001b[0m\n\u001b[1;37m    ^\u001b[0m\n\u001b[1;31mSyntaxError\u001b[0m\u001b[1;31m:\u001b[0m cannot assign to function call\n"
     ]
    }
   ],
   "source": [
    "dados_new(2) = dados_new[0]/(2022 - dados_new[1])"
   ]
  },
  {
   "cell_type": "code",
   "execution_count": null,
   "metadata": {
    "id": "CJyuKqaFltp3"
   },
   "outputs": [],
   "source": []
  },
  {
   "cell_type": "code",
   "execution_count": null,
   "metadata": {
    "id": "bj_iPZAultp4"
   },
   "outputs": [],
   "source": []
  },
  {
   "cell_type": "markdown",
   "metadata": {
    "id": "GPSk7Q_Dltp4"
   },
   "source": [
    "# 5.5 Estatísticas com arrays Numpy\n",
    "\n",
    "https://numpy.org/doc/1.16/reference/arrays.ndarray.html#calculation\n",
    "\n",
    "e\n",
    "\n",
    "https://numpy.org/doc/1.16/reference/routines.statistics.html\n",
    "\n",
    "e\n",
    "\n",
    "https://numpy.org/doc/1.16/reference/routines.math.html"
   ]
  },
  {
   "cell_type": "code",
   "execution_count": null,
   "metadata": {
    "id": "RH2u1orXltp5"
   },
   "outputs": [],
   "source": [
    "anos = np.loadtxt(fname = \"carros-anos.txt\", dtype = int)\n",
    "km = np.loadtxt(fname = \"carros-km.txt\")\n",
    "valor = np.loadtxt(fname = \"carros-valor.txt\")"
   ]
  },
  {
   "cell_type": "code",
   "execution_count": null,
   "metadata": {
    "id": "wbITF7r6ltp5"
   },
   "outputs": [],
   "source": []
  },
  {
   "cell_type": "markdown",
   "metadata": {
    "id": "U_x3SOVDltp7"
   },
   "source": [
    "https://numpy.org/doc/1.16/reference/generated/numpy.column_stack.html"
   ]
  },
  {
   "cell_type": "code",
   "execution_count": null,
   "metadata": {
    "id": "wefxl-XBltp8"
   },
   "outputs": [],
   "source": []
  },
  {
   "cell_type": "code",
   "execution_count": null,
   "metadata": {
    "id": "OzDTTmj8ltp_",
    "scrolled": true
   },
   "outputs": [],
   "source": []
  },
  {
   "cell_type": "markdown",
   "metadata": {
    "id": "Me6yUU_RltqA"
   },
   "source": [
    "## *np.mean()*\n",
    "\n",
    "Retorna a média dos elementos do array ao longo do eixo especificado."
   ]
  },
  {
   "cell_type": "code",
   "execution_count": null,
   "metadata": {
    "id": "MNEKcP38ltqA"
   },
   "outputs": [],
   "source": []
  },
  {
   "cell_type": "code",
   "execution_count": null,
   "metadata": {
    "id": "sekHQ84zltqB"
   },
   "outputs": [],
   "source": []
  },
  {
   "cell_type": "code",
   "execution_count": null,
   "metadata": {
    "id": "RpyETIVSltqC"
   },
   "outputs": [],
   "source": []
  },
  {
   "cell_type": "code",
   "execution_count": null,
   "metadata": {
    "id": "_-kpcTI8ltqD",
    "scrolled": true
   },
   "outputs": [],
   "source": []
  },
  {
   "cell_type": "markdown",
   "metadata": {
    "id": "71jViVBUltqE"
   },
   "source": [
    "## *np.std()*\n",
    "\n",
    "Retorna o desvio padrão dos elementos do array ao longo do eixo especificado."
   ]
  },
  {
   "cell_type": "code",
   "execution_count": null,
   "metadata": {
    "id": "lEwUbPx2ltqE",
    "scrolled": true
   },
   "outputs": [],
   "source": []
  },
  {
   "cell_type": "markdown",
   "metadata": {
    "id": "JTUH-vAeltqG"
   },
   "source": [
    "## *ndarray.sum()*\n",
    "\n",
    "Retorna a soma dos elementos do array ao longo do eixo especificado."
   ]
  },
  {
   "cell_type": "code",
   "execution_count": null,
   "metadata": {
    "id": "jIi3yoaWltqG"
   },
   "outputs": [],
   "source": []
  },
  {
   "cell_type": "code",
   "execution_count": null,
   "metadata": {
    "id": "X3QYbdYLltqH"
   },
   "outputs": [],
   "source": []
  },
  {
   "cell_type": "markdown",
   "metadata": {
    "id": "WbBD5ixaltqH"
   },
   "source": [
    "## *np.sum()*\n",
    "\n",
    "Retorna a soma dos elementos do array ao longo do eixo especificado."
   ]
  },
  {
   "cell_type": "code",
   "execution_count": null,
   "metadata": {
    "id": "omB6kgWgltqH"
   },
   "outputs": [],
   "source": []
  },
  {
   "cell_type": "code",
   "execution_count": null,
   "metadata": {
    "id": "LiD4G3kQltqI"
   },
   "outputs": [],
   "source": []
  },
  {
   "cell_type": "code",
   "execution_count": null,
   "metadata": {
    "id": "kpakpnntltqJ"
   },
   "outputs": [],
   "source": []
  }
 ],
 "metadata": {
  "colab": {
   "collapsed_sections": [
    "wMdUsAq4ltjs",
    "KdG5NmmGltj0",
    "WeJG-WJBltj8",
    "zuv8N7fjltkC",
    "dMp7BsnwltkF",
    "3DSO7TcvltkL",
    "qaVLKIeultkn",
    "fDBrHWSBltlB",
    "uVAyJbmAltlC",
    "-HRRxQOtltlQ",
    "7X9iheAnltld",
    "Ipjq4eiSltlp",
    "dByigpENltmO",
    "8--bcJ01ltm8",
    "_IZuNE48ltnS",
    "8zMZNsg2ltoU",
    "RtG2-g1ultme",
    "-fW4EXIqltpi",
    "Acw1DffHltpn",
    "RBnSne6Eltpo",
    "uKqPxg2Zltpo",
    "XaY6oXkmltpp",
    "ESgVt5xOltpq",
    "Ox8JlBM3ltpr",
    "j7uPN16oltpv",
    "e9r6ryTrltpw",
    "SR9KYy-0ltpw",
    "bHxcxugPltpx",
    "Tdj5iArbltp2",
    "GPSk7Q_Dltp4",
    "Me6yUU_RltqA",
    "71jViVBUltqE",
    "JTUH-vAeltqG",
    "WbBD5ixaltqH"
   ],
   "name": "Python_Data_Science_Numpy.ipynb",
   "provenance": []
  },
  "kernelspec": {
   "display_name": "Python 3 (ipykernel)",
   "language": "python",
   "name": "python3"
  },
  "language_info": {
   "codemirror_mode": {
    "name": "ipython",
    "version": 3
   },
   "file_extension": ".py",
   "mimetype": "text/x-python",
   "name": "python",
   "nbconvert_exporter": "python",
   "pygments_lexer": "ipython3",
   "version": "3.9.7"
  }
 },
 "nbformat": 4,
 "nbformat_minor": 1
}
