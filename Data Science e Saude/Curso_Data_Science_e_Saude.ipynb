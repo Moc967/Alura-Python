{
 "cells": [
  {
   "cell_type": "code",
   "execution_count": null,
   "metadata": {
    "id": "K8CC9Z-SzMUD",
    "pycharm": {
     "is_executing": true,
     "name": "#%%\n"
    }
   },
   "outputs": [],
   "source": [
    "import pandas as pd"
   ]
  },
  {
   "cell_type": "markdown",
   "metadata": {
    "id": "ASQDpD2lpNX8",
    "pycharm": {
     "name": "#%% md\n"
    }
   },
   "source": [
    "# **Coletando Dados de Fontes Oficiais**\n",
    "\n",
    "Utilizamos fontes da Johns Hopkins CSSEGIS "
   ]
  },
  {
   "cell_type": "code",
   "execution_count": null,
   "metadata": {
    "id": "uIjtQjWkzKc-",
    "pycharm": {
     "name": "#%%\n"
    }
   },
   "outputs": [],
   "source": [
    "deaths = pd.read_csv(\"https://raw.githubusercontent.com/CSSEGISandData/COVID-19/master/csse_covid_19_data/csse_covid_19_time_series/time_series_covid19_deaths_global.csv\")\n",
    "recovered = pd.read_csv(\"https://raw.githubusercontent.com/CSSEGISandData/COVID-19/master/csse_covid_19_data/csse_covid_19_time_series/time_series_covid19_recovered_global.csv\")\n",
    "confirmed = pd.read_csv(\"https://raw.githubusercontent.com/CSSEGISandData/COVID-19/master/csse_covid_19_data/csse_covid_19_time_series/time_series_covid19_confirmed_global.csv\")"
   ]
  },
  {
   "cell_type": "code",
   "execution_count": null,
   "outputs": [],
   "source": [
    "recovered.describe()"
   ],
   "metadata": {
    "collapsed": false,
    "pycharm": {
     "name": "#%%\n"
    }
   }
  },
  {
   "cell_type": "code",
   "execution_count": null,
   "outputs": [],
   "source": [
    "confirmed.describe()"
   ],
   "metadata": {
    "collapsed": false,
    "pycharm": {
     "name": "#%%\n"
    }
   }
  },
  {
   "cell_type": "code",
   "execution_count": null,
   "outputs": [],
   "source": [
    "confirmed.last_valid_index"
   ],
   "metadata": {
    "collapsed": false,
    "pycharm": {
     "name": "#%%\n"
    }
   }
  },
  {
   "cell_type": "code",
   "execution_count": null,
   "outputs": [],
   "source": [
    "confirmed.shape"
   ],
   "metadata": {
    "collapsed": false,
    "pycharm": {
     "name": "#%%\n"
    }
   }
  },
  {
   "cell_type": "code",
   "execution_count": null,
   "outputs": [],
   "source": [
    "len(confirmed[\"Country/Region\"].unique())"
   ],
   "metadata": {
    "collapsed": false,
    "pycharm": {
     "name": "#%%\n"
    }
   }
  },
  {
   "cell_type": "code",
   "execution_count": null,
   "metadata": {
    "colab": {
     "base_uri": "https://localhost:8080/"
    },
    "id": "4Kgcxud-1SgT",
    "outputId": "a45832df-10f8-4175-ce47-71fb5ff29696",
    "pycharm": {
     "name": "#%%\n"
    }
   },
   "outputs": [],
   "source": [
    "confirmed.iloc[0]"
   ]
  },
  {
   "cell_type": "code",
   "execution_count": null,
   "metadata": {
    "colab": {
     "base_uri": "https://localhost:8080/"
    },
    "id": "ESilhZ821R69",
    "outputId": "a4a8703e-6bc2-486c-9ce1-19a6514ffff2",
    "pycharm": {
     "name": "#%%\n"
    }
   },
   "outputs": [],
   "source": [
    "confirmed.set_index(\"Province/State\").loc[\"Beijing\"]"
   ]
  },
  {
   "cell_type": "code",
   "execution_count": null,
   "metadata": {
    "colab": {
     "base_uri": "https://localhost:8080/"
    },
    "id": "xzwux3bS0rHp",
    "outputId": "8a210da1-4e15-4783-aa1f-89ab52d1740c",
    "pycharm": {
     "name": "#%%\n"
    }
   },
   "outputs": [],
   "source": [
    "confirmed[\"Country/Region\"].value_counts()"
   ]
  },
  {
   "cell_type": "code",
   "execution_count": null,
   "metadata": {
    "colab": {
     "base_uri": "https://localhost:8080/",
     "height": 331
    },
    "id": "gkIWb_fW22eO",
    "outputId": "817b296f-7338-4c90-c1d4-e8d20f0c5244",
    "pycharm": {
     "name": "#%%\n"
    }
   },
   "outputs": [],
   "source": [
    "confirmed_by_country = confirmed.groupby(\"Country/Region\").sum()\n",
    "confirmed_by_country.head()"
   ]
  },
  {
   "cell_type": "code",
   "execution_count": null,
   "metadata": {
    "colab": {
     "base_uri": "https://localhost:8080/"
    },
    "id": "xpxTqGTF4JT4",
    "outputId": "fcd562b4-57dc-4ad7-9868-ef02e448e04d",
    "pycharm": {
     "name": "#%%\n"
    }
   },
   "outputs": [],
   "source": [
    "confirmed_by_country.loc[\"Brazil\"]"
   ]
  },
  {
   "cell_type": "code",
   "execution_count": null,
   "metadata": {
    "colab": {
     "base_uri": "https://localhost:8080/",
     "height": 336
    },
    "id": "AwqOmMfa4t47",
    "outputId": "493fdc80-e207-4a23-fd70-0b3a5dcb9fd1",
    "pycharm": {
     "name": "#%%\n"
    }
   },
   "outputs": [],
   "source": [
    "import matplotlib.pyplot as plt\n",
    "\n",
    "plt.figure(figsize=(15,5))\n",
    "confirmed_by_country.loc[\"Brazil\"][2:].plot()\n",
    "plt.title(\"Casos covid-19 confirmados no Brasil\")\n",
    "plt.show()"
   ]
  },
  {
   "cell_type": "code",
   "execution_count": null,
   "metadata": {
    "id": "gzU_a4-x44T4",
    "pycharm": {
     "name": "#%%\n"
    }
   },
   "outputs": [],
   "source": [
    "new_cases_brazil = confirmed_by_country.loc[\"Brazil\"][2:].diff().dropna()\n"
   ]
  },
  {
   "cell_type": "code",
   "execution_count": null,
   "metadata": {
    "colab": {
     "base_uri": "https://localhost:8080/",
     "height": 336
    },
    "id": "U5srRaqv7mvp",
    "outputId": "ce2f7d40-640e-409a-f760-d20bebbdf42f",
    "pycharm": {
     "name": "#%%\n"
    }
   },
   "outputs": [],
   "source": [
    "plt.figure(figsize=(15,5))\n",
    "new_cases_brazil.plot()\n",
    "plt.title(\"Casos novos de covid-19, confirmados no Brasil\")\n",
    "plt.show()"
   ]
  },
  {
   "cell_type": "code",
   "execution_count": null,
   "metadata": {
    "colab": {
     "base_uri": "https://localhost:8080/",
     "height": 35
    },
    "id": "aCTWvEPOLEgG",
    "outputId": "a0109346-daeb-4b05-9c3f-c7eb33d44219",
    "pycharm": {
     "name": "#%%\n"
    }
   },
   "outputs": [],
   "source": [
    "last_date = confirmed_by_country.iloc[:,-1].name \n",
    "last_date\n"
   ]
  },
  {
   "cell_type": "code",
   "execution_count": null,
   "metadata": {
    "colab": {
     "base_uri": "https://localhost:8080/",
     "height": 453
    },
    "id": "CoHEnqxF9pNq",
    "outputId": "8f014c4a-8c21-43ca-feac-50e3b7cced72",
    "pycharm": {
     "name": "#%%\n"
    }
   },
   "outputs": [],
   "source": [
    "fig = plt.figure(figsize=(15,5))\n",
    "ax = confirmed_by_country[last_date].sort_values(ascending=False)[:20].plot(kind='bar')\n",
    "ax = plt.title(\"Covid-19, total new cases until yesterday, \" + last_date, loc='left', pad='30',fontsize = 25)\n",
    "ax = plt.show()"
   ]
  },
  {
   "cell_type": "code",
   "execution_count": null,
   "metadata": {
    "colab": {
     "base_uri": "https://localhost:8080/",
     "height": 518
    },
    "id": "eROfpVvznx0I",
    "outputId": "04d2dfc8-fc92-47bf-e95a-d1d491b5c3ca",
    "pycharm": {
     "name": "#%%\n"
    }
   },
   "outputs": [],
   "source": [
    "display(deaths.head())\n",
    "display(recovered.head())\n"
   ]
  },
  {
   "cell_type": "code",
   "execution_count": null,
   "metadata": {
    "colab": {
     "base_uri": "https://localhost:8080/"
    },
    "id": "Fubry87uquxn",
    "outputId": "c22a55e9-759b-4eea-d93a-db84d175745f",
    "pycharm": {
     "name": "#%%\n"
    }
   },
   "outputs": [],
   "source": [
    "def latest_by_country(data):\n",
    "  return data.groupby(\"Country/Region\").sum().iloc[:,-1]\n",
    "\n",
    "latest_by_country(deaths)"
   ]
  },
  {
   "cell_type": "code",
   "execution_count": null,
   "metadata": {
    "colab": {
     "base_uri": "https://localhost:8080/",
     "height": 238
    },
    "id": "TcI7gV9jrzB8",
    "outputId": "24ca2955-83db-4652-9b79-e008c4c6fbb2",
    "pycharm": {
     "name": "#%%\n"
    }
   },
   "outputs": [],
   "source": [
    "informations = [latest_by_country(confirmed), \n",
    "               latest_by_country(deaths),\n",
    "               latest_by_country(recovered)]\n",
    "combined = pd.concat(informations, axis = 1)\n",
    "combined.columns = [\"confirmed\", \"deaths\", \"recovered\"]\n",
    "combined.head()"
   ]
  },
  {
   "cell_type": "markdown",
   "metadata": {
    "id": "EFT4VM2F500X",
    "pycharm": {
     "name": "#%% md\n"
    }
   },
   "source": [
    "# Calculando a taxa de letalidade da doença\n",
    "\n",
    "Considera o número total de mortos em relação ao número de casos confirmados."
   ]
  },
  {
   "cell_type": "code",
   "execution_count": null,
   "metadata": {
    "colab": {
     "base_uri": "https://localhost:8080/"
    },
    "id": "ZliDJzQytlvI",
    "outputId": "26e257f9-e6a8-49bd-d7b4-d97479d24d78",
    "pycharm": {
     "name": "#%%\n"
    }
   },
   "outputs": [],
   "source": [
    "sum_up = combined.sum()\n",
    "letality_rate_1 = sum_up[\"deaths\"]/sum_up[\"confirmed\"]\n",
    "print(sum_up[\"deaths\"])\n",
    "print(sum_up[\"confirmed\"])\n",
    "print(letality_rate_1*100)"
   ]
  },
  {
   "cell_type": "markdown",
   "metadata": {
    "id": "D_yDcLw165vn",
    "pycharm": {
     "name": "#%% md\n"
    }
   },
   "source": [
    "# Calculando a taxa de letalidade por país"
   ]
  },
  {
   "cell_type": "code",
   "execution_count": null,
   "metadata": {
    "colab": {
     "base_uri": "https://localhost:8080/"
    },
    "id": "H5F5T-XoDx1-",
    "outputId": "07cee7b9-bc06-4f97-9e9b-89fd213d7885",
    "pycharm": {
     "name": "#%%\n"
    }
   },
   "outputs": [],
   "source": [
    "letality = combined[\"deaths\"]/combined[\"confirmed\"]*100\n",
    "letality"
   ]
  },
  {
   "cell_type": "code",
   "execution_count": null,
   "metadata": {
    "colab": {
     "base_uri": "https://localhost:8080/",
     "height": 394
    },
    "id": "JYD-uufR7Pbe",
    "outputId": "33b7fbc4-9846-452f-9222-630fd072a03a",
    "pycharm": {
     "name": "#%%\n"
    }
   },
   "outputs": [],
   "source": [
    "letality = combined[\"deaths\"]/combined[\"confirmed\"]*100\n",
    "combined[\"letality_rate_1\"] = letality\n",
    "combined.head(10)"
   ]
  },
  {
   "cell_type": "markdown",
   "metadata": {
    "id": "oWHpZ8rgEk4m",
    "pycharm": {
     "name": "#%% md\n"
    }
   },
   "source": [
    "#Calculando uma segunda taxa de letalidade, considerando como total o número de mortos somados aos recuperados.\n",
    "\n",
    "Como a base de dados de **Recuperados** deixou de ser atualizada diariamente a partir de 5/08/2021, iremos fazer o calculo com os dados normatizados até esta data. \n"
   ]
  },
  {
   "cell_type": "code",
   "execution_count": null,
   "metadata": {
    "colab": {
     "base_uri": "https://localhost:8080/",
     "height": 1000
    },
    "id": "X9y9axSHHllZ",
    "outputId": "81b04672-f77b-4b63-817b-7668eea3bff5",
    "pycharm": {
     "name": "#%%\n"
    }
   },
   "outputs": [],
   "source": [
    "recovered.loc[:,:'8/5/21'].head(50)"
   ]
  },
  {
   "cell_type": "markdown",
   "metadata": {
    "id": "0cbtFp7UHtBw",
    "pycharm": {
     "name": "#%% md\n"
    }
   },
   "source": [
    "###Criando as bases de valores acumulados até '8/4/21'"
   ]
  },
  {
   "cell_type": "code",
   "execution_count": null,
   "metadata": {
    "id": "6MlEJl-wFs5L",
    "pycharm": {
     "name": "#%%\n"
    }
   },
   "outputs": [],
   "source": [
    "confirmed = confirmed.loc[:, :'8/4/21']\n",
    "deaths = deaths.loc[:, :'8/4/21']\n",
    "recovered = recovered.loc[:, :'8/4/21']"
   ]
  },
  {
   "cell_type": "code",
   "execution_count": null,
   "metadata": {
    "id": "umhapyqWKJSb",
    "pycharm": {
     "name": "#%%\n"
    }
   },
   "outputs": [],
   "source": [
    "informations = [latest_by_country(confirmed), \n",
    "               latest_by_country(deaths),\n",
    "               latest_by_country(recovered)]\n",
    "combined = pd.concat(informations, axis = 1)\n",
    "combined.columns = [\"confirmed\", \"deaths\", \"recovered\"]\n",
    "combined.head()"
   ]
  },
  {
   "cell_type": "code",
   "execution_count": null,
   "metadata": {
    "id": "h6qBXtgXHT8g",
    "pycharm": {
     "name": "#%%\n"
    }
   },
   "outputs": [],
   "source": [
    "letality_rate_1 = combined[\"deaths\"]/combined[\"confirmed\"]*100\n",
    "letality_rate_2 = combined[\"deaths\"]/(combined[\"recovered\"] + combined[\"deaths\"])*100\n",
    "\n",
    "combined[\"letality_rate_1\"] = letality_rate_1\n",
    "combined[\"letality_rate_2\"] = letality_rate_2\n"
   ]
  },
  {
   "cell_type": "code",
   "execution_count": null,
   "metadata": {
    "id": "DTBhEbvxE-9G",
    "pycharm": {
     "name": "#%%\n"
    }
   },
   "outputs": [],
   "source": [
    "combined.index[0:49], combined.index[50:99],combined.index[100:149],combined.index[150:198]   "
   ]
  },
  {
   "cell_type": "code",
   "execution_count": null,
   "metadata": {
    "colab": {
     "base_uri": "https://localhost:8080/",
     "height": 394
    },
    "id": "IlLivQ3oGjMQ",
    "outputId": "11d591d8-de0b-4759-85ed-000aec03388d",
    "pycharm": {
     "name": "#%%\n"
    }
   },
   "outputs": [],
   "source": [
    "combined.sort_values(\"letality_rate_2\", ascending=False).head(10)"
   ]
  },
  {
   "cell_type": "code",
   "execution_count": null,
   "metadata": {
    "colab": {
     "base_uri": "https://localhost:8080/",
     "height": 930
    },
    "id": "qRRMVO36MQey",
    "outputId": "b4cbb775-a229-4ba0-bf4f-f7f32c4a58e4",
    "pycharm": {
     "name": "#%%\n"
    }
   },
   "outputs": [],
   "source": [
    "fig1 = plt.figure(figsize=(15,5))\n",
    "ax1 = letality_rate_1.sort_values(ascending=False)[:15].plot(kind='bar', color ='green')\n",
    "ax1 = plt.title(\"Covid-19, letality rate 1 until 8/4/21\", loc='left', pad='30',fontsize = 25)\n",
    "plt.show()\n",
    "\n",
    "fig2 = plt.figure(figsize=(15,5))\n",
    "ax2 = letality_rate_2.sort_values(ascending=False)[:15].plot(kind='bar')\n",
    "ax2 = plt.title(\"Covid-19, letality rate 2 until 8/4/21\", loc='left', pad='30',fontsize = 25)\n",
    "plt.show()"
   ]
  },
  {
   "cell_type": "code",
   "execution_count": null,
   "metadata": {
    "colab": {
     "base_uri": "https://localhost:8080/",
     "height": 307
    },
    "id": "227H8AaDQvLA",
    "outputId": "87e7fdd6-c54e-42b7-88b8-579e3f18826f",
    "pycharm": {
     "name": "#%%\n"
    }
   },
   "outputs": [],
   "source": [
    "combined [[\"confirmed\", \"letality_rate_1\"]].plot()"
   ]
  },
  {
   "cell_type": "markdown",
   "metadata": {
    "id": "00u8AcGISMbH",
    "pycharm": {
     "name": "#%% md\n"
    }
   },
   "source": [
    "Como a visualização, usando a função plot nao ficou clara, vamos utilizar os gráficos do **Seaborn**"
   ]
  },
  {
   "cell_type": "code",
   "execution_count": null,
   "metadata": {
    "id": "vxi6zRhiSayH",
    "pycharm": {
     "name": "#%%\n"
    }
   },
   "outputs": [],
   "source": [
    "import seaborn as sns"
   ]
  },
  {
   "cell_type": "code",
   "execution_count": null,
   "metadata": {
    "colab": {
     "base_uri": "https://localhost:8080/",
     "height": 296
    },
    "id": "ObbqYO2rR-gL",
    "outputId": "aeff79ab-9fa5-4933-ce1b-2f0d55cdb40b",
    "pycharm": {
     "name": "#%%\n"
    }
   },
   "outputs": [],
   "source": [
    "sns.scatterplot(data = combined, x = \"confirmed\", y = \"letality_rate_1\")"
   ]
  },
  {
   "cell_type": "code",
   "execution_count": null,
   "metadata": {
    "colab": {
     "base_uri": "https://localhost:8080/",
     "height": 296
    },
    "id": "lcrFL8LKRoxp",
    "outputId": "80e96c87-c36e-4a5b-8a60-77347add40ac",
    "pycharm": {
     "name": "#%%\n"
    }
   },
   "outputs": [],
   "source": [
    "sns.scatterplot(data = combined.query(\"confirmed >50000\"), x = \"confirmed\", y = \"letality_rate_1\", color ='orange' )"
   ]
  },
  {
   "cell_type": "code",
   "execution_count": null,
   "metadata": {
    "colab": {
     "base_uri": "https://localhost:8080/",
     "height": 369
    },
    "id": "MUN4ZDdSThWY",
    "outputId": "e72021a8-2a09-49fa-fb36-66e6acf4f7e1",
    "pycharm": {
     "name": "#%%\n"
    }
   },
   "outputs": [],
   "source": [
    "sns.displot(combined.query(\"confirmed > 50000\")[\"letality_rate_1\"])\n",
    "plt.show()"
   ]
  },
  {
   "cell_type": "code",
   "execution_count": null,
   "metadata": {
    "id": "tfMKrNuT50MS",
    "pycharm": {
     "name": "#%%\n"
    }
   },
   "outputs": [],
   "source": [
    "def latest_by_country_at(data, date):\n",
    "  return data.groupby(\"Country/Region\").sum()[date]"
   ]
  },
  {
   "cell_type": "code",
   "execution_count": null,
   "metadata": {
    "colab": {
     "base_uri": "https://localhost:8080/"
    },
    "id": "AzAWbqneUEp9",
    "outputId": "f0dcfc53-add3-4e3c-c91e-295455ca5680",
    "pycharm": {
     "name": "#%%\n"
    }
   },
   "outputs": [],
   "source": [
    "informations = [latest_by_country_at(confirmed, '2/20/20'), latest_by_country_at(deaths, '2/20/20'), latest_by_country_at(recovered, '2/20/20')]\n",
    "combined_2_20_20 = pd.concat(informations, axis=1)\n",
    "combined_2_20_20.columns = [\"confirmed\", \"deaths\", \"recovered\"]\n",
    "\n",
    "sum_up = combined_2_20_20.loc[\"China\"]\n",
    "\n",
    "letality_rate_1 = sum_up[\"deaths\"]/sum_up[\"confirmed\"] * 100\n",
    "letality_rate_2 = sum_up[\"deaths\"]/(sum_up[\"recovered\"]+sum_up[\"deaths\"]) * 100\n",
    "\n",
    "print(letality_rate_1)\n",
    "print(letality_rate_2)\n"
   ]
  },
  {
   "cell_type": "code",
   "execution_count": null,
   "metadata": {
    "colab": {
     "base_uri": "https://localhost:8080/",
     "height": 104
    },
    "id": "QAsIEQCn7bHw",
    "outputId": "83aa8776-9622-45c1-bfc6-e7c3497cc919",
    "pycharm": {
     "name": "#%%\n"
    }
   },
   "outputs": [],
   "source": [
    "informations = [latest_by_country_at(confirmed, '2/8/20'), latest_by_country_at(deaths, '2/20/20'), latest_by_country_at(recovered, '2/20/20')]\n",
    "combined_12 = pd.concat(informations, axis=1)\n",
    "combined_12.columns = [\"confirmed\", \"deaths\", \"recovered\"]\n",
    "\n",
    "sum_up = combined_12.loc[\"China\"]\n",
    "\n",
    "letality_rate_3 = sum_up[\"deaths\"]/sum_up[\"confirmed\"] * 100\n",
    "\n",
    "print(letality_rate_3)\n",
    "display(sum_up)"
   ]
  },
  {
   "cell_type": "markdown",
   "metadata": {
    "id": "chvvn7pECIz-",
    "pycharm": {
     "name": "#%% md\n"
    }
   },
   "source": [
    "#**Segunda Parte**"
   ]
  },
  {
   "cell_type": "code",
   "execution_count": null,
   "metadata": {
    "colab": {
     "base_uri": "https://localhost:8080/",
     "height": 1000
    },
    "id": "2jZXcU1k-HSw",
    "outputId": "155346b2-f665-469f-af85-e742e8398158",
    "pycharm": {
     "name": "#%%\n"
    }
   },
   "outputs": [],
   "source": [
    "confirmed.set_index(\"Country/Region\").loc[\"China\"]"
   ]
  },
  {
   "cell_type": "code",
   "execution_count": null,
   "metadata": {
    "colab": {
     "base_uri": "https://localhost:8080/"
    },
    "id": "KTJFopARCXfB",
    "outputId": "a7449308-cd91-4ec1-afa3-a8b949351f2a",
    "pycharm": {
     "name": "#%%\n"
    }
   },
   "outputs": [],
   "source": [
    "confirmed.set_index(\"Country/Region\").loc[\"China\"].sum().tail()"
   ]
  },
  {
   "cell_type": "code",
   "execution_count": null,
   "metadata": {
    "colab": {
     "base_uri": "https://localhost:8080/"
    },
    "id": "yWL6532yCmfS",
    "outputId": "0b0f527e-aeac-4076-f7c6-3ec3755334f7",
    "pycharm": {
     "name": "#%%\n"
    }
   },
   "outputs": [],
   "source": [
    "confirmed[\"Country/Region\"] == \"China\""
   ]
  },
  {
   "cell_type": "code",
   "execution_count": null,
   "metadata": {
    "colab": {
     "base_uri": "https://localhost:8080/"
    },
    "id": "lB-CGA7sDqlT",
    "outputId": "01e642db-6cef-4abb-e33a-c4ea4240bd91",
    "pycharm": {
     "name": "#%%\n"
    }
   },
   "outputs": [],
   "source": [
    "is_china = confirmed[\"Country/Region\"] == \"China\"\n",
    "is_china.tail()"
   ]
  },
  {
   "cell_type": "code",
   "execution_count": null,
   "metadata": {
    "colab": {
     "base_uri": "https://localhost:8080/",
     "height": 300
    },
    "id": "DKGbNR5_D9f9",
    "outputId": "dedb6ade-2351-42cb-f855-c6db2891b8a0",
    "pycharm": {
     "name": "#%%\n"
    }
   },
   "outputs": [],
   "source": [
    "confirmed[\"is_china\"]= is_china\n",
    "confirmed.head()"
   ]
  },
  {
   "cell_type": "code",
   "execution_count": null,
   "metadata": {
    "colab": {
     "base_uri": "https://localhost:8080/",
     "height": 1000
    },
    "id": "Mz4Oy8WtEN5G",
    "outputId": "fc9c6c3a-9e74-443e-a357-558920689a79",
    "pycharm": {
     "name": "#%%\n"
    }
   },
   "outputs": [],
   "source": [
    "confirmed.query(\"is_china\")"
   ]
  },
  {
   "cell_type": "code",
   "execution_count": null,
   "metadata": {
    "colab": {
     "base_uri": "https://localhost:8080/",
     "height": 237
    },
    "id": "XqjxQBXHEblt",
    "outputId": "e8a117e2-e45c-486f-ae53-e3d57aa5386c",
    "pycharm": {
     "name": "#%%\n"
    }
   },
   "outputs": [],
   "source": [
    "confirmed.groupby(\"is_china\").sum()"
   ]
  },
  {
   "cell_type": "code",
   "execution_count": null,
   "metadata": {
    "colab": {
     "base_uri": "https://localhost:8080/",
     "height": 265
    },
    "id": "fqndAv6LEwiP",
    "outputId": "c91d94c5-d929-4717-9084-4a10ffc08814",
    "pycharm": {
     "name": "#%%\n"
    }
   },
   "outputs": [],
   "source": [
    "date = '3/20/20'\n",
    "confirmed.groupby(\"is_china\").sum()[date].plot(kind = 'pie')"
   ]
  },
  {
   "cell_type": "code",
   "execution_count": null,
   "metadata": {
    "colab": {
     "base_uri": "https://localhost:8080/",
     "height": 298
    },
    "id": "7_KPB-YjFF8D",
    "outputId": "0416024d-89df-4de9-f2e8-15bc4e7dc821",
    "pycharm": {
     "name": "#%%\n"
    }
   },
   "outputs": [],
   "source": [
    "confirmed.groupby(\"is_china\").sum()[date].plot(kind = 'bar')\n",
    "plt.show()"
   ]
  },
  {
   "cell_type": "code",
   "execution_count": null,
   "metadata": {
    "id": "q8yNSLOAF7Xv",
    "pycharm": {
     "name": "#%%\n"
    }
   },
   "outputs": [],
   "source": [
    "import numpy as np"
   ]
  },
  {
   "cell_type": "code",
   "execution_count": null,
   "metadata": {
    "colab": {
     "base_uri": "https://localhost:8080/"
    },
    "id": "c5umt8kWGD7g",
    "outputId": "13646acd-e899-45dd-ccb0-5908d185ec4d",
    "pycharm": {
     "name": "#%%\n"
    }
   },
   "outputs": [],
   "source": [
    "np.where(confirmed[\"is_china\"], 'China', 'Others')"
   ]
  },
  {
   "cell_type": "code",
   "execution_count": null,
   "metadata": {
    "colab": {
     "base_uri": "https://localhost:8080/",
     "height": 553
    },
    "id": "_QANQsBaFnq2",
    "outputId": "6ee2aa9b-3d05-4f9e-f39c-34628e75d965",
    "pycharm": {
     "name": "#%%\n"
    }
   },
   "outputs": [],
   "source": [
    "confirmed['is_china_label']= np.where(confirmed[\"is_china\"], 'China', 'Others')\n",
    "display(confirmed.head())\n",
    "display(confirmed.tail())"
   ]
  },
  {
   "cell_type": "code",
   "execution_count": null,
   "metadata": {
    "colab": {
     "base_uri": "https://localhost:8080/",
     "height": 398
    },
    "id": "82raiC-UG1gH",
    "outputId": "9b95eeca-bc5a-4fa6-889c-c24247796d07",
    "pycharm": {
     "name": "#%%\n"
    }
   },
   "outputs": [],
   "source": [
    "date = '3/2/20'\n",
    "\n",
    "plt.figure(figsize=(10,5))\n",
    "confirmed.groupby(\"is_china_label\").sum()[date].plot(kind = 'bar')\n",
    "plt.title(f\"Casos confirmados acumulados até {date}\", loc = 'left',pad='25',fontsize = 20 )\n",
    "plt.show()"
   ]
  },
  {
   "cell_type": "code",
   "execution_count": null,
   "metadata": {
    "colab": {
     "base_uri": "https://localhost:8080/",
     "height": 344
    },
    "id": "fXu3EwHsHaY2",
    "outputId": "ac62343a-619f-4449-981d-4711a645df12",
    "pycharm": {
     "name": "#%%\n"
    }
   },
   "outputs": [],
   "source": [
    "summed = confirmed.groupby(\"is_china_label\").sum()\n",
    "summed [\"delta\"] = summed ['3/2/20']- summed ['3/1/20']\n",
    "summed[\"delta\"].plot(kind='bar')\n",
    "plt.title(f\"Novos casos confirmados em {date}\", loc = 'left',pad='25',fontsize = 20 )\n",
    "plt.show()"
   ]
  },
  {
   "cell_type": "code",
   "execution_count": null,
   "metadata": {
    "colab": {
     "base_uri": "https://localhost:8080/",
     "height": 424
    },
    "id": "Ikxsb289KyDq",
    "outputId": "2b91d76d-b8b4-49c4-8a76-3457d0b1c309",
    "pycharm": {
     "name": "#%%\n"
    }
   },
   "outputs": [],
   "source": [
    "summed.T[2:-2]"
   ]
  },
  {
   "cell_type": "code",
   "execution_count": null,
   "metadata": {
    "colab": {
     "base_uri": "https://localhost:8080/",
     "height": 305
    },
    "id": "e5UfZ5InJUan",
    "outputId": "6660394d-0945-4384-f2eb-0369ece75f62",
    "pycharm": {
     "name": "#%%\n"
    }
   },
   "outputs": [],
   "source": [
    "summed.T[2:-2].plot()\n",
    "plt.title(f\"Evolução dos casos com o passar do tempo \", loc = 'left',pad='25',fontsize = 20 )\n",
    "plt.show()"
   ]
  },
  {
   "cell_type": "code",
   "execution_count": null,
   "metadata": {
    "colab": {
     "base_uri": "https://localhost:8080/",
     "height": 305
    },
    "id": "OffWi-3xLLbc",
    "outputId": "3910de90-101c-41e0-f0fd-c20381d6f835",
    "pycharm": {
     "name": "#%%\n"
    }
   },
   "outputs": [],
   "source": [
    "\n",
    "differences =summed.T[2:-2].diff().dropna()\n",
    "differences.plot()\n",
    "plt.title(f\"Casos novos no tempo \", loc = 'left',pad='25',fontsize = 20 )\n",
    "plt.show()\n"
   ]
  },
  {
   "cell_type": "markdown",
   "metadata": {
    "id": "zwdhknIwd9I1",
    "pycharm": {
     "name": "#%% md\n"
    }
   },
   "source": [
    "# Criando novas referências\n",
    "\n",
    "A partir deste ponto iremos cruzar os dados com outras bases, como a da população mundial, fornecida pela ONU."
   ]
  },
  {
   "cell_type": "code",
   "execution_count": null,
   "metadata": {
    "id": "UGy0CHFSLOyH",
    "pycharm": {
     "name": "#%%\n"
    }
   },
   "outputs": [],
   "source": [
    "un_population = pd.read_csv('https://population.un.org/wpp/Download/Files/1_Indicators%20(Standard)/CSV_FILES/WPP2019_TotalPopulationBySex.csv')"
   ]
  },
  {
   "cell_type": "code",
   "execution_count": null,
   "metadata": {
    "colab": {
     "base_uri": "https://localhost:8080/",
     "height": 206
    },
    "id": "xxP3i1_QebB8",
    "outputId": "88393c80-1bfb-40c7-bdb9-c4b68ae9564e",
    "pycharm": {
     "name": "#%%\n"
    }
   },
   "outputs": [],
   "source": [
    "un_population[\"PopTotal\"] = un_population[\"PopTotal\"]*1000\n",
    "un_population.head()"
   ]
  },
  {
   "cell_type": "code",
   "execution_count": null,
   "metadata": {
    "colab": {
     "base_uri": "https://localhost:8080/",
     "height": 300
    },
    "id": "lMiYLUfjkxJZ",
    "outputId": "fb5ddc5b-a550-4f34-9299-266f7e8023a3",
    "pycharm": {
     "name": "#%%\n"
    }
   },
   "outputs": [],
   "source": [
    "un_population.describe()"
   ]
  },
  {
   "cell_type": "code",
   "execution_count": null,
   "metadata": {
    "colab": {
     "base_uri": "https://localhost:8080/"
    },
    "id": "Folma0TOk3Ox",
    "outputId": "347a11f7-0d4a-47ac-f865-bb869fabb70f",
    "pycharm": {
     "name": "#%%\n"
    }
   },
   "outputs": [],
   "source": [
    "un_population.VarID.unique().shape, un_population.VarID.unique(), un_population.Variant.unique()\n"
   ]
  },
  {
   "cell_type": "markdown",
   "metadata": {
    "id": "VzqD_mBg5Ue0",
    "pycharm": {
     "name": "#%% md\n"
    }
   },
   "source": [
    "## Selecionando o VarID mais adequado\n",
    "\n",
    "A nova base de dados disponibilizada pela ONU inclui pelo menos 14 variantes de população. E para esta análise foram selecionadas as classificadas como **Medium**."
   ]
  },
  {
   "cell_type": "code",
   "execution_count": null,
   "metadata": {
    "id": "KmhqLM_Oeeo_",
    "pycharm": {
     "name": "#%%\n"
    }
   },
   "outputs": [],
   "source": [
    "un_population_2022_med = un_population.query(\"Time==2022\").query(\"Variant=='Medium'\")\n"
   ]
  },
  {
   "cell_type": "code",
   "execution_count": null,
   "metadata": {
    "colab": {
     "base_uri": "https://localhost:8080/",
     "height": 424
    },
    "id": "cxZbk9vGpo_o",
    "outputId": "fe930904-6589-40ca-e4cb-1bc2b4f71835",
    "pycharm": {
     "name": "#%%\n"
    }
   },
   "outputs": [],
   "source": [
    "un_population_2022_med\n"
   ]
  },
  {
   "cell_type": "code",
   "execution_count": null,
   "metadata": {
    "colab": {
     "base_uri": "https://localhost:8080/",
     "height": 424
    },
    "id": "Y_WDwwxqjji9",
    "outputId": "c744ffbb-6e31-4f61-bd70-fd8569b9f4ed",
    "pycharm": {
     "name": "#%%\n"
    }
   },
   "outputs": [],
   "source": [
    "un_population_2022_med[[\"Location\",\"PopTotal\"]]"
   ]
  },
  {
   "cell_type": "code",
   "execution_count": null,
   "metadata": {
    "id": "-2G9M4Zvj9ZC",
    "pycharm": {
     "name": "#%%\n"
    }
   },
   "outputs": [],
   "source": [
    "un_population_2022_med = un_population_2022_med[[\"Location\",\"PopTotal\"]].set_index(\"Location\")"
   ]
  },
  {
   "cell_type": "code",
   "execution_count": null,
   "metadata": {
    "colab": {
     "base_uri": "https://localhost:8080/",
     "height": 455
    },
    "id": "uQEQ8WUYsG-u",
    "outputId": "4a0fa8bd-90ea-4e2f-95a5-48e179459337",
    "pycharm": {
     "name": "#%%\n"
    }
   },
   "outputs": [],
   "source": [
    "un_population_2022_med"
   ]
  },
  {
   "cell_type": "code",
   "execution_count": null,
   "metadata": {
    "colab": {
     "base_uri": "https://localhost:8080/",
     "height": 424
    },
    "id": "Ums25mxYkF-6",
    "outputId": "e2ff05ea-904e-447b-fc07-1a62d8205af9",
    "pycharm": {
     "name": "#%%\n"
    }
   },
   "outputs": [],
   "source": [
    "combined.join(un_population_2022_med)"
   ]
  },
  {
   "cell_type": "code",
   "execution_count": null,
   "metadata": {
    "colab": {
     "base_uri": "https://localhost:8080/",
     "height": 1000
    },
    "id": "o8S9qr3ysQuU",
    "outputId": "624b1dbc-4e91-4b60-c63d-6455885b88fd",
    "pycharm": {
     "name": "#%%\n"
    }
   },
   "outputs": [],
   "source": [
    "combined.join(un_population_2022_med).sort_values(\"confirmed\", ascending=False)[150:198]"
   ]
  },
  {
   "cell_type": "code",
   "execution_count": null,
   "metadata": {
    "colab": {
     "base_uri": "https://localhost:8080/"
    },
    "id": "tOkYzViutndx",
    "outputId": "e3360527-75cb-4a6a-e533-945210827b3a",
    "pycharm": {
     "name": "#%%\n"
    }
   },
   "outputs": [],
   "source": [
    "un_population_2022_med.index"
   ]
  },
  {
   "cell_type": "code",
   "execution_count": null,
   "metadata": {
    "colab": {
     "base_uri": "https://localhost:8080/"
    },
    "id": "McT7CZpsGBUP",
    "outputId": "a38238f9-9490-4ae8-8248-396606c0aeb0",
    "pycharm": {
     "name": "#%%\n"
    }
   },
   "outputs": [],
   "source": [
    "un_population_2022_med.index[0:99], un_population_2022_med.index[100:199], un_population_2022_med.index[200:299], un_population_2022_med.index[300:399], un_population_2022_med.index[400:]"
   ]
  },
  {
   "cell_type": "code",
   "execution_count": null,
   "metadata": {
    "colab": {
     "base_uri": "https://localhost:8080/"
    },
    "id": "R7isOGCkF_1F",
    "outputId": "ab6045a8-2ea4-4cc7-ed36-ae84d7f744f6",
    "pycharm": {
     "name": "#%%\n"
    }
   },
   "outputs": [],
   "source": [
    "combined.index[0:49], combined.index[50:99],combined.index[100:149],combined.index[150:198]   "
   ]
  },
  {
   "cell_type": "markdown",
   "metadata": {
    "id": "2dSYCR4l2eQO",
    "pycharm": {
     "name": "#%% md\n"
    }
   },
   "source": [
    "##Engine Python\n",
    "\n",
    "O query do Pandas nao dispoe do metodo que permita procurar por uma string em determinada coluna e por esta razão podemos utilizar o engine do Python para usar esta funcionalidade.\n",
    "\n",
    "Como os nomes dos paises na base de dados da ONU não coincidem com aqueles das bases usadas pela OMS, precisaremos investigar como estão organizados a fim de gear os cruzamentos adequados. "
   ]
  },
  {
   "cell_type": "code",
   "execution_count": null,
   "metadata": {
    "colab": {
     "base_uri": "https://localhost:8080/",
     "height": 300
    },
    "id": "juP1_p-GuLkU",
    "outputId": "ecd3f3ad-8103-4d6f-dca4-2b971acdf776",
    "pycharm": {
     "name": "#%%\n"
    }
   },
   "outputs": [],
   "source": [
    "un_population_2022_med.query(\"Location.str.contains('China')\", engine ='python')"
   ]
  },
  {
   "cell_type": "code",
   "execution_count": null,
   "metadata": {
    "id": "0p1goi-yuffr",
    "pycharm": {
     "name": "#%%\n"
    }
   },
   "outputs": [],
   "source": [
    "def rename_location(location):\n",
    "  if location ==\"United States of America\":\n",
    "    return 'US'\n",
    "  if location ==\"Iran (Islamic Republic of)\":\n",
    "    return \"Iran\"\n",
    "  if location ==\"Russian Federation\":\n",
    "    return \"Russia\"\n",
    "  if location ==\"Bolivia (Plurinational State of)\":\n",
    "    return \"Bolivia\"    \n",
    "  if location ==\"Myanmar\":\n",
    "    return \"Burma\"\n",
    "  if location ==\"State of Palestine\":\n",
    "    return \"West Bank and Gaza\"\n",
    "  if location ==\"Venezuela (Bolivarian Republic of)\":\n",
    "    return \"Venezuela\"\n",
    "  if location ==\"Republic of Moldova\":\n",
    "    return \"Moldova\"\n",
    "  if location ==\"Republic of Korea\":\n",
    "    return \"Korea, South\"\n",
    "  if location ==\"Viet Nam\":\n",
    "    return \"Vietnam\"\n",
    "  if location ==\"Democratic Republic of the Congo\":\n",
    "    return \"Congo\"\n",
    "  if location ==\"Congo\":\n",
    "    return \"Congo (Kinshasa)\"\n",
    "  if location ==\"Côte d'Ivoire\":\n",
    "    return \"Cote d'Ivoire\"\n",
    "  if location ==\"Syrian Arab Republic\":\n",
    "    return \"Syria\"\n",
    "  if location ==\"China, Taiwan Province of China\":\n",
    "    return \"Taiwan*\"\n",
    "  if location ==\"Lao People's Democratic Republic\":\n",
    "    return \"Laos\"\n",
    "  if location ==\"United Republic of Tanzania\":\n",
    "    return \"Tanzania\"\n",
    "  if location ==\"Brunei Darussalam\":\n",
    "    return \"Brunei\"\n",
    "  return location"
   ]
  },
  {
   "cell_type": "code",
   "execution_count": null,
   "metadata": {
    "colab": {
     "base_uri": "https://localhost:8080/",
     "height": 238
    },
    "id": "ahNdZ0EdQi0L",
    "outputId": "5bbebdd2-185c-4864-8b70-bcee98157139",
    "pycharm": {
     "name": "#%%\n"
    }
   },
   "outputs": [],
   "source": [
    "un_population_2022_med['location_for_who'] = un_population_2022_med.index.map(rename_location)\n",
    "un_population_2022_med.head()"
   ]
  },
  {
   "cell_type": "code",
   "execution_count": null,
   "metadata": {
    "id": "_PadiocoRAQn",
    "pycharm": {
     "name": "#%%\n"
    }
   },
   "outputs": [],
   "source": [
    "un_population_2022_med = un_population_2022_med.set_index(\"location_for_who\")\n"
   ]
  },
  {
   "cell_type": "code",
   "execution_count": null,
   "metadata": {
    "colab": {
     "base_uri": "https://localhost:8080/",
     "height": 238
    },
    "id": "howlmi-FRlU7",
    "outputId": "babeebb4-2307-45e2-eca7-a0dcab2358b0",
    "pycharm": {
     "name": "#%%\n"
    }
   },
   "outputs": [],
   "source": [
    "un_population_2022_med.head()"
   ]
  },
  {
   "cell_type": "code",
   "execution_count": null,
   "metadata": {
    "colab": {
     "base_uri": "https://localhost:8080/",
     "height": 424
    },
    "id": "HPcn-EYASwUz",
    "outputId": "23c6f09c-1e8b-4fc2-fc7a-a3fca1187b0b",
    "pycharm": {
     "name": "#%%\n"
    }
   },
   "outputs": [],
   "source": [
    "combined_expanded = combined.join(un_population_2022_med).sort_values(\"confirmed\", ascending = False).dropna()\n",
    "combined_expanded "
   ]
  },
  {
   "cell_type": "code",
   "execution_count": null,
   "metadata": {
    "id": "3U7QLXbOTT4K",
    "pycharm": {
     "name": "#%%\n"
    }
   },
   "outputs": [],
   "source": [
    "combined_expanded['incidence_ratio'] = combined_expanded['confirmed']/combined_expanded['PopTotal']*100000\n"
   ]
  },
  {
   "cell_type": "code",
   "execution_count": null,
   "metadata": {
    "colab": {
     "base_uri": "https://localhost:8080/",
     "height": 677
    },
    "id": "dduyzq3XV3ph",
    "outputId": "1d27939a-85cd-43e5-aeba-92224fd95db1",
    "pycharm": {
     "name": "#%%\n"
    }
   },
   "outputs": [],
   "source": [
    "combined_expanded.head(20) "
   ]
  },
  {
   "cell_type": "code",
   "execution_count": null,
   "metadata": {
    "id": "fkWjYigjVhWH",
    "pycharm": {
     "name": "#%%\n"
    }
   },
   "outputs": [],
   "source": [
    "combined_expanded['mortality_ratio'] = combined_expanded['deaths']/combined_expanded['PopTotal']*100000"
   ]
  },
  {
   "cell_type": "code",
   "execution_count": null,
   "metadata": {
    "colab": {
     "base_uri": "https://localhost:8080/",
     "height": 677
    },
    "id": "DfCPiph6WQHb",
    "outputId": "93de24ee-1df1-4fc6-d5b3-ccddd5b5ad7f",
    "pycharm": {
     "name": "#%%\n"
    }
   },
   "outputs": [],
   "source": [
    "combined_expanded.head(20) "
   ]
  },
  {
   "cell_type": "code",
   "execution_count": null,
   "metadata": {
    "colab": {
     "base_uri": "https://localhost:8080/",
     "height": 261
    },
    "id": "k3kVbYnRZC1t",
    "outputId": "a5f4b7ae-3413-4601-f0ce-d222ec4e70bb",
    "pycharm": {
     "name": "#%%\n"
    }
   },
   "outputs": [],
   "source": [
    "grouped_per_day = pd.DataFrame([confirmed.sum()[3:-1], recovered.sum()[2:], deaths.sum()[2:]], \n",
    "             index=[\"confirmed\", \"recovered\", 'deaths']).T.dropna()\n",
    "\n",
    "grouped_per_day.head()\n"
   ]
  },
  {
   "cell_type": "code",
   "execution_count": null,
   "metadata": {
    "id": "6Gthfef1ZpKU",
    "pycharm": {
     "name": "#%%\n"
    }
   },
   "outputs": [],
   "source": [
    "grouped_per_day[\"letality_rate_1\"]= grouped_per_day[\"deaths\"]/grouped_per_day['confirmed']*100\n",
    "grouped_per_day[\"letality_rate_2\"]= grouped_per_day[\"deaths\"]/(grouped_per_day['recovered']+grouped_per_day[\"deaths\"])*100"
   ]
  },
  {
   "cell_type": "code",
   "execution_count": null,
   "metadata": {
    "colab": {
     "base_uri": "https://localhost:8080/",
     "height": 206
    },
    "id": "_-aDxyM8bdAC",
    "outputId": "4458589d-401c-4cc2-bdef-fb9e8ed4859f",
    "pycharm": {
     "name": "#%%\n"
    }
   },
   "outputs": [],
   "source": [
    "grouped_per_day.head()"
   ]
  },
  {
   "cell_type": "code",
   "execution_count": null,
   "metadata": {
    "colab": {
     "base_uri": "https://localhost:8080/",
     "height": 373
    },
    "id": "cTMPxF88binS",
    "outputId": "e8c392b7-5df7-4b87-c850-64ddfe564faa",
    "pycharm": {
     "name": "#%%\n"
    }
   },
   "outputs": [],
   "source": [
    "plt.figure(figsize=(12,5)) \n",
    "grouped_per_day[\"letality_rate_1\"].plot()\n",
    "ax = grouped_per_day[\"letality_rate_2\"].plot()\n",
    "plt.legend(['Mortes/Confirmados', 'Mortes/(Mortes + Recuperados)'])\n",
    "plt.title(\"Covid-19 - mortes por casos confirmados no mundo todo\", loc = 'left', fontsize = 18, pad = 25)\n",
    "plt.grid(linestyle = '-')\n",
    "ax.set_xlabel(\"Fonte; curso www.alura.com.br e dados Johns Hopkins CSSE https://github.com/CSSEGISandData/COVID-19\", fontsize = 10)\n",
    "ax.set_ylabel(\"% Letalidade\", fontsize = 14)\n",
    "plt.show()"
   ]
  },
  {
   "cell_type": "code",
   "execution_count": null,
   "metadata": {
    "id": "i9YKS0_db34Z",
    "pycharm": {
     "name": "#%%\n"
    }
   },
   "outputs": [],
   "source": []
  }
 ],
 "metadata": {
  "colab": {
   "name": "Curso Data Science e Saude.ipynb",
   "provenance": []
  },
  "kernelspec": {
   "display_name": "Python 3 (ipykernel)",
   "language": "python",
   "name": "python3"
  },
  "language_info": {
   "codemirror_mode": {
    "name": "ipython",
    "version": 3
   },
   "file_extension": ".py",
   "mimetype": "text/x-python",
   "name": "python",
   "nbconvert_exporter": "python",
   "pygments_lexer": "ipython3",
   "version": "3.10.0"
  }
 },
 "nbformat": 4,
 "nbformat_minor": 1
}